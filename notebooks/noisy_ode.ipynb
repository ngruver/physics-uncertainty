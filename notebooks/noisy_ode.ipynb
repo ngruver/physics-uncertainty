{
 "metadata": {
  "language_info": {
   "codemirror_mode": {
    "name": "ipython",
    "version": 3
   },
   "file_extension": ".py",
   "mimetype": "text/x-python",
   "name": "python",
   "nbconvert_exporter": "python",
   "pygments_lexer": "ipython3",
   "version": "3.8.6-final"
  },
  "orig_nbformat": 2,
  "kernelspec": {
   "name": "Python 3.8.6 64-bit ('physics-uncertainty': conda)",
   "display_name": "Python 3.8.6 64-bit ('physics-uncertainty': conda)",
   "metadata": {
    "interpreter": {
     "hash": "c98489ae41496265973556a0a8d3666e6fe7c94f78d002ec8bab87b5d0584f0d"
    }
   }
  }
 },
 "nbformat": 4,
 "nbformat_minor": 2,
 "cells": [
  {
   "cell_type": "code",
   "execution_count": null,
   "metadata": {},
   "outputs": [],
   "source": [
    "import torch\n",
    "import torch.nn as nn\n",
    "# from torchdiffeq import odeint_adjoint as odeint\n",
    "from torchdiffeq import odeint\n",
    "import altair as alt\n",
    "import pandas as pd\n",
    "import numpy as np\n",
    "\n",
    "device = 'cuda:0' if torch.cuda.is_available() else None"
   ]
  },
  {
   "cell_type": "code",
   "execution_count": null,
   "metadata": {},
   "outputs": [],
   "source": [
    "class Lambda(nn.Module):\n",
    "    def __init__(self):\n",
    "        super().__init__()\n",
    "        self.register_buffer('A', torch.tensor([[-0.1, 2.0], [-2.0, -0.1]]))\n",
    "    def forward(self, t, y):\n",
    "        dz = (y**3).mm(self.A)\n",
    "        return dz #+ torch.randn_like(dz)"
   ]
  },
  {
   "cell_type": "code",
   "execution_count": null,
   "metadata": {},
   "outputs": [],
   "source": [
    "with torch.no_grad():\n",
    "    true_y0 = torch.tensor([[2., 0.]]).to(device)\n",
    "    t = torch.linspace(0., 25., 1000).to(device)\n",
    "    true_y = odeint(Lambda().to(device), true_y0, t, method='dopri5')"
   ]
  },
  {
   "cell_type": "code",
   "execution_count": null,
   "metadata": {},
   "outputs": [],
   "source": [
    "alt.Chart(pd.DataFrame({\n",
    "    'x': true_y[:, 0, 0].cpu().numpy(),\n",
    "    'y': true_y[:, 0, 1].cpu().numpy(),\n",
    "    't': t.cpu().numpy(),\n",
    "})).mark_circle().encode(x='x:Q', y='y:Q', color=alt.Color('t:Q', scale=alt.Scale(scheme='plasma')))"
   ]
  },
  {
   "cell_type": "code",
   "execution_count": null,
   "metadata": {},
   "outputs": [],
   "source": []
  }
 ]
}