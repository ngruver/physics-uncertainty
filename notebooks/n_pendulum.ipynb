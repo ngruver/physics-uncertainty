{
 "metadata": {
  "language_info": {
   "codemirror_mode": {
    "name": "ipython",
    "version": 3
   },
   "file_extension": ".py",
   "mimetype": "text/x-python",
   "name": "python",
   "nbconvert_exporter": "python",
   "pygments_lexer": "ipython3",
   "version": "3.8.6-final"
  },
  "orig_nbformat": 2,
  "kernelspec": {
   "name": "Python 3.8.6 64-bit ('physics-uncertainty': conda)",
   "display_name": "Python 3.8.6 64-bit ('physics-uncertainty': conda)",
   "metadata": {
    "interpreter": {
     "hash": "c98489ae41496265973556a0a8d3666e6fe7c94f78d002ec8bab87b5d0584f0d"
    }
   }
  }
 },
 "nbformat": 4,
 "nbformat_minor": 2,
 "cells": [
  {
   "cell_type": "code",
   "execution_count": null,
   "metadata": {},
   "outputs": [],
   "source": [
    "import sys, os\n",
    "\n",
    "if os.path.abspath('..') not in sys.path:\n",
    "    sys.path.insert(0, os.path.abspath('..'))\n",
    "\n",
    "import torch\n",
    "import torch.nn as nn\n",
    "# from torchdiffeq import odeint_adjoint as odeint\n",
    "from torchdiffeq import odeint\n",
    "import altair as alt\n",
    "import pandas as pd\n",
    "import numpy as np\n",
    "import matplotlib.pyplot as plt\n",
    "\n",
    "alt.data_transformers.disable_max_rows()\n",
    "\n",
    "device = 'cuda:0' if torch.cuda.is_available() else None"
   ]
  },
  {
   "source": [
    "## Example N-Pendulum Simulation"
   ],
   "cell_type": "markdown",
   "metadata": {}
  },
  {
   "cell_type": "code",
   "execution_count": null,
   "metadata": {},
   "outputs": [],
   "source": [
    "from src.systems import ChainPendulum\n",
    "from src.systems.rigid_body import project_onto_constraints\n",
    "\n",
    "body = ChainPendulum(3)\n",
    "\n",
    "# z0 = body.sample_initial_conditions(10)\n",
    "z0 = body.sample_initial_conditions(1).expand(10, -1, -1, -1)\n",
    "z0 = project_onto_constraints(body.body_graph, z0 + 0.1 * torch.rand_like(z0), tol=1e-5)"
   ]
  },
  {
   "cell_type": "code",
   "execution_count": null,
   "metadata": {},
   "outputs": [],
   "source": [
    "ts = torch.arange(0., 10.0, body.dt, device=z0.device, dtype=z0.dtype)\n",
    "zt = body.integrate(z0, ts, method='rk4')"
   ]
  },
  {
   "cell_type": "code",
   "execution_count": null,
   "metadata": {},
   "outputs": [],
   "source": [
    "body_idx, dof_idx = 2, 0\n",
    "alt.Chart(pd.DataFrame({\n",
    "    't': ts.unsqueeze(0).expand(zt.size(0), -1).cpu().numpy().flatten(),\n",
    "    'y': zt[..., 0, body_idx, dof_idx].flatten().cpu().numpy().flatten(),\n",
    "    'init': (torch.arange(zt.size(0)) + 1).unsqueeze(-1).expand(-1, zt.size(1)).cpu().numpy().flatten()\n",
    "})).mark_line(opacity=0.5).encode(x='t:Q', y=alt.Y('y:Q'), color='init:N').properties(width=800, title=f'Mass={body_idx}, DoF={dof_idx}')"
   ]
  },
  {
   "cell_type": "code",
   "execution_count": null,
   "metadata": {},
   "outputs": [],
   "source": []
  }
 ]
}