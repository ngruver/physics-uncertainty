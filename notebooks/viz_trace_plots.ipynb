{
 "metadata": {
  "language_info": {
   "codemirror_mode": {
    "name": "ipython",
    "version": 3
   },
   "file_extension": ".py",
   "mimetype": "text/x-python",
   "name": "python",
   "nbconvert_exporter": "python",
   "pygments_lexer": "ipython3",
   "version": "3.8.6-final"
  },
  "orig_nbformat": 2,
  "kernelspec": {
   "name": "python3",
   "display_name": "Python 3"
  }
 },
 "nbformat": 4,
 "nbformat_minor": 2,
 "cells": [
  {
   "source": [
    "Use this notebook as the central place to collect all data dumps and process them into figures for _Trace plots_."
   ],
   "cell_type": "markdown",
   "metadata": {}
  },
  {
   "cell_type": "code",
   "execution_count": null,
   "metadata": {},
   "outputs": [],
   "source": [
    "import os\n",
    "import sys\n",
    "import torch\n",
    "import altair as alt\n",
    "import pandas as pd\n",
    "import numpy as np\n",
    "\n",
    "alt.data_transformers.disable_max_rows();\n"
   ]
  },
  {
   "cell_type": "code",
   "execution_count": null,
   "metadata": {},
   "outputs": [],
   "source": [
    "## TODO: change this to the dump path.\n",
    "data_dump_path = '../.log/swag-3body/files/data.pt'\n",
    "\n",
    "assert os.path.isfile(data_dump_path)\n",
    "\n",
    "data_dump = torch.load(data_dump_path)\n",
    "\n",
    "ts = data_dump.get('ts')\n",
    "z0_orig = data_dump.get('z0_orig')\n",
    "true_zt = data_dump.get('true_zt')\n",
    "true_zt_chaos = data_dump.get('true_zt_chaos').permute(1, 0, 2, 3, 4, 5)\n",
    "pred_zt = data_dump.get('pred_zt')"
   ]
  },
  {
   "cell_type": "code",
   "execution_count": null,
   "metadata": {},
   "outputs": [],
   "source": [
    "true_zt_chaos.shape"
   ]
  },
  {
   "cell_type": "code",
   "execution_count": null,
   "metadata": {},
   "outputs": [],
   "source": [
    "def plot_trace(ref, chaos, pred):\n",
    "    '''\n",
    "    M: number of samples\n",
    "    T: timesteps\n",
    "    N: number of bodies\n",
    "    The last \"2\" corresponds to xy dimension.\n",
    "    Arguments:\n",
    "        ref: T x N x 2\n",
    "        chaos: M x T x N x 2\n",
    "        pred: M x T x N x 2\n",
    "    '''\n",
    "    N = ref.size(1)\n",
    "    ref = ref.cpu().numpy()\n",
    "    label = ['x', 'y']\n",
    "\n",
    "    for n in range(N):\n",
    "        body_chart = None\n",
    "        for dof in range(2):\n",
    "            chaos_mean = chaos[..., n, dof].mean(dim=0).cpu().numpy()\n",
    "            chaos_std = chaos[..., n, dof].std(dim=0).cpu().numpy()\n",
    "\n",
    "            pred_mean = pred[..., n, dof].mean(dim=0).cpu().numpy()\n",
    "            pred_std = pred[..., n, dof].std(dim=0).cpu().numpy()\n",
    "\n",
    "            true_chart = alt.Chart(pd.DataFrame({\n",
    "                't': ts.cpu().numpy(),\n",
    "                'y': ref[:, n, dof],\n",
    "            })).mark_line(color='black',strokeDash=[5,5]).encode(x='t:Q', y=alt.Y('y:Q'))\n",
    "\n",
    "            chaos_mean_chart = alt.Chart(pd.DataFrame({\n",
    "                't': ts.cpu().numpy(),\n",
    "                'y': chaos_mean,\n",
    "                'y_lo': (chaos_mean - 2. * chaos_std),\n",
    "                'y_hi': (chaos_mean + 2. * chaos_std),\n",
    "            })).mark_line(color='blue', opacity=0.5).encode(x='t:Q', y='y:Q')\n",
    "            chaos_err_chart = chaos_mean_chart.mark_area(opacity=0.2, color='blue').encode(y='y_lo', y2='y_hi')\n",
    "\n",
    "            pred_mean_chart = alt.Chart(pd.DataFrame({\n",
    "                't': ts.cpu().numpy(),\n",
    "                'y': pred_mean,\n",
    "                'y_lo': (pred_mean - 2. * pred_std),\n",
    "                'y_hi': (pred_mean + 2. * pred_std),\n",
    "            })).mark_line(color='red', opacity=0.5).encode(x=alt.X('t'), y='y:Q')\n",
    "            pred_err_chart = pred_mean_chart.mark_area(opacity=0.2, color='red').encode(y=alt.Y('y_lo', title=label[dof]), y2='y_hi')\n",
    "\n",
    "            if dof == 0:\n",
    "                body_chart = true_chart + chaos_mean_chart + chaos_err_chart + pred_mean_chart + pred_err_chart\n",
    "            else:\n",
    "                body_chart |= true_chart + chaos_mean_chart + chaos_err_chart + pred_mean_chart + pred_err_chart\n",
    "\n",
    "        yield body_chart.properties(title=f'Body Mass {n + 1}')\n"
   ]
  },
  {
   "cell_type": "code",
   "execution_count": null,
   "metadata": {},
   "outputs": [],
   "source": [
    "traj_idx = 0\n",
    "\n",
    "all_plot = None\n",
    "for b, pl in enumerate(plot_trace(true_zt[traj_idx, :, 0, ...], true_zt_chaos[:, traj_idx, :, 0, ...], pred_zt[:, traj_idx, :, 0, ...])):\n",
    "    all_plot = pl if all_plot is None else (all_plot & pl)\n",
    "    # pl.save(f'traj{traj_idx + 1}-b{b + 1}.json')"
   ]
  },
  {
   "cell_type": "code",
   "execution_count": null,
   "metadata": {},
   "outputs": [],
   "source": [
    "all_plot"
   ]
  }
 ]
}