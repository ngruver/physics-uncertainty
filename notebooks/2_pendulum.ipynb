{
 "cells": [
  {
   "cell_type": "markdown",
   "metadata": {},
   "source": [
    "## Vanilla learning of double pendulum dynamics"
   ]
  },
  {
   "cell_type": "code",
   "execution_count": 2,
   "metadata": {},
   "outputs": [],
   "source": [
    "import sys, os\n",
    "\n",
    "if os.path.abspath('..') not in sys.path:\n",
    "    sys.path.insert(0, os.path.abspath('..'))"
   ]
  },
  {
   "cell_type": "code",
   "execution_count": 3,
   "metadata": {},
   "outputs": [
    {
     "name": "stderr",
     "output_type": "stream",
     "text": [
      "usage: ipykernel_launcher.py [-h] [--network NETWORK] [--net_cfg NET_CFG]\n",
      "                             [--lr LR] [--n_train N_TRAIN] [--regen REGEN]\n",
      "                             [--dataset DATASET] [--body BODY] [--C C]\n",
      "                             [--dtype DTYPE] [--device DEVICE] [--bs BS]\n",
      "                             [--num_epochs NUM_EPOCHS]\n",
      "                             [--trainer_config TRAINER_CONFIG]\n",
      "                             [--weight_decay WEIGHT_DECAY] [--opt_cfg OPT_CFG]\n",
      "                             [--save SAVE] [--local_rank LOCAL_RANK]\n",
      "ipykernel_launcher.py: error: unrecognized arguments: -f /Users/nategruver/Library/Jupyter/runtime/kernel-8b299f68-7691-4944-a300-503276a720dc.json\n"
     ]
    },
    {
     "ename": "SystemExit",
     "evalue": "2",
     "output_type": "error",
     "traceback": [
      "An exception has occurred, use %tb to see the full traceback.\n",
      "\u001b[0;31mSystemExit\u001b[0m\u001b[0;31m:\u001b[0m 2\n"
     ]
    },
    {
     "name": "stderr",
     "output_type": "stream",
     "text": [
      "/Users/nategruver/opt/anaconda3/lib/python3.8/site-packages/IPython/core/interactiveshell.py:3351: UserWarning: To exit: use 'exit', 'quit', or Ctrl-D.\n",
      "  warn(\"To exit: use 'exit', 'quit', or Ctrl-D.\", stacklevel=1)\n"
     ]
    }
   ],
   "source": [
    "import copy\n",
    "from oil.tuning.args import argupdated_config\n",
    "\n",
    "from src.train.det_trainer import make_trainer\n",
    "# import src.datasets as datasets\n",
    "# import src.models as models\n",
    "# import src.systems as systems\n",
    "\n",
    "defaults = copy.deepcopy(make_trainer.__kwdefaults__)\n",
    "defaults[\"save\"] = False\n",
    "# namespace = (datasets,systems,models)\n",
    "cfg = argupdated_config(defaults)#, namespace=namespace)\n",
    "cfg.pop('local_rank')\n",
    "save = cfg.pop('save')\n",
    "\n",
    "trainer = make_trainer(**cfg)\n",
    "trainer.train(cfg['num_epochs'])\n",
    "\n",
    "rollouts = trainer.test_rollouts(angular_to_euclidean= not issubclass(cfg['network'],(CH,CL)))\n",
    "print(f\"rollout error GeoMean {rollouts[0][:,1:].log().mean().exp():.3E}\")\n",
    "fname = f\"rollout_errs_{cfg['network']}_{cfg['body']}.np\"\n",
    "with open(fname,'wb') as f:\n",
    "    pickle.dump(rollouts,f)"
   ]
  },
  {
   "cell_type": "code",
   "execution_count": null,
   "metadata": {
    "scrolled": true
   },
   "outputs": [],
   "source": [
    "print(np.shape(new_zs))\n",
    "\n",
    "pos_idx = 0\n",
    "for ic_idx in range(10):\n",
    "    for body_idx in range(3):\n",
    "        plt.scatter(z0s[ic_idx,pos_idx,body_idx,0], \n",
    "                    z0s[ic_idx,pos_idx,body_idx,1])\n",
    "        plt.plot(new_zs[ic_idx,:,pos_idx,body_idx,0],\n",
    "                 new_zs[ic_idx,:,pos_idx,body_idx,1])\n",
    "\n",
    "    plt.show()\n",
    "    plt.close()"
   ]
  }
 ],
 "metadata": {
  "kernelspec": {
   "display_name": "Python 3",
   "language": "python",
   "name": "python3"
  },
  "language_info": {
   "codemirror_mode": {
    "name": "ipython",
    "version": 3
   },
   "file_extension": ".py",
   "mimetype": "text/x-python",
   "name": "python",
   "nbconvert_exporter": "python",
   "pygments_lexer": "ipython3",
   "version": "3.8.3"
  }
 },
 "nbformat": 4,
 "nbformat_minor": 2
}
