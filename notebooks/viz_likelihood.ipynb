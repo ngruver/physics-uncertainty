{
 "metadata": {
  "language_info": {
   "codemirror_mode": {
    "name": "ipython",
    "version": 3
   },
   "file_extension": ".py",
   "mimetype": "text/x-python",
   "name": "python",
   "nbconvert_exporter": "python",
   "pygments_lexer": "ipython3",
   "version": "3.8.6-final"
  },
  "orig_nbformat": 2,
  "kernelspec": {
   "name": "python3",
   "display_name": "Python 3"
  }
 },
 "nbformat": 4,
 "nbformat_minor": 2,
 "cells": [
  {
   "source": [
    "Use this notebook as the central place to collect all data dumps and process them into figures for _Likelihood plots_."
   ],
   "cell_type": "markdown",
   "metadata": {}
  },
  {
   "cell_type": "code",
   "execution_count": null,
   "metadata": {},
   "outputs": [],
   "source": [
    "import os\n",
    "import sys\n",
    "import torch\n",
    "import altair as alt\n",
    "import pandas as pd\n",
    "import numpy as np\n",
    "\n",
    "alt.data_transformers.disable_max_rows();\n"
   ]
  },
  {
   "cell_type": "code",
   "execution_count": null,
   "metadata": {},
   "outputs": [],
   "source": [
    "## TODO: change this to the dump path.\n",
    "data_dump_path = '../.log/swag-3body/files/data.pt'\n",
    "\n",
    "assert os.path.isfile(data_dump_path)\n",
    "\n",
    "data_dump = torch.load(data_dump_path)\n",
    "\n",
    "ts = data_dump.get('ts')\n",
    "z0_orig = data_dump.get('z0_orig')\n",
    "true_zt = data_dump.get('true_zt')\n",
    "true_zt_chaos = data_dump.get('true_zt_chaos').permute(1, 0, 2, 3, 4, 5)\n",
    "pred_zt = data_dump.get('pred_zt')"
   ]
  },
  {
   "cell_type": "code",
   "execution_count": null,
   "metadata": {},
   "outputs": [],
   "source": [
    "def compute_likelihood(ref, pred):\n",
    "    '''\n",
    "    Likelihood of the reference under Gaussian estimated\n",
    "    by the pred samples, factored over time.\n",
    "    Arguments:\n",
    "    ref: N x T x 2 x B x 2\n",
    "    pred: M x N x T x 2 x B x 2\n",
    "    '''\n",
    "    batch_shape = pred.shape[:3]\n",
    "\n",
    "    pred_mu = pred.view(*batch_shape, -1).mean(dim=0)\n",
    "    pred_std = pred.view(*batch_shape, -1).std(dim=0) + 1e-6\n",
    "    pred_dist = torch.distributions.MultivariateNormal(pred_mu, pred_std.diag_embed())\n",
    "\n",
    "    log_prob = pred_dist.log_prob(ref.view(*ref.shape[:2], -1))  ## N x T\n",
    "    return log_prob\n"
   ]
  },
  {
   "cell_type": "code",
   "execution_count": null,
   "metadata": {},
   "outputs": [],
   "source": [
    "  chaos_likelihood = compute_likelihood(true_zt, true_zt_chaos)\n",
    "  pred_likelihood = compute_likelihood(true_zt, pred_zt)"
   ]
  },
  {
   "cell_type": "code",
   "execution_count": null,
   "metadata": {},
   "outputs": [],
   "source": [
    "def plot_likelihood(likelihood, color):\n",
    "    y_mean = likelihood.mean(0).cpu().numpy()\n",
    "    y_std = likelihood.std(0).cpu().numpy()\n",
    "\n",
    "    err_mean_chart = alt.Chart(pd.DataFrame({\n",
    "        't': ts.cpu().numpy(),\n",
    "        'y': y_mean,\n",
    "        'y_hi': y_mean + 2. * y_std,\n",
    "        'y_lo': y_mean - 2. * y_std,\n",
    "    })).mark_line(color=color, opacity=0.7).encode(x='t', y='y')\n",
    "    err_std_chart = err_mean_chart.mark_area(color=color, opacity=0.2).encode(\n",
    "        x='t', y=alt.Y('y_lo', title='Likelihood'), y2='y_hi')\n",
    "\n",
    "    return err_mean_chart + err_std_chart\n"
   ]
  },
  {
   "cell_type": "code",
   "execution_count": null,
   "metadata": {},
   "outputs": [],
   "source": [
    "chart = plot_likelihood(chaos_likelihood, 'blue') + plot_likelihood(pred_likelihood, 'red')\n",
    "# chart.save('chart.json')\n",
    "chart"
   ]
  },
  {
   "cell_type": "code",
   "execution_count": null,
   "metadata": {},
   "outputs": [],
   "source": []
  }
 ]
}