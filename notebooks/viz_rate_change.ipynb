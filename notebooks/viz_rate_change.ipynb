{
 "cells": [
  {
   "cell_type": "code",
   "execution_count": 1,
   "metadata": {},
   "outputs": [],
   "source": [
    "import os\n",
    "import sys\n",
    "import torch\n",
    "import altair as alt\n",
    "import pandas as pd\n",
    "import numpy as np\n",
    "\n",
    "alt.data_transformers.disable_max_rows();\n"
   ]
  },
  {
   "cell_type": "code",
   "execution_count": null,
   "metadata": {},
   "outputs": [],
   "source": [
    "## TODO: change this to the dump path.\n",
    "data_dump_path = '../../de-3body-data.pt'\n",
    "\n",
    "assert os.path.isfile(data_dump_path)\n",
    "\n",
    "data_dump = torch.load(data_dump_path)\n",
    "\n",
    "ts = data_dump.get('ts')\n",
    "z0_orig = data_dump.get('z0_orig')\n",
    "true_zt = data_dump.get('true_zt')\n",
    "true_zt_chaos = data_dump.get('true_zt_chaos').permute(1, 0, 2, 3, 4, 5)\n",
    "de_pred_zt = data_dump.get('pred_zt')\n",
    "\n",
    "data_dump_path = '../../swag-3body-data.pt'\n",
    "data_dump = torch.load(data_dump_path)\n",
    "swag_pred_zt = data_dump.get('pred_zt')"
   ]
  },
  {
   "cell_type": "code",
   "execution_count": null,
   "metadata": {},
   "outputs": [],
   "source": [
    "def compute_lad(ref, pred):\n",
    "    diffs = (pred.unsqueeze(0) - pred.unsqueeze(1)).mean(dim=(0,1)).pow(2).sum(dim=-1).sum(dim=-1).sum(dim=-1).sqrt()\n",
    "    return (diffs + 1e-10).log()"
   ]
  },
  {
   "cell_type": "code",
   "execution_count": null,
   "metadata": {},
   "outputs": [],
   "source": [
    "true_rel_err = compute_lad(true_zt, true_zt_chaos)\n",
    "de_pred_rel_err = compute_lad(true_zt, de_pred_zt)\n",
    "swag_pred_rel_err = compute_lad(true_zt, swag_pred_zt)"
   ]
  },
  {
   "cell_type": "code",
   "execution_count": null,
   "metadata": {},
   "outputs": [],
   "source": [
    "def plot_fit_line(rel_err, color):\n",
    "    y = rel_err[:167].cpu().numpy()\n",
    "    t = ts[:167].cpu().numpy()\n",
    "\n",
    "    m, b = np.polyfit(t, y, 1) \n",
    "    \n",
    "    y_scale = alt.Scale(domain=(np.min(m * t + b) - 1, np.max(m * t + b) + 2))\n",
    "    \n",
    "    data_chart = alt.Chart(pd.DataFrame({\n",
    "        't': t,\n",
    "        'y': y,\n",
    "    })).mark_line(color=color, opacity=1.0, strokeDash=[2,2]).encode(x='t', y=alt.Y('y', scale=y_scale)) \n",
    "    \n",
    "    fit_chart = alt.Chart(pd.DataFrame({\n",
    "        't': t,\n",
    "        'y': m * t + b,\n",
    "    })).mark_line(color=color, opacity=0.8).encode(x='t', y=alt.Y('y', scale=y_scale, title='Log Average Distance'))\n",
    "    \n",
    "    return data_chart + fit_chart\n",
    "\n",
    "def plot_slope_point(rel_err, shape, color):\n",
    "    y = rel_err.cpu().numpy()\n",
    "    \n",
    "    m, b = np.polyfit(ts.cpu().numpy()[:167], y[:167], 1) \n",
    "    \n",
    "    if shape == \"circle\":\n",
    "        point_chart = alt.Chart(pd.DataFrame({\n",
    "            'm': [m],\n",
    "            'b': [b],\n",
    "        })).mark_point(color=color, opacity=0.7).encode(x='m', y='b') \n",
    "    elif shape == \"square\":\n",
    "        point_chart = alt.Chart(pd.DataFrame({\n",
    "            'm': [m],\n",
    "            'b': [b],\n",
    "        })).mark_square(color=color, opacity=0.7).encode(x='m', y='b')  \n",
    "    elif shape == \"tick\":\n",
    "        point_chart = alt.Chart(pd.DataFrame({\n",
    "            'm': [m],\n",
    "            'b': [b],\n",
    "        })).mark_tick(color=color, opacity=0.7).encode(x='m', y='b')  \n",
    "        \n",
    "    return point_chart"
   ]
  },
  {
   "cell_type": "code",
   "execution_count": null,
   "metadata": {},
   "outputs": [],
   "source": [
    "np.shape(true_rel_err)"
   ]
  },
  {
   "cell_type": "code",
   "execution_count": null,
   "metadata": {},
   "outputs": [],
   "source": [
    "idx = 4\n",
    "chart = plot_fit_line(true_rel_err[idx, :167], 'blue') + \\\n",
    "        plot_fit_line(swag_pred_rel_err[idx, :167], 'red') #+ \\\n",
    "#        plot_fit_line(de_pred_rel_err[idx, ...], 'green')\n",
    "chart"
   ]
  },
  {
   "cell_type": "code",
   "execution_count": null,
   "metadata": {},
   "outputs": [],
   "source": []
  },
  {
   "cell_type": "code",
   "execution_count": null,
   "metadata": {},
   "outputs": [],
   "source": [
    "colors = ['red','blue','green','black','magenta']\n",
    "for idx in range(5):\n",
    "    if idx == 0:\n",
    "        chart = plot_slope_point(true_rel_err[idx, ...], 'circle', colors[idx]) + \\\n",
    "                plot_slope_point(swag_pred_rel_err[idx, ...], 'square', colors[idx]) + \\\n",
    "                plot_slope_point(de_pred_rel_err[idx, ...], 'tick', colors[idx])\n",
    "    else:\n",
    "        chart += plot_slope_point(true_rel_err[idx, ...], 'circle', colors[idx]) + \\\n",
    "                 plot_slope_point(swag_pred_rel_err[idx, ...], 'square', colors[idx]) + \\\n",
    "                 plot_slope_point(de_pred_rel_err[idx, ...], 'tick', colors[idx])\n",
    "chart"
   ]
  }
 ],
 "metadata": {
  "kernelspec": {
   "display_name": "Python 3",
   "language": "python",
   "name": "python3"
  },
  "language_info": {
   "codemirror_mode": {
    "name": "ipython",
    "version": 3
   },
   "file_extension": ".py",
   "mimetype": "text/x-python",
   "name": "python",
   "nbconvert_exporter": "python",
   "pygments_lexer": "ipython3",
   "version": "3.8.3"
  }
 },
 "nbformat": 4,
 "nbformat_minor": 4
}
