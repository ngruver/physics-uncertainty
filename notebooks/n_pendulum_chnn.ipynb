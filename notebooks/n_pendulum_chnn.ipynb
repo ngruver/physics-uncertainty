{
 "cells": [
  {
   "cell_type": "code",
   "execution_count": 3,
   "metadata": {},
   "outputs": [],
   "source": [
    "import os\n",
    "import sys\n",
    "import copy\n",
    "import torch\n",
    "import numpy as np\n",
    "from pprint import pprint\n",
    "\n",
    "if os.path.abspath('..') not in sys.path:\n",
    "    sys.path.insert(0, os.path.abspath('..'))\n",
    "\n",
    "from oil.tuning.args import argupdated_config\n",
    "\n",
    "from src.train.det_trainer import make_trainer\n",
    "from src.models import CHNN\n",
    "from src.systems.chain_pendulum import ChainPendulum\n",
    "\n",
    "#os.environ[\"CUDA_VISIBLE_DEVICES\"] = \"5\""
   ]
  },
  {
   "cell_type": "code",
   "execution_count": 11,
   "metadata": {},
   "outputs": [
    {
     "name": "stdout",
     "output_type": "stream",
     "text": [
      "{'C': 5,\n",
      " 'body': <class 'src.systems.chain_pendulum.ChainPendulum'>n2mrlr,\n",
      " 'bs': 200,\n",
      " 'dataset': RigidBodyDataset,\n",
      " 'device': 'cuda',\n",
      " 'dtype': torch.float32,\n",
      " 'lr': 0.003,\n",
      " 'n_train': 800,\n",
      " 'net_cfg': {},\n",
      " 'network': CHNN,\n",
      " 'num_epochs': 10,\n",
      " 'opt_cfg': {'weight_decay': 1e-05},\n",
      " 'regen': False,\n",
      " 'root_dir': '/scratch/ngruver',\n",
      " 'trainer_config': {}}\n"
     ]
    }
   ],
   "source": [
    "defaults = copy.deepcopy(make_trainer.__kwdefaults__)\n",
    "defaults[\"save\"] = False\n",
    "\n",
    "cfg = defaults #argupdated_config(defaults)\n",
    "# cfg.pop('local_rank')\n",
    "save = cfg.pop('save')\n",
    "\n",
    "cfg[\"network\"] = CHNN\n",
    "cfg[\"device\"] = 'cuda' if torch.cuda.is_available() else None\n",
    "cfg[\"body\"] = ChainPendulum(2)\n",
    "cfg[\"C\"] = 5\n",
    "cfg[\"num_epochs\"] = 10\n",
    "cfg[\"root_dir\"] = \"/scratch/ngruver\"\n",
    " \n",
    "pprint(cfg)"
   ]
  },
  {
   "cell_type": "code",
   "execution_count": 12,
   "metadata": {
    "collapsed": true,
    "jupyter": {
     "outputs_hidden": true
    }
   },
   "outputs": [
    {
     "name": "stdout",
     "output_type": "stream",
     "text": [
      "CH ignores angular_dims\n",
      "CH currently assumes potential energy depends only on q\n",
      "CH currently assumes time independent Hamiltonian\n",
      "CH assumes positions q are in Cartesian coordinates\n"
     ]
    },
    {
     "name": "stderr",
     "output_type": "stream",
     "text": [
      "/misc/vlgscratch4/WilsonGroup/ngruver/miniconda3/lib/python3.8/site-packages/torch/nn/modules/container.py:550: UserWarning: Setting attributes on ParameterDict is not supported.\n",
      "  warnings.warn(\"Setting attributes on ParameterDict is not supported.\")\n"
     ]
    },
    {
     "data": {
      "application/vnd.jupyter.widget-view+json": {
       "model_id": "1f48ebb579634106b8e055dd330114ba",
       "version_major": 2,
       "version_minor": 0
      },
      "text/plain": [
       "HBox(children=(HTML(value='train'), FloatProgress(value=0.0, max=10.0), HTML(value='')))"
      ]
     },
     "metadata": {},
     "output_type": "display_data"
    },
    {
     "name": "stderr",
     "output_type": "stream",
     "text": [
      "/misc/vlgscratch4/WilsonGroup/ngruver/miniconda3/lib/python3.8/site-packages/torch/optim/lr_scheduler.py:247: UserWarning: To get the last learning rate computed by the scheduler, please use `get_last_lr()`.\n",
      "  warnings.warn(\"To get the last learning rate computed by the scheduler, \"\n"
     ]
    },
    {
     "name": "stdout",
     "output_type": "stream",
     "text": [
      "   Minibatch_Loss  Train_MAE    lr0  nfe  test_MAE\n",
      "0         0.11841   0.118209  0.003  0.0  0.116972\n"
     ]
    },
    {
     "name": "stderr",
     "output_type": "stream",
     "text": [
      "/misc/vlgscratch4/WilsonGroup/ngruver/miniconda3/lib/python3.8/site-packages/torch/nn/modules/container.py:550: UserWarning: Setting attributes on ParameterDict is not supported.\n",
      "  warnings.warn(\"Setting attributes on ParameterDict is not supported.\")\n",
      "/misc/vlgscratch4/WilsonGroup/ngruver/miniconda3/lib/python3.8/site-packages/torch/optim/lr_scheduler.py:156: UserWarning: The epoch parameter in `scheduler.step()` was not necessary and is being deprecated where possible. Please use `scheduler.step()` to step the scheduler. During the deprecation, if epoch is different from None, the closed form is used instead of the new chainable form, where available. Please open an issue if you are unable to replicate your use case: https://github.com/pytorch/pytorch/issues/new/choose.\n",
      "  warnings.warn(EPOCH_DEPRECATION_WARNING, UserWarning)\n",
      "/misc/vlgscratch4/WilsonGroup/ngruver/miniconda3/lib/python3.8/site-packages/torch/optim/lr_scheduler.py:247: UserWarning: To get the last learning rate computed by the scheduler, please use `get_last_lr()`.\n",
      "  warnings.warn(\"To get the last learning rate computed by the scheduler, \"\n"
     ]
    },
    {
     "name": "stdout",
     "output_type": "stream",
     "text": [
      "    Minibatch_Loss  Train_MAE       lr0  nfe  test_MAE\n",
      "12        0.036024   0.038749  0.002474  0.0  0.037662\n"
     ]
    },
    {
     "name": "stderr",
     "output_type": "stream",
     "text": [
      "/misc/vlgscratch4/WilsonGroup/ngruver/miniconda3/lib/python3.8/site-packages/torch/nn/modules/container.py:550: UserWarning: Setting attributes on ParameterDict is not supported.\n",
      "  warnings.warn(\"Setting attributes on ParameterDict is not supported.\")\n",
      "/misc/vlgscratch4/WilsonGroup/ngruver/miniconda3/lib/python3.8/site-packages/torch/optim/lr_scheduler.py:156: UserWarning: The epoch parameter in `scheduler.step()` was not necessary and is being deprecated where possible. Please use `scheduler.step()` to step the scheduler. During the deprecation, if epoch is different from None, the closed form is used instead of the new chainable form, where available. Please open an issue if you are unable to replicate your use case: https://github.com/pytorch/pytorch/issues/new/choose.\n",
      "  warnings.warn(EPOCH_DEPRECATION_WARNING, UserWarning)\n",
      "/misc/vlgscratch4/WilsonGroup/ngruver/miniconda3/lib/python3.8/site-packages/torch/optim/lr_scheduler.py:247: UserWarning: To get the last learning rate computed by the scheduler, please use `get_last_lr()`.\n",
      "  warnings.warn(\"To get the last learning rate computed by the scheduler, \"\n"
     ]
    },
    {
     "name": "stdout",
     "output_type": "stream",
     "text": [
      "    Minibatch_Loss  Train_MAE       lr0  nfe  test_MAE\n",
      "23        0.032773   0.033235  0.001265  0.0  0.032138\n"
     ]
    },
    {
     "name": "stderr",
     "output_type": "stream",
     "text": [
      "/misc/vlgscratch4/WilsonGroup/ngruver/miniconda3/lib/python3.8/site-packages/torch/nn/modules/container.py:550: UserWarning: Setting attributes on ParameterDict is not supported.\n",
      "  warnings.warn(\"Setting attributes on ParameterDict is not supported.\")\n",
      "/misc/vlgscratch4/WilsonGroup/ngruver/miniconda3/lib/python3.8/site-packages/torch/optim/lr_scheduler.py:156: UserWarning: The epoch parameter in `scheduler.step()` was not necessary and is being deprecated where possible. Please use `scheduler.step()` to step the scheduler. During the deprecation, if epoch is different from None, the closed form is used instead of the new chainable form, where available. Please open an issue if you are unable to replicate your use case: https://github.com/pytorch/pytorch/issues/new/choose.\n",
      "  warnings.warn(EPOCH_DEPRECATION_WARNING, UserWarning)\n",
      "/misc/vlgscratch4/WilsonGroup/ngruver/miniconda3/lib/python3.8/site-packages/torch/optim/lr_scheduler.py:247: UserWarning: To get the last learning rate computed by the scheduler, please use `get_last_lr()`.\n",
      "  warnings.warn(\"To get the last learning rate computed by the scheduler, \"\n"
     ]
    },
    {
     "name": "stdout",
     "output_type": "stream",
     "text": [
      "    Minibatch_Loss  Train_MAE       lr0  nfe  test_MAE\n",
      "34         0.03125   0.028242  0.000221  0.0  0.026872\n"
     ]
    },
    {
     "name": "stderr",
     "output_type": "stream",
     "text": [
      "/misc/vlgscratch4/WilsonGroup/ngruver/miniconda3/lib/python3.8/site-packages/torch/nn/modules/container.py:550: UserWarning: Setting attributes on ParameterDict is not supported.\n",
      "  warnings.warn(\"Setting attributes on ParameterDict is not supported.\")\n",
      "/misc/vlgscratch4/WilsonGroup/ngruver/miniconda3/lib/python3.8/site-packages/torch/optim/lr_scheduler.py:156: UserWarning: The epoch parameter in `scheduler.step()` was not necessary and is being deprecated where possible. Please use `scheduler.step()` to step the scheduler. During the deprecation, if epoch is different from None, the closed form is used instead of the new chainable form, where available. Please open an issue if you are unable to replicate your use case: https://github.com/pytorch/pytorch/issues/new/choose.\n",
      "  warnings.warn(EPOCH_DEPRECATION_WARNING, UserWarning)\n"
     ]
    },
    {
     "name": "stdout",
     "output_type": "stream",
     "text": [
      "\n",
      "    Minibatch_Loss  Train_MAE       lr0  nfe  test_MAE\n",
      "39             NaN   0.027681  0.000005  0.0  0.026227\n",
      "CH ignores angular_dims\n",
      "CH currently assumes potential energy depends only on q\n",
      "CH currently assumes time independent Hamiltonian\n",
      "CH assumes positions q are in Cartesian coordinates\n"
     ]
    },
    {
     "name": "stderr",
     "output_type": "stream",
     "text": [
      "/misc/vlgscratch4/WilsonGroup/ngruver/miniconda3/lib/python3.8/site-packages/torch/optim/lr_scheduler.py:247: UserWarning: To get the last learning rate computed by the scheduler, please use `get_last_lr()`.\n",
      "  warnings.warn(\"To get the last learning rate computed by the scheduler, \"\n",
      "/misc/vlgscratch4/WilsonGroup/ngruver/miniconda3/lib/python3.8/site-packages/torch/nn/modules/container.py:550: UserWarning: Setting attributes on ParameterDict is not supported.\n",
      "  warnings.warn(\"Setting attributes on ParameterDict is not supported.\")\n"
     ]
    },
    {
     "data": {
      "application/vnd.jupyter.widget-view+json": {
       "model_id": "a2accd02a30a4243a3c074c9945d418d",
       "version_major": 2,
       "version_minor": 0
      },
      "text/plain": [
       "HBox(children=(HTML(value='train'), FloatProgress(value=0.0, max=10.0), HTML(value='')))"
      ]
     },
     "metadata": {},
     "output_type": "display_data"
    },
    {
     "name": "stderr",
     "output_type": "stream",
     "text": [
      "/misc/vlgscratch4/WilsonGroup/ngruver/miniconda3/lib/python3.8/site-packages/torch/optim/lr_scheduler.py:247: UserWarning: To get the last learning rate computed by the scheduler, please use `get_last_lr()`.\n",
      "  warnings.warn(\"To get the last learning rate computed by the scheduler, \"\n"
     ]
    },
    {
     "name": "stdout",
     "output_type": "stream",
     "text": [
      "   Minibatch_Loss  Train_MAE    lr0  nfe  test_MAE\n",
      "0        0.121522   0.118548  0.003  0.0  0.117795\n"
     ]
    },
    {
     "name": "stderr",
     "output_type": "stream",
     "text": [
      "/misc/vlgscratch4/WilsonGroup/ngruver/miniconda3/lib/python3.8/site-packages/torch/nn/modules/container.py:550: UserWarning: Setting attributes on ParameterDict is not supported.\n",
      "  warnings.warn(\"Setting attributes on ParameterDict is not supported.\")\n",
      "/misc/vlgscratch4/WilsonGroup/ngruver/miniconda3/lib/python3.8/site-packages/torch/optim/lr_scheduler.py:156: UserWarning: The epoch parameter in `scheduler.step()` was not necessary and is being deprecated where possible. Please use `scheduler.step()` to step the scheduler. During the deprecation, if epoch is different from None, the closed form is used instead of the new chainable form, where available. Please open an issue if you are unable to replicate your use case: https://github.com/pytorch/pytorch/issues/new/choose.\n",
      "  warnings.warn(EPOCH_DEPRECATION_WARNING, UserWarning)\n",
      "/misc/vlgscratch4/WilsonGroup/ngruver/miniconda3/lib/python3.8/site-packages/torch/optim/lr_scheduler.py:247: UserWarning: To get the last learning rate computed by the scheduler, please use `get_last_lr()`.\n",
      "  warnings.warn(\"To get the last learning rate computed by the scheduler, \"\n"
     ]
    },
    {
     "name": "stdout",
     "output_type": "stream",
     "text": [
      "    Minibatch_Loss  Train_MAE       lr0  nfe  test_MAE\n",
      "16        0.036656    0.03575  0.002074  0.0  0.034836\n"
     ]
    },
    {
     "name": "stderr",
     "output_type": "stream",
     "text": [
      "/misc/vlgscratch4/WilsonGroup/ngruver/miniconda3/lib/python3.8/site-packages/torch/nn/modules/container.py:550: UserWarning: Setting attributes on ParameterDict is not supported.\n",
      "  warnings.warn(\"Setting attributes on ParameterDict is not supported.\")\n",
      "/misc/vlgscratch4/WilsonGroup/ngruver/miniconda3/lib/python3.8/site-packages/torch/optim/lr_scheduler.py:156: UserWarning: The epoch parameter in `scheduler.step()` was not necessary and is being deprecated where possible. Please use `scheduler.step()` to step the scheduler. During the deprecation, if epoch is different from None, the closed form is used instead of the new chainable form, where available. Please open an issue if you are unable to replicate your use case: https://github.com/pytorch/pytorch/issues/new/choose.\n",
      "  warnings.warn(EPOCH_DEPRECATION_WARNING, UserWarning)\n",
      "/misc/vlgscratch4/WilsonGroup/ngruver/miniconda3/lib/python3.8/site-packages/torch/optim/lr_scheduler.py:247: UserWarning: To get the last learning rate computed by the scheduler, please use `get_last_lr()`.\n",
      "  warnings.warn(\"To get the last learning rate computed by the scheduler, \"\n"
     ]
    },
    {
     "name": "stdout",
     "output_type": "stream",
     "text": [
      "    Minibatch_Loss  Train_MAE       lr0  nfe  test_MAE\n",
      "26        0.026303   0.026225  0.000926  0.0  0.025584\n"
     ]
    },
    {
     "name": "stderr",
     "output_type": "stream",
     "text": [
      "/misc/vlgscratch4/WilsonGroup/ngruver/miniconda3/lib/python3.8/site-packages/torch/nn/modules/container.py:550: UserWarning: Setting attributes on ParameterDict is not supported.\n",
      "  warnings.warn(\"Setting attributes on ParameterDict is not supported.\")\n",
      "/misc/vlgscratch4/WilsonGroup/ngruver/miniconda3/lib/python3.8/site-packages/torch/optim/lr_scheduler.py:156: UserWarning: The epoch parameter in `scheduler.step()` was not necessary and is being deprecated where possible. Please use `scheduler.step()` to step the scheduler. During the deprecation, if epoch is different from None, the closed form is used instead of the new chainable form, where available. Please open an issue if you are unable to replicate your use case: https://github.com/pytorch/pytorch/issues/new/choose.\n",
      "  warnings.warn(EPOCH_DEPRECATION_WARNING, UserWarning)\n",
      "/misc/vlgscratch4/WilsonGroup/ngruver/miniconda3/lib/python3.8/site-packages/torch/optim/lr_scheduler.py:247: UserWarning: To get the last learning rate computed by the scheduler, please use `get_last_lr()`.\n",
      "  warnings.warn(\"To get the last learning rate computed by the scheduler, \"\n"
     ]
    },
    {
     "name": "stdout",
     "output_type": "stream",
     "text": [
      "    Minibatch_Loss  Train_MAE       lr0  nfe  test_MAE\n",
      "35        0.018132   0.022308  0.000163  0.0   0.02136\n"
     ]
    },
    {
     "name": "stderr",
     "output_type": "stream",
     "text": [
      "/misc/vlgscratch4/WilsonGroup/ngruver/miniconda3/lib/python3.8/site-packages/torch/nn/modules/container.py:550: UserWarning: Setting attributes on ParameterDict is not supported.\n",
      "  warnings.warn(\"Setting attributes on ParameterDict is not supported.\")\n",
      "/misc/vlgscratch4/WilsonGroup/ngruver/miniconda3/lib/python3.8/site-packages/torch/optim/lr_scheduler.py:156: UserWarning: The epoch parameter in `scheduler.step()` was not necessary and is being deprecated where possible. Please use `scheduler.step()` to step the scheduler. During the deprecation, if epoch is different from None, the closed form is used instead of the new chainable form, where available. Please open an issue if you are unable to replicate your use case: https://github.com/pytorch/pytorch/issues/new/choose.\n",
      "  warnings.warn(EPOCH_DEPRECATION_WARNING, UserWarning)\n"
     ]
    },
    {
     "name": "stdout",
     "output_type": "stream",
     "text": [
      "\n",
      "    Minibatch_Loss  Train_MAE       lr0  nfe  test_MAE\n",
      "39             NaN   0.022218  0.000005  0.0  0.021246\n",
      "On GPU: 18.877994537353516\n",
      "On CPU: 45.03162240982056\n"
     ]
    },
    {
     "name": "stderr",
     "output_type": "stream",
     "text": [
      "/misc/vlgscratch4/WilsonGroup/ngruver/miniconda3/lib/python3.8/site-packages/torch/optim/lr_scheduler.py:247: UserWarning: To get the last learning rate computed by the scheduler, please use `get_last_lr()`.\n",
      "  warnings.warn(\"To get the last learning rate computed by the scheduler, \"\n"
     ]
    }
   ],
   "source": [
    "import time\n",
    "\n",
    "trainer = make_trainer(**cfg)\n",
    "time1 = time.time()\n",
    "trainer.train(cfg['num_epochs'])\n",
    "time2 = time.time()\n",
    "\n",
    "cfg[\"device\"] = None\n",
    "trainer2 = make_trainer(**cfg)\n",
    "time3 = time.time()\n",
    "trainer2.train(cfg['num_epochs'])\n",
    "time4 = time.time()\n",
    "\n",
    "print(\"On GPU: {}\".format(time2 - time1))\n",
    "print(\"On CPU: {}\".format(time4 - time3))"
   ]
  },
  {
   "cell_type": "code",
   "execution_count": 3,
   "metadata": {
    "collapsed": true,
    "jupyter": {
     "outputs_hidden": true
    }
   },
   "outputs": [
    {
     "name": "stdout",
     "output_type": "stream",
     "text": [
      "CH ignores angular_dims\n",
      "CH currently assumes potential energy depends only on q\n",
      "CH currently assumes time independent Hamiltonian\n",
      "CH assumes positions q are in Cartesian coordinates\n"
     ]
    },
    {
     "name": "stderr",
     "output_type": "stream",
     "text": [
      "/misc/vlgscratch4/WilsonGroup/ngruver/miniconda3/lib/python3.8/site-packages/torch/nn/modules/container.py:550: UserWarning: Setting attributes on ParameterDict is not supported.\n",
      "  warnings.warn(\"Setting attributes on ParameterDict is not supported.\")\n"
     ]
    },
    {
     "data": {
      "application/vnd.jupyter.widget-view+json": {
       "model_id": "b79a0b8602f047b0af912146227f94ed",
       "version_major": 2,
       "version_minor": 0
      },
      "text/plain": [
       "HBox(children=(HTML(value='train'), FloatProgress(value=0.0), HTML(value='')))"
      ]
     },
     "metadata": {},
     "output_type": "display_data"
    },
    {
     "name": "stderr",
     "output_type": "stream",
     "text": [
      "/misc/vlgscratch4/WilsonGroup/ngruver/miniconda3/lib/python3.8/site-packages/torch/optim/lr_scheduler.py:247: UserWarning: To get the last learning rate computed by the scheduler, please use `get_last_lr()`.\n",
      "  warnings.warn(\"To get the last learning rate computed by the scheduler, \"\n"
     ]
    },
    {
     "name": "stdout",
     "output_type": "stream",
     "text": [
      "   Minibatch_Loss  Train_MAE    lr0  nfe  test_MAE\n",
      "0        0.640481    0.64214  0.003  0.0  0.626849\n"
     ]
    },
    {
     "name": "stderr",
     "output_type": "stream",
     "text": [
      "/misc/vlgscratch4/WilsonGroup/ngruver/miniconda3/lib/python3.8/site-packages/torch/nn/modules/container.py:550: UserWarning: Setting attributes on ParameterDict is not supported.\n",
      "  warnings.warn(\"Setting attributes on ParameterDict is not supported.\")\n",
      "/misc/vlgscratch4/WilsonGroup/ngruver/miniconda3/lib/python3.8/site-packages/torch/optim/lr_scheduler.py:156: UserWarning: The epoch parameter in `scheduler.step()` was not necessary and is being deprecated where possible. Please use `scheduler.step()` to step the scheduler. During the deprecation, if epoch is different from None, the closed form is used instead of the new chainable form, where available. Please open an issue if you are unable to replicate your use case: https://github.com/pytorch/pytorch/issues/new/choose.\n",
      "  warnings.warn(EPOCH_DEPRECATION_WARNING, UserWarning)\n",
      "/misc/vlgscratch4/WilsonGroup/ngruver/miniconda3/lib/python3.8/site-packages/torch/optim/lr_scheduler.py:247: UserWarning: To get the last learning rate computed by the scheduler, please use `get_last_lr()`.\n",
      "  warnings.warn(\"To get the last learning rate computed by the scheduler, \"\n"
     ]
    },
    {
     "name": "stdout",
     "output_type": "stream",
     "text": [
      "    Minibatch_Loss  Train_MAE       lr0  nfe  test_MAE\n",
      "10        0.256809   0.247526  0.002996  0.0  0.245263\n"
     ]
    },
    {
     "name": "stderr",
     "output_type": "stream",
     "text": [
      "/misc/vlgscratch4/WilsonGroup/ngruver/miniconda3/lib/python3.8/site-packages/torch/nn/modules/container.py:550: UserWarning: Setting attributes on ParameterDict is not supported.\n",
      "  warnings.warn(\"Setting attributes on ParameterDict is not supported.\")\n",
      "/misc/vlgscratch4/WilsonGroup/ngruver/miniconda3/lib/python3.8/site-packages/torch/optim/lr_scheduler.py:156: UserWarning: The epoch parameter in `scheduler.step()` was not necessary and is being deprecated where possible. Please use `scheduler.step()` to step the scheduler. During the deprecation, if epoch is different from None, the closed form is used instead of the new chainable form, where available. Please open an issue if you are unable to replicate your use case: https://github.com/pytorch/pytorch/issues/new/choose.\n",
      "  warnings.warn(EPOCH_DEPRECATION_WARNING, UserWarning)\n",
      "/misc/vlgscratch4/WilsonGroup/ngruver/miniconda3/lib/python3.8/site-packages/torch/optim/lr_scheduler.py:247: UserWarning: To get the last learning rate computed by the scheduler, please use `get_last_lr()`.\n",
      "  warnings.warn(\"To get the last learning rate computed by the scheduler, \"\n"
     ]
    },
    {
     "name": "stdout",
     "output_type": "stream",
     "text": [
      "    Minibatch_Loss  Train_MAE       lr0  nfe  test_MAE\n",
      "20        0.155797   0.159027  0.002983  0.0  0.159313\n"
     ]
    },
    {
     "name": "stderr",
     "output_type": "stream",
     "text": [
      "/misc/vlgscratch4/WilsonGroup/ngruver/miniconda3/lib/python3.8/site-packages/torch/nn/modules/container.py:550: UserWarning: Setting attributes on ParameterDict is not supported.\n",
      "  warnings.warn(\"Setting attributes on ParameterDict is not supported.\")\n",
      "/misc/vlgscratch4/WilsonGroup/ngruver/miniconda3/lib/python3.8/site-packages/torch/optim/lr_scheduler.py:156: UserWarning: The epoch parameter in `scheduler.step()` was not necessary and is being deprecated where possible. Please use `scheduler.step()` to step the scheduler. During the deprecation, if epoch is different from None, the closed form is used instead of the new chainable form, where available. Please open an issue if you are unable to replicate your use case: https://github.com/pytorch/pytorch/issues/new/choose.\n",
      "  warnings.warn(EPOCH_DEPRECATION_WARNING, UserWarning)\n",
      "/misc/vlgscratch4/WilsonGroup/ngruver/miniconda3/lib/python3.8/site-packages/torch/optim/lr_scheduler.py:247: UserWarning: To get the last learning rate computed by the scheduler, please use `get_last_lr()`.\n",
      "  warnings.warn(\"To get the last learning rate computed by the scheduler, \"\n"
     ]
    },
    {
     "name": "stdout",
     "output_type": "stream",
     "text": [
      "    Minibatch_Loss  Train_MAE       lr0  nfe  test_MAE\n",
      "29        0.117659    0.11658  0.002964  0.0  0.122621\n"
     ]
    },
    {
     "name": "stderr",
     "output_type": "stream",
     "text": [
      "/misc/vlgscratch4/WilsonGroup/ngruver/miniconda3/lib/python3.8/site-packages/torch/nn/modules/container.py:550: UserWarning: Setting attributes on ParameterDict is not supported.\n",
      "  warnings.warn(\"Setting attributes on ParameterDict is not supported.\")\n",
      "/misc/vlgscratch4/WilsonGroup/ngruver/miniconda3/lib/python3.8/site-packages/torch/optim/lr_scheduler.py:156: UserWarning: The epoch parameter in `scheduler.step()` was not necessary and is being deprecated where possible. Please use `scheduler.step()` to step the scheduler. During the deprecation, if epoch is different from None, the closed form is used instead of the new chainable form, where available. Please open an issue if you are unable to replicate your use case: https://github.com/pytorch/pytorch/issues/new/choose.\n",
      "  warnings.warn(EPOCH_DEPRECATION_WARNING, UserWarning)\n",
      "/misc/vlgscratch4/WilsonGroup/ngruver/miniconda3/lib/python3.8/site-packages/torch/optim/lr_scheduler.py:247: UserWarning: To get the last learning rate computed by the scheduler, please use `get_last_lr()`.\n",
      "  warnings.warn(\"To get the last learning rate computed by the scheduler, \"\n"
     ]
    },
    {
     "name": "stdout",
     "output_type": "stream",
     "text": [
      "    Minibatch_Loss  Train_MAE       lr0  nfe  test_MAE\n",
      "39        0.085399   0.081804  0.002934  0.0  0.086333\n"
     ]
    },
    {
     "name": "stderr",
     "output_type": "stream",
     "text": [
      "/misc/vlgscratch4/WilsonGroup/ngruver/miniconda3/lib/python3.8/site-packages/torch/nn/modules/container.py:550: UserWarning: Setting attributes on ParameterDict is not supported.\n",
      "  warnings.warn(\"Setting attributes on ParameterDict is not supported.\")\n",
      "/misc/vlgscratch4/WilsonGroup/ngruver/miniconda3/lib/python3.8/site-packages/torch/optim/lr_scheduler.py:156: UserWarning: The epoch parameter in `scheduler.step()` was not necessary and is being deprecated where possible. Please use `scheduler.step()` to step the scheduler. During the deprecation, if epoch is different from None, the closed form is used instead of the new chainable form, where available. Please open an issue if you are unable to replicate your use case: https://github.com/pytorch/pytorch/issues/new/choose.\n",
      "  warnings.warn(EPOCH_DEPRECATION_WARNING, UserWarning)\n",
      "/misc/vlgscratch4/WilsonGroup/ngruver/miniconda3/lib/python3.8/site-packages/torch/optim/lr_scheduler.py:247: UserWarning: To get the last learning rate computed by the scheduler, please use `get_last_lr()`.\n",
      "  warnings.warn(\"To get the last learning rate computed by the scheduler, \"\n"
     ]
    },
    {
     "name": "stdout",
     "output_type": "stream",
     "text": [
      "    Minibatch_Loss  Train_MAE       lr0  nfe  test_MAE\n",
      "48         0.06592   0.073777  0.002899  0.0  0.080406\n"
     ]
    },
    {
     "name": "stderr",
     "output_type": "stream",
     "text": [
      "/misc/vlgscratch4/WilsonGroup/ngruver/miniconda3/lib/python3.8/site-packages/torch/nn/modules/container.py:550: UserWarning: Setting attributes on ParameterDict is not supported.\n",
      "  warnings.warn(\"Setting attributes on ParameterDict is not supported.\")\n",
      "/misc/vlgscratch4/WilsonGroup/ngruver/miniconda3/lib/python3.8/site-packages/torch/optim/lr_scheduler.py:156: UserWarning: The epoch parameter in `scheduler.step()` was not necessary and is being deprecated where possible. Please use `scheduler.step()` to step the scheduler. During the deprecation, if epoch is different from None, the closed form is used instead of the new chainable form, where available. Please open an issue if you are unable to replicate your use case: https://github.com/pytorch/pytorch/issues/new/choose.\n",
      "  warnings.warn(EPOCH_DEPRECATION_WARNING, UserWarning)\n",
      "/misc/vlgscratch4/WilsonGroup/ngruver/miniconda3/lib/python3.8/site-packages/torch/optim/lr_scheduler.py:247: UserWarning: To get the last learning rate computed by the scheduler, please use `get_last_lr()`.\n",
      "  warnings.warn(\"To get the last learning rate computed by the scheduler, \"\n"
     ]
    },
    {
     "name": "stdout",
     "output_type": "stream",
     "text": [
      "    Minibatch_Loss  Train_MAE       lr0  nfe  test_MAE\n",
      "58        0.053258   0.054119  0.002852  0.0  0.060944\n"
     ]
    },
    {
     "name": "stderr",
     "output_type": "stream",
     "text": [
      "/misc/vlgscratch4/WilsonGroup/ngruver/miniconda3/lib/python3.8/site-packages/torch/nn/modules/container.py:550: UserWarning: Setting attributes on ParameterDict is not supported.\n",
      "  warnings.warn(\"Setting attributes on ParameterDict is not supported.\")\n",
      "/misc/vlgscratch4/WilsonGroup/ngruver/miniconda3/lib/python3.8/site-packages/torch/optim/lr_scheduler.py:156: UserWarning: The epoch parameter in `scheduler.step()` was not necessary and is being deprecated where possible. Please use `scheduler.step()` to step the scheduler. During the deprecation, if epoch is different from None, the closed form is used instead of the new chainable form, where available. Please open an issue if you are unable to replicate your use case: https://github.com/pytorch/pytorch/issues/new/choose.\n",
      "  warnings.warn(EPOCH_DEPRECATION_WARNING, UserWarning)\n",
      "/misc/vlgscratch4/WilsonGroup/ngruver/miniconda3/lib/python3.8/site-packages/torch/optim/lr_scheduler.py:247: UserWarning: To get the last learning rate computed by the scheduler, please use `get_last_lr()`.\n",
      "  warnings.warn(\"To get the last learning rate computed by the scheduler, \"\n"
     ]
    },
    {
     "name": "stdout",
     "output_type": "stream",
     "text": [
      "    Minibatch_Loss  Train_MAE       lr0  nfe  test_MAE\n",
      "67        0.040274   0.040576  0.002803  0.0  0.046471\n"
     ]
    },
    {
     "name": "stderr",
     "output_type": "stream",
     "text": [
      "/misc/vlgscratch4/WilsonGroup/ngruver/miniconda3/lib/python3.8/site-packages/torch/nn/modules/container.py:550: UserWarning: Setting attributes on ParameterDict is not supported.\n",
      "  warnings.warn(\"Setting attributes on ParameterDict is not supported.\")\n",
      "/misc/vlgscratch4/WilsonGroup/ngruver/miniconda3/lib/python3.8/site-packages/torch/optim/lr_scheduler.py:156: UserWarning: The epoch parameter in `scheduler.step()` was not necessary and is being deprecated where possible. Please use `scheduler.step()` to step the scheduler. During the deprecation, if epoch is different from None, the closed form is used instead of the new chainable form, where available. Please open an issue if you are unable to replicate your use case: https://github.com/pytorch/pytorch/issues/new/choose.\n",
      "  warnings.warn(EPOCH_DEPRECATION_WARNING, UserWarning)\n",
      "/misc/vlgscratch4/WilsonGroup/ngruver/miniconda3/lib/python3.8/site-packages/torch/optim/lr_scheduler.py:247: UserWarning: To get the last learning rate computed by the scheduler, please use `get_last_lr()`.\n",
      "  warnings.warn(\"To get the last learning rate computed by the scheduler, \"\n"
     ]
    },
    {
     "name": "stdout",
     "output_type": "stream",
     "text": [
      "    Minibatch_Loss  Train_MAE       lr0  nfe  test_MAE\n",
      "77        0.031961   0.032895  0.002741  0.0  0.038026\n"
     ]
    },
    {
     "name": "stderr",
     "output_type": "stream",
     "text": [
      "/misc/vlgscratch4/WilsonGroup/ngruver/miniconda3/lib/python3.8/site-packages/torch/nn/modules/container.py:550: UserWarning: Setting attributes on ParameterDict is not supported.\n",
      "  warnings.warn(\"Setting attributes on ParameterDict is not supported.\")\n",
      "/misc/vlgscratch4/WilsonGroup/ngruver/miniconda3/lib/python3.8/site-packages/torch/optim/lr_scheduler.py:156: UserWarning: The epoch parameter in `scheduler.step()` was not necessary and is being deprecated where possible. Please use `scheduler.step()` to step the scheduler. During the deprecation, if epoch is different from None, the closed form is used instead of the new chainable form, where available. Please open an issue if you are unable to replicate your use case: https://github.com/pytorch/pytorch/issues/new/choose.\n",
      "  warnings.warn(EPOCH_DEPRECATION_WARNING, UserWarning)\n",
      "/misc/vlgscratch4/WilsonGroup/ngruver/miniconda3/lib/python3.8/site-packages/torch/optim/lr_scheduler.py:247: UserWarning: To get the last learning rate computed by the scheduler, please use `get_last_lr()`.\n",
      "  warnings.warn(\"To get the last learning rate computed by the scheduler, \"\n"
     ]
    },
    {
     "name": "stdout",
     "output_type": "stream",
     "text": [
      "    Minibatch_Loss  Train_MAE       lr0  nfe  test_MAE\n",
      "86        0.036589   0.031979  0.002678  0.0  0.037477\n"
     ]
    },
    {
     "name": "stderr",
     "output_type": "stream",
     "text": [
      "/misc/vlgscratch4/WilsonGroup/ngruver/miniconda3/lib/python3.8/site-packages/torch/nn/modules/container.py:550: UserWarning: Setting attributes on ParameterDict is not supported.\n",
      "  warnings.warn(\"Setting attributes on ParameterDict is not supported.\")\n",
      "/misc/vlgscratch4/WilsonGroup/ngruver/miniconda3/lib/python3.8/site-packages/torch/optim/lr_scheduler.py:156: UserWarning: The epoch parameter in `scheduler.step()` was not necessary and is being deprecated where possible. Please use `scheduler.step()` to step the scheduler. During the deprecation, if epoch is different from None, the closed form is used instead of the new chainable form, where available. Please open an issue if you are unable to replicate your use case: https://github.com/pytorch/pytorch/issues/new/choose.\n",
      "  warnings.warn(EPOCH_DEPRECATION_WARNING, UserWarning)\n",
      "/misc/vlgscratch4/WilsonGroup/ngruver/miniconda3/lib/python3.8/site-packages/torch/optim/lr_scheduler.py:247: UserWarning: To get the last learning rate computed by the scheduler, please use `get_last_lr()`.\n",
      "  warnings.warn(\"To get the last learning rate computed by the scheduler, \"\n"
     ]
    },
    {
     "name": "stdout",
     "output_type": "stream",
     "text": [
      "    Minibatch_Loss  Train_MAE       lr0  nfe  test_MAE\n",
      "96        0.020299   0.020126  0.002601  0.0  0.024757\n"
     ]
    },
    {
     "name": "stderr",
     "output_type": "stream",
     "text": [
      "/misc/vlgscratch4/WilsonGroup/ngruver/miniconda3/lib/python3.8/site-packages/torch/nn/modules/container.py:550: UserWarning: Setting attributes on ParameterDict is not supported.\n",
      "  warnings.warn(\"Setting attributes on ParameterDict is not supported.\")\n",
      "/misc/vlgscratch4/WilsonGroup/ngruver/miniconda3/lib/python3.8/site-packages/torch/optim/lr_scheduler.py:156: UserWarning: The epoch parameter in `scheduler.step()` was not necessary and is being deprecated where possible. Please use `scheduler.step()` to step the scheduler. During the deprecation, if epoch is different from None, the closed form is used instead of the new chainable form, where available. Please open an issue if you are unable to replicate your use case: https://github.com/pytorch/pytorch/issues/new/choose.\n",
      "  warnings.warn(EPOCH_DEPRECATION_WARNING, UserWarning)\n",
      "/misc/vlgscratch4/WilsonGroup/ngruver/miniconda3/lib/python3.8/site-packages/torch/optim/lr_scheduler.py:247: UserWarning: To get the last learning rate computed by the scheduler, please use `get_last_lr()`.\n",
      "  warnings.warn(\"To get the last learning rate computed by the scheduler, \"\n"
     ]
    },
    {
     "name": "stdout",
     "output_type": "stream",
     "text": [
      "     Minibatch_Loss  Train_MAE       lr0  nfe  test_MAE\n",
      "105        0.016296   0.017853  0.002527  0.0  0.022183\n"
     ]
    },
    {
     "name": "stderr",
     "output_type": "stream",
     "text": [
      "/misc/vlgscratch4/WilsonGroup/ngruver/miniconda3/lib/python3.8/site-packages/torch/nn/modules/container.py:550: UserWarning: Setting attributes on ParameterDict is not supported.\n",
      "  warnings.warn(\"Setting attributes on ParameterDict is not supported.\")\n",
      "/misc/vlgscratch4/WilsonGroup/ngruver/miniconda3/lib/python3.8/site-packages/torch/optim/lr_scheduler.py:156: UserWarning: The epoch parameter in `scheduler.step()` was not necessary and is being deprecated where possible. Please use `scheduler.step()` to step the scheduler. During the deprecation, if epoch is different from None, the closed form is used instead of the new chainable form, where available. Please open an issue if you are unable to replicate your use case: https://github.com/pytorch/pytorch/issues/new/choose.\n",
      "  warnings.warn(EPOCH_DEPRECATION_WARNING, UserWarning)\n",
      "/misc/vlgscratch4/WilsonGroup/ngruver/miniconda3/lib/python3.8/site-packages/torch/optim/lr_scheduler.py:247: UserWarning: To get the last learning rate computed by the scheduler, please use `get_last_lr()`.\n",
      "  warnings.warn(\"To get the last learning rate computed by the scheduler, \"\n"
     ]
    },
    {
     "name": "stdout",
     "output_type": "stream",
     "text": [
      "     Minibatch_Loss  Train_MAE       lr0  nfe  test_MAE\n",
      "114        0.019881   0.019574  0.002447  0.0  0.022743\n"
     ]
    },
    {
     "name": "stderr",
     "output_type": "stream",
     "text": [
      "/misc/vlgscratch4/WilsonGroup/ngruver/miniconda3/lib/python3.8/site-packages/torch/nn/modules/container.py:550: UserWarning: Setting attributes on ParameterDict is not supported.\n",
      "  warnings.warn(\"Setting attributes on ParameterDict is not supported.\")\n",
      "/misc/vlgscratch4/WilsonGroup/ngruver/miniconda3/lib/python3.8/site-packages/torch/optim/lr_scheduler.py:156: UserWarning: The epoch parameter in `scheduler.step()` was not necessary and is being deprecated where possible. Please use `scheduler.step()` to step the scheduler. During the deprecation, if epoch is different from None, the closed form is used instead of the new chainable form, where available. Please open an issue if you are unable to replicate your use case: https://github.com/pytorch/pytorch/issues/new/choose.\n",
      "  warnings.warn(EPOCH_DEPRECATION_WARNING, UserWarning)\n",
      "/misc/vlgscratch4/WilsonGroup/ngruver/miniconda3/lib/python3.8/site-packages/torch/optim/lr_scheduler.py:247: UserWarning: To get the last learning rate computed by the scheduler, please use `get_last_lr()`.\n",
      "  warnings.warn(\"To get the last learning rate computed by the scheduler, \"\n"
     ]
    },
    {
     "name": "stdout",
     "output_type": "stream",
     "text": [
      "     Minibatch_Loss  Train_MAE       lr0  nfe  test_MAE\n",
      "123        0.025377   0.025867  0.002363  0.0  0.030985\n"
     ]
    },
    {
     "name": "stderr",
     "output_type": "stream",
     "text": [
      "/misc/vlgscratch4/WilsonGroup/ngruver/miniconda3/lib/python3.8/site-packages/torch/nn/modules/container.py:550: UserWarning: Setting attributes on ParameterDict is not supported.\n",
      "  warnings.warn(\"Setting attributes on ParameterDict is not supported.\")\n",
      "/misc/vlgscratch4/WilsonGroup/ngruver/miniconda3/lib/python3.8/site-packages/torch/optim/lr_scheduler.py:156: UserWarning: The epoch parameter in `scheduler.step()` was not necessary and is being deprecated where possible. Please use `scheduler.step()` to step the scheduler. During the deprecation, if epoch is different from None, the closed form is used instead of the new chainable form, where available. Please open an issue if you are unable to replicate your use case: https://github.com/pytorch/pytorch/issues/new/choose.\n",
      "  warnings.warn(EPOCH_DEPRECATION_WARNING, UserWarning)\n",
      "/misc/vlgscratch4/WilsonGroup/ngruver/miniconda3/lib/python3.8/site-packages/torch/optim/lr_scheduler.py:247: UserWarning: To get the last learning rate computed by the scheduler, please use `get_last_lr()`.\n",
      "  warnings.warn(\"To get the last learning rate computed by the scheduler, \"\n"
     ]
    },
    {
     "name": "stdout",
     "output_type": "stream",
     "text": [
      "     Minibatch_Loss  Train_MAE       lr0  nfe  test_MAE\n",
      "132        0.018554   0.019628  0.002274  0.0    0.0235\n"
     ]
    },
    {
     "name": "stderr",
     "output_type": "stream",
     "text": [
      "/misc/vlgscratch4/WilsonGroup/ngruver/miniconda3/lib/python3.8/site-packages/torch/nn/modules/container.py:550: UserWarning: Setting attributes on ParameterDict is not supported.\n",
      "  warnings.warn(\"Setting attributes on ParameterDict is not supported.\")\n",
      "/misc/vlgscratch4/WilsonGroup/ngruver/miniconda3/lib/python3.8/site-packages/torch/optim/lr_scheduler.py:156: UserWarning: The epoch parameter in `scheduler.step()` was not necessary and is being deprecated where possible. Please use `scheduler.step()` to step the scheduler. During the deprecation, if epoch is different from None, the closed form is used instead of the new chainable form, where available. Please open an issue if you are unable to replicate your use case: https://github.com/pytorch/pytorch/issues/new/choose.\n",
      "  warnings.warn(EPOCH_DEPRECATION_WARNING, UserWarning)\n",
      "/misc/vlgscratch4/WilsonGroup/ngruver/miniconda3/lib/python3.8/site-packages/torch/optim/lr_scheduler.py:247: UserWarning: To get the last learning rate computed by the scheduler, please use `get_last_lr()`.\n",
      "  warnings.warn(\"To get the last learning rate computed by the scheduler, \"\n"
     ]
    },
    {
     "name": "stdout",
     "output_type": "stream",
     "text": [
      "     Minibatch_Loss  Train_MAE       lr0  nfe  test_MAE\n",
      "141        0.025021   0.025484  0.002181  0.0  0.027416\n"
     ]
    },
    {
     "name": "stderr",
     "output_type": "stream",
     "text": [
      "/misc/vlgscratch4/WilsonGroup/ngruver/miniconda3/lib/python3.8/site-packages/torch/nn/modules/container.py:550: UserWarning: Setting attributes on ParameterDict is not supported.\n",
      "  warnings.warn(\"Setting attributes on ParameterDict is not supported.\")\n",
      "/misc/vlgscratch4/WilsonGroup/ngruver/miniconda3/lib/python3.8/site-packages/torch/optim/lr_scheduler.py:156: UserWarning: The epoch parameter in `scheduler.step()` was not necessary and is being deprecated where possible. Please use `scheduler.step()` to step the scheduler. During the deprecation, if epoch is different from None, the closed form is used instead of the new chainable form, where available. Please open an issue if you are unable to replicate your use case: https://github.com/pytorch/pytorch/issues/new/choose.\n",
      "  warnings.warn(EPOCH_DEPRECATION_WARNING, UserWarning)\n",
      "/misc/vlgscratch4/WilsonGroup/ngruver/miniconda3/lib/python3.8/site-packages/torch/optim/lr_scheduler.py:247: UserWarning: To get the last learning rate computed by the scheduler, please use `get_last_lr()`.\n",
      "  warnings.warn(\"To get the last learning rate computed by the scheduler, \"\n"
     ]
    },
    {
     "name": "stdout",
     "output_type": "stream",
     "text": [
      "     Minibatch_Loss  Train_MAE       lr0  nfe  test_MAE\n",
      "150        0.021665   0.021099  0.002085  0.0  0.024215\n"
     ]
    },
    {
     "name": "stderr",
     "output_type": "stream",
     "text": [
      "/misc/vlgscratch4/WilsonGroup/ngruver/miniconda3/lib/python3.8/site-packages/torch/nn/modules/container.py:550: UserWarning: Setting attributes on ParameterDict is not supported.\n",
      "  warnings.warn(\"Setting attributes on ParameterDict is not supported.\")\n",
      "/misc/vlgscratch4/WilsonGroup/ngruver/miniconda3/lib/python3.8/site-packages/torch/optim/lr_scheduler.py:156: UserWarning: The epoch parameter in `scheduler.step()` was not necessary and is being deprecated where possible. Please use `scheduler.step()` to step the scheduler. During the deprecation, if epoch is different from None, the closed form is used instead of the new chainable form, where available. Please open an issue if you are unable to replicate your use case: https://github.com/pytorch/pytorch/issues/new/choose.\n",
      "  warnings.warn(EPOCH_DEPRECATION_WARNING, UserWarning)\n",
      "/misc/vlgscratch4/WilsonGroup/ngruver/miniconda3/lib/python3.8/site-packages/torch/optim/lr_scheduler.py:247: UserWarning: To get the last learning rate computed by the scheduler, please use `get_last_lr()`.\n",
      "  warnings.warn(\"To get the last learning rate computed by the scheduler, \"\n"
     ]
    },
    {
     "name": "stdout",
     "output_type": "stream",
     "text": [
      "     Minibatch_Loss  Train_MAE       lr0  nfe  test_MAE\n",
      "159         0.01346    0.01375  0.001986  0.0  0.016832\n"
     ]
    },
    {
     "name": "stderr",
     "output_type": "stream",
     "text": [
      "/misc/vlgscratch4/WilsonGroup/ngruver/miniconda3/lib/python3.8/site-packages/torch/nn/modules/container.py:550: UserWarning: Setting attributes on ParameterDict is not supported.\n",
      "  warnings.warn(\"Setting attributes on ParameterDict is not supported.\")\n",
      "/misc/vlgscratch4/WilsonGroup/ngruver/miniconda3/lib/python3.8/site-packages/torch/optim/lr_scheduler.py:156: UserWarning: The epoch parameter in `scheduler.step()` was not necessary and is being deprecated where possible. Please use `scheduler.step()` to step the scheduler. During the deprecation, if epoch is different from None, the closed form is used instead of the new chainable form, where available. Please open an issue if you are unable to replicate your use case: https://github.com/pytorch/pytorch/issues/new/choose.\n",
      "  warnings.warn(EPOCH_DEPRECATION_WARNING, UserWarning)\n",
      "/misc/vlgscratch4/WilsonGroup/ngruver/miniconda3/lib/python3.8/site-packages/torch/optim/lr_scheduler.py:247: UserWarning: To get the last learning rate computed by the scheduler, please use `get_last_lr()`.\n",
      "  warnings.warn(\"To get the last learning rate computed by the scheduler, \"\n"
     ]
    },
    {
     "name": "stdout",
     "output_type": "stream",
     "text": [
      "     Minibatch_Loss  Train_MAE       lr0  nfe  test_MAE\n",
      "168        0.014298   0.014422  0.001884  0.0  0.017057\n"
     ]
    },
    {
     "name": "stderr",
     "output_type": "stream",
     "text": [
      "/misc/vlgscratch4/WilsonGroup/ngruver/miniconda3/lib/python3.8/site-packages/torch/nn/modules/container.py:550: UserWarning: Setting attributes on ParameterDict is not supported.\n",
      "  warnings.warn(\"Setting attributes on ParameterDict is not supported.\")\n",
      "/misc/vlgscratch4/WilsonGroup/ngruver/miniconda3/lib/python3.8/site-packages/torch/optim/lr_scheduler.py:156: UserWarning: The epoch parameter in `scheduler.step()` was not necessary and is being deprecated where possible. Please use `scheduler.step()` to step the scheduler. During the deprecation, if epoch is different from None, the closed form is used instead of the new chainable form, where available. Please open an issue if you are unable to replicate your use case: https://github.com/pytorch/pytorch/issues/new/choose.\n",
      "  warnings.warn(EPOCH_DEPRECATION_WARNING, UserWarning)\n",
      "/misc/vlgscratch4/WilsonGroup/ngruver/miniconda3/lib/python3.8/site-packages/torch/optim/lr_scheduler.py:247: UserWarning: To get the last learning rate computed by the scheduler, please use `get_last_lr()`.\n",
      "  warnings.warn(\"To get the last learning rate computed by the scheduler, \"\n"
     ]
    },
    {
     "name": "stdout",
     "output_type": "stream",
     "text": [
      "     Minibatch_Loss  Train_MAE       lr0  nfe  test_MAE\n",
      "177        0.015557   0.014898  0.001781  0.0  0.017866\n"
     ]
    },
    {
     "name": "stderr",
     "output_type": "stream",
     "text": [
      "/misc/vlgscratch4/WilsonGroup/ngruver/miniconda3/lib/python3.8/site-packages/torch/nn/modules/container.py:550: UserWarning: Setting attributes on ParameterDict is not supported.\n",
      "  warnings.warn(\"Setting attributes on ParameterDict is not supported.\")\n",
      "/misc/vlgscratch4/WilsonGroup/ngruver/miniconda3/lib/python3.8/site-packages/torch/optim/lr_scheduler.py:156: UserWarning: The epoch parameter in `scheduler.step()` was not necessary and is being deprecated where possible. Please use `scheduler.step()` to step the scheduler. During the deprecation, if epoch is different from None, the closed form is used instead of the new chainable form, where available. Please open an issue if you are unable to replicate your use case: https://github.com/pytorch/pytorch/issues/new/choose.\n",
      "  warnings.warn(EPOCH_DEPRECATION_WARNING, UserWarning)\n",
      "/misc/vlgscratch4/WilsonGroup/ngruver/miniconda3/lib/python3.8/site-packages/torch/optim/lr_scheduler.py:247: UserWarning: To get the last learning rate computed by the scheduler, please use `get_last_lr()`.\n",
      "  warnings.warn(\"To get the last learning rate computed by the scheduler, \"\n"
     ]
    },
    {
     "name": "stdout",
     "output_type": "stream",
     "text": [
      "     Minibatch_Loss  Train_MAE       lr0  nfe  test_MAE\n",
      "186        0.008071    0.00766  0.001676  0.0  0.010301\n"
     ]
    },
    {
     "name": "stderr",
     "output_type": "stream",
     "text": [
      "/misc/vlgscratch4/WilsonGroup/ngruver/miniconda3/lib/python3.8/site-packages/torch/nn/modules/container.py:550: UserWarning: Setting attributes on ParameterDict is not supported.\n",
      "  warnings.warn(\"Setting attributes on ParameterDict is not supported.\")\n",
      "/misc/vlgscratch4/WilsonGroup/ngruver/miniconda3/lib/python3.8/site-packages/torch/optim/lr_scheduler.py:156: UserWarning: The epoch parameter in `scheduler.step()` was not necessary and is being deprecated where possible. Please use `scheduler.step()` to step the scheduler. During the deprecation, if epoch is different from None, the closed form is used instead of the new chainable form, where available. Please open an issue if you are unable to replicate your use case: https://github.com/pytorch/pytorch/issues/new/choose.\n",
      "  warnings.warn(EPOCH_DEPRECATION_WARNING, UserWarning)\n",
      "/misc/vlgscratch4/WilsonGroup/ngruver/miniconda3/lib/python3.8/site-packages/torch/optim/lr_scheduler.py:247: UserWarning: To get the last learning rate computed by the scheduler, please use `get_last_lr()`.\n",
      "  warnings.warn(\"To get the last learning rate computed by the scheduler, \"\n"
     ]
    },
    {
     "name": "stdout",
     "output_type": "stream",
     "text": [
      "     Minibatch_Loss  Train_MAE       lr0  nfe  test_MAE\n",
      "195        0.013302   0.012953  0.001571  0.0  0.015777\n"
     ]
    },
    {
     "name": "stderr",
     "output_type": "stream",
     "text": [
      "/misc/vlgscratch4/WilsonGroup/ngruver/miniconda3/lib/python3.8/site-packages/torch/nn/modules/container.py:550: UserWarning: Setting attributes on ParameterDict is not supported.\n",
      "  warnings.warn(\"Setting attributes on ParameterDict is not supported.\")\n",
      "/misc/vlgscratch4/WilsonGroup/ngruver/miniconda3/lib/python3.8/site-packages/torch/optim/lr_scheduler.py:156: UserWarning: The epoch parameter in `scheduler.step()` was not necessary and is being deprecated where possible. Please use `scheduler.step()` to step the scheduler. During the deprecation, if epoch is different from None, the closed form is used instead of the new chainable form, where available. Please open an issue if you are unable to replicate your use case: https://github.com/pytorch/pytorch/issues/new/choose.\n",
      "  warnings.warn(EPOCH_DEPRECATION_WARNING, UserWarning)\n",
      "/misc/vlgscratch4/WilsonGroup/ngruver/miniconda3/lib/python3.8/site-packages/torch/optim/lr_scheduler.py:247: UserWarning: To get the last learning rate computed by the scheduler, please use `get_last_lr()`.\n",
      "  warnings.warn(\"To get the last learning rate computed by the scheduler, \"\n"
     ]
    },
    {
     "name": "stdout",
     "output_type": "stream",
     "text": [
      "     Minibatch_Loss  Train_MAE       lr0  nfe  test_MAE\n",
      "204         0.01722   0.016471  0.001465  0.0  0.019107\n"
     ]
    },
    {
     "name": "stderr",
     "output_type": "stream",
     "text": [
      "/misc/vlgscratch4/WilsonGroup/ngruver/miniconda3/lib/python3.8/site-packages/torch/nn/modules/container.py:550: UserWarning: Setting attributes on ParameterDict is not supported.\n",
      "  warnings.warn(\"Setting attributes on ParameterDict is not supported.\")\n",
      "/misc/vlgscratch4/WilsonGroup/ngruver/miniconda3/lib/python3.8/site-packages/torch/optim/lr_scheduler.py:156: UserWarning: The epoch parameter in `scheduler.step()` was not necessary and is being deprecated where possible. Please use `scheduler.step()` to step the scheduler. During the deprecation, if epoch is different from None, the closed form is used instead of the new chainable form, where available. Please open an issue if you are unable to replicate your use case: https://github.com/pytorch/pytorch/issues/new/choose.\n",
      "  warnings.warn(EPOCH_DEPRECATION_WARNING, UserWarning)\n",
      "/misc/vlgscratch4/WilsonGroup/ngruver/miniconda3/lib/python3.8/site-packages/torch/optim/lr_scheduler.py:247: UserWarning: To get the last learning rate computed by the scheduler, please use `get_last_lr()`.\n",
      "  warnings.warn(\"To get the last learning rate computed by the scheduler, \"\n"
     ]
    },
    {
     "name": "stdout",
     "output_type": "stream",
     "text": [
      "     Minibatch_Loss  Train_MAE       lr0  nfe  test_MAE\n",
      "213         0.01128   0.010741  0.001359  0.0  0.014186\n"
     ]
    },
    {
     "name": "stderr",
     "output_type": "stream",
     "text": [
      "/misc/vlgscratch4/WilsonGroup/ngruver/miniconda3/lib/python3.8/site-packages/torch/nn/modules/container.py:550: UserWarning: Setting attributes on ParameterDict is not supported.\n",
      "  warnings.warn(\"Setting attributes on ParameterDict is not supported.\")\n",
      "/misc/vlgscratch4/WilsonGroup/ngruver/miniconda3/lib/python3.8/site-packages/torch/optim/lr_scheduler.py:156: UserWarning: The epoch parameter in `scheduler.step()` was not necessary and is being deprecated where possible. Please use `scheduler.step()` to step the scheduler. During the deprecation, if epoch is different from None, the closed form is used instead of the new chainable form, where available. Please open an issue if you are unable to replicate your use case: https://github.com/pytorch/pytorch/issues/new/choose.\n",
      "  warnings.warn(EPOCH_DEPRECATION_WARNING, UserWarning)\n",
      "/misc/vlgscratch4/WilsonGroup/ngruver/miniconda3/lib/python3.8/site-packages/torch/optim/lr_scheduler.py:247: UserWarning: To get the last learning rate computed by the scheduler, please use `get_last_lr()`.\n",
      "  warnings.warn(\"To get the last learning rate computed by the scheduler, \"\n"
     ]
    },
    {
     "name": "stdout",
     "output_type": "stream",
     "text": [
      "     Minibatch_Loss  Train_MAE       lr0  nfe  test_MAE\n",
      "222        0.007078   0.006935  0.001254  0.0  0.009873\n"
     ]
    },
    {
     "name": "stderr",
     "output_type": "stream",
     "text": [
      "/misc/vlgscratch4/WilsonGroup/ngruver/miniconda3/lib/python3.8/site-packages/torch/nn/modules/container.py:550: UserWarning: Setting attributes on ParameterDict is not supported.\n",
      "  warnings.warn(\"Setting attributes on ParameterDict is not supported.\")\n",
      "/misc/vlgscratch4/WilsonGroup/ngruver/miniconda3/lib/python3.8/site-packages/torch/optim/lr_scheduler.py:156: UserWarning: The epoch parameter in `scheduler.step()` was not necessary and is being deprecated where possible. Please use `scheduler.step()` to step the scheduler. During the deprecation, if epoch is different from None, the closed form is used instead of the new chainable form, where available. Please open an issue if you are unable to replicate your use case: https://github.com/pytorch/pytorch/issues/new/choose.\n",
      "  warnings.warn(EPOCH_DEPRECATION_WARNING, UserWarning)\n",
      "/misc/vlgscratch4/WilsonGroup/ngruver/miniconda3/lib/python3.8/site-packages/torch/optim/lr_scheduler.py:247: UserWarning: To get the last learning rate computed by the scheduler, please use `get_last_lr()`.\n",
      "  warnings.warn(\"To get the last learning rate computed by the scheduler, \"\n"
     ]
    },
    {
     "name": "stdout",
     "output_type": "stream",
     "text": [
      "     Minibatch_Loss  Train_MAE      lr0  nfe  test_MAE\n",
      "231        0.013713   0.013481  0.00115  0.0  0.016593\n"
     ]
    },
    {
     "name": "stderr",
     "output_type": "stream",
     "text": [
      "/misc/vlgscratch4/WilsonGroup/ngruver/miniconda3/lib/python3.8/site-packages/torch/nn/modules/container.py:550: UserWarning: Setting attributes on ParameterDict is not supported.\n",
      "  warnings.warn(\"Setting attributes on ParameterDict is not supported.\")\n",
      "/misc/vlgscratch4/WilsonGroup/ngruver/miniconda3/lib/python3.8/site-packages/torch/optim/lr_scheduler.py:156: UserWarning: The epoch parameter in `scheduler.step()` was not necessary and is being deprecated where possible. Please use `scheduler.step()` to step the scheduler. During the deprecation, if epoch is different from None, the closed form is used instead of the new chainable form, where available. Please open an issue if you are unable to replicate your use case: https://github.com/pytorch/pytorch/issues/new/choose.\n",
      "  warnings.warn(EPOCH_DEPRECATION_WARNING, UserWarning)\n",
      "/misc/vlgscratch4/WilsonGroup/ngruver/miniconda3/lib/python3.8/site-packages/torch/optim/lr_scheduler.py:247: UserWarning: To get the last learning rate computed by the scheduler, please use `get_last_lr()`.\n",
      "  warnings.warn(\"To get the last learning rate computed by the scheduler, \"\n"
     ]
    },
    {
     "name": "stdout",
     "output_type": "stream",
     "text": [
      "     Minibatch_Loss  Train_MAE       lr0  nfe  test_MAE\n",
      "240        0.006846   0.006963  0.001048  0.0   0.00981\n"
     ]
    },
    {
     "name": "stderr",
     "output_type": "stream",
     "text": [
      "/misc/vlgscratch4/WilsonGroup/ngruver/miniconda3/lib/python3.8/site-packages/torch/nn/modules/container.py:550: UserWarning: Setting attributes on ParameterDict is not supported.\n",
      "  warnings.warn(\"Setting attributes on ParameterDict is not supported.\")\n",
      "/misc/vlgscratch4/WilsonGroup/ngruver/miniconda3/lib/python3.8/site-packages/torch/optim/lr_scheduler.py:156: UserWarning: The epoch parameter in `scheduler.step()` was not necessary and is being deprecated where possible. Please use `scheduler.step()` to step the scheduler. During the deprecation, if epoch is different from None, the closed form is used instead of the new chainable form, where available. Please open an issue if you are unable to replicate your use case: https://github.com/pytorch/pytorch/issues/new/choose.\n",
      "  warnings.warn(EPOCH_DEPRECATION_WARNING, UserWarning)\n",
      "/misc/vlgscratch4/WilsonGroup/ngruver/miniconda3/lib/python3.8/site-packages/torch/optim/lr_scheduler.py:247: UserWarning: To get the last learning rate computed by the scheduler, please use `get_last_lr()`.\n",
      "  warnings.warn(\"To get the last learning rate computed by the scheduler, \"\n"
     ]
    },
    {
     "name": "stdout",
     "output_type": "stream",
     "text": [
      "     Minibatch_Loss  Train_MAE       lr0  nfe  test_MAE\n",
      "249        0.006139   0.006417  0.000948  0.0  0.009401\n"
     ]
    },
    {
     "name": "stderr",
     "output_type": "stream",
     "text": [
      "/misc/vlgscratch4/WilsonGroup/ngruver/miniconda3/lib/python3.8/site-packages/torch/nn/modules/container.py:550: UserWarning: Setting attributes on ParameterDict is not supported.\n",
      "  warnings.warn(\"Setting attributes on ParameterDict is not supported.\")\n",
      "/misc/vlgscratch4/WilsonGroup/ngruver/miniconda3/lib/python3.8/site-packages/torch/optim/lr_scheduler.py:156: UserWarning: The epoch parameter in `scheduler.step()` was not necessary and is being deprecated where possible. Please use `scheduler.step()` to step the scheduler. During the deprecation, if epoch is different from None, the closed form is used instead of the new chainable form, where available. Please open an issue if you are unable to replicate your use case: https://github.com/pytorch/pytorch/issues/new/choose.\n",
      "  warnings.warn(EPOCH_DEPRECATION_WARNING, UserWarning)\n",
      "/misc/vlgscratch4/WilsonGroup/ngruver/miniconda3/lib/python3.8/site-packages/torch/optim/lr_scheduler.py:247: UserWarning: To get the last learning rate computed by the scheduler, please use `get_last_lr()`.\n",
      "  warnings.warn(\"To get the last learning rate computed by the scheduler, \"\n"
     ]
    },
    {
     "name": "stdout",
     "output_type": "stream",
     "text": [
      "     Minibatch_Loss  Train_MAE       lr0  nfe  test_MAE\n",
      "258         0.00471   0.004708  0.000851  0.0  0.007702\n"
     ]
    },
    {
     "name": "stderr",
     "output_type": "stream",
     "text": [
      "/misc/vlgscratch4/WilsonGroup/ngruver/miniconda3/lib/python3.8/site-packages/torch/nn/modules/container.py:550: UserWarning: Setting attributes on ParameterDict is not supported.\n",
      "  warnings.warn(\"Setting attributes on ParameterDict is not supported.\")\n",
      "/misc/vlgscratch4/WilsonGroup/ngruver/miniconda3/lib/python3.8/site-packages/torch/optim/lr_scheduler.py:156: UserWarning: The epoch parameter in `scheduler.step()` was not necessary and is being deprecated where possible. Please use `scheduler.step()` to step the scheduler. During the deprecation, if epoch is different from None, the closed form is used instead of the new chainable form, where available. Please open an issue if you are unable to replicate your use case: https://github.com/pytorch/pytorch/issues/new/choose.\n",
      "  warnings.warn(EPOCH_DEPRECATION_WARNING, UserWarning)\n",
      "/misc/vlgscratch4/WilsonGroup/ngruver/miniconda3/lib/python3.8/site-packages/torch/optim/lr_scheduler.py:247: UserWarning: To get the last learning rate computed by the scheduler, please use `get_last_lr()`.\n",
      "  warnings.warn(\"To get the last learning rate computed by the scheduler, \"\n"
     ]
    },
    {
     "name": "stdout",
     "output_type": "stream",
     "text": [
      "     Minibatch_Loss  Train_MAE       lr0  nfe  test_MAE\n",
      "267        0.009063   0.009362  0.000757  0.0  0.012058\n"
     ]
    },
    {
     "name": "stderr",
     "output_type": "stream",
     "text": [
      "/misc/vlgscratch4/WilsonGroup/ngruver/miniconda3/lib/python3.8/site-packages/torch/nn/modules/container.py:550: UserWarning: Setting attributes on ParameterDict is not supported.\n",
      "  warnings.warn(\"Setting attributes on ParameterDict is not supported.\")\n",
      "/misc/vlgscratch4/WilsonGroup/ngruver/miniconda3/lib/python3.8/site-packages/torch/optim/lr_scheduler.py:156: UserWarning: The epoch parameter in `scheduler.step()` was not necessary and is being deprecated where possible. Please use `scheduler.step()` to step the scheduler. During the deprecation, if epoch is different from None, the closed form is used instead of the new chainable form, where available. Please open an issue if you are unable to replicate your use case: https://github.com/pytorch/pytorch/issues/new/choose.\n",
      "  warnings.warn(EPOCH_DEPRECATION_WARNING, UserWarning)\n",
      "/misc/vlgscratch4/WilsonGroup/ngruver/miniconda3/lib/python3.8/site-packages/torch/optim/lr_scheduler.py:247: UserWarning: To get the last learning rate computed by the scheduler, please use `get_last_lr()`.\n",
      "  warnings.warn(\"To get the last learning rate computed by the scheduler, \"\n"
     ]
    },
    {
     "name": "stdout",
     "output_type": "stream",
     "text": [
      "     Minibatch_Loss  Train_MAE       lr0  nfe  test_MAE\n",
      "276        0.004524   0.004154  0.000667  0.0  0.007002\n"
     ]
    },
    {
     "name": "stderr",
     "output_type": "stream",
     "text": [
      "/misc/vlgscratch4/WilsonGroup/ngruver/miniconda3/lib/python3.8/site-packages/torch/nn/modules/container.py:550: UserWarning: Setting attributes on ParameterDict is not supported.\n",
      "  warnings.warn(\"Setting attributes on ParameterDict is not supported.\")\n",
      "/misc/vlgscratch4/WilsonGroup/ngruver/miniconda3/lib/python3.8/site-packages/torch/optim/lr_scheduler.py:156: UserWarning: The epoch parameter in `scheduler.step()` was not necessary and is being deprecated where possible. Please use `scheduler.step()` to step the scheduler. During the deprecation, if epoch is different from None, the closed form is used instead of the new chainable form, where available. Please open an issue if you are unable to replicate your use case: https://github.com/pytorch/pytorch/issues/new/choose.\n",
      "  warnings.warn(EPOCH_DEPRECATION_WARNING, UserWarning)\n",
      "/misc/vlgscratch4/WilsonGroup/ngruver/miniconda3/lib/python3.8/site-packages/torch/optim/lr_scheduler.py:247: UserWarning: To get the last learning rate computed by the scheduler, please use `get_last_lr()`.\n",
      "  warnings.warn(\"To get the last learning rate computed by the scheduler, \"\n"
     ]
    },
    {
     "name": "stdout",
     "output_type": "stream",
     "text": [
      "     Minibatch_Loss  Train_MAE       lr0  nfe  test_MAE\n",
      "285        0.004248   0.004133  0.000581  0.0  0.007001\n"
     ]
    },
    {
     "name": "stderr",
     "output_type": "stream",
     "text": [
      "/misc/vlgscratch4/WilsonGroup/ngruver/miniconda3/lib/python3.8/site-packages/torch/nn/modules/container.py:550: UserWarning: Setting attributes on ParameterDict is not supported.\n",
      "  warnings.warn(\"Setting attributes on ParameterDict is not supported.\")\n",
      "/misc/vlgscratch4/WilsonGroup/ngruver/miniconda3/lib/python3.8/site-packages/torch/optim/lr_scheduler.py:156: UserWarning: The epoch parameter in `scheduler.step()` was not necessary and is being deprecated where possible. Please use `scheduler.step()` to step the scheduler. During the deprecation, if epoch is different from None, the closed form is used instead of the new chainable form, where available. Please open an issue if you are unable to replicate your use case: https://github.com/pytorch/pytorch/issues/new/choose.\n",
      "  warnings.warn(EPOCH_DEPRECATION_WARNING, UserWarning)\n",
      "/misc/vlgscratch4/WilsonGroup/ngruver/miniconda3/lib/python3.8/site-packages/torch/optim/lr_scheduler.py:247: UserWarning: To get the last learning rate computed by the scheduler, please use `get_last_lr()`.\n",
      "  warnings.warn(\"To get the last learning rate computed by the scheduler, \"\n"
     ]
    },
    {
     "name": "stdout",
     "output_type": "stream",
     "text": [
      "     Minibatch_Loss  Train_MAE       lr0  nfe  test_MAE\n",
      "294        0.004038   0.004079  0.000499  0.0  0.007008\n"
     ]
    },
    {
     "name": "stderr",
     "output_type": "stream",
     "text": [
      "/misc/vlgscratch4/WilsonGroup/ngruver/miniconda3/lib/python3.8/site-packages/torch/nn/modules/container.py:550: UserWarning: Setting attributes on ParameterDict is not supported.\n",
      "  warnings.warn(\"Setting attributes on ParameterDict is not supported.\")\n",
      "/misc/vlgscratch4/WilsonGroup/ngruver/miniconda3/lib/python3.8/site-packages/torch/optim/lr_scheduler.py:156: UserWarning: The epoch parameter in `scheduler.step()` was not necessary and is being deprecated where possible. Please use `scheduler.step()` to step the scheduler. During the deprecation, if epoch is different from None, the closed form is used instead of the new chainable form, where available. Please open an issue if you are unable to replicate your use case: https://github.com/pytorch/pytorch/issues/new/choose.\n",
      "  warnings.warn(EPOCH_DEPRECATION_WARNING, UserWarning)\n",
      "/misc/vlgscratch4/WilsonGroup/ngruver/miniconda3/lib/python3.8/site-packages/torch/optim/lr_scheduler.py:247: UserWarning: To get the last learning rate computed by the scheduler, please use `get_last_lr()`.\n",
      "  warnings.warn(\"To get the last learning rate computed by the scheduler, \"\n"
     ]
    },
    {
     "name": "stdout",
     "output_type": "stream",
     "text": [
      "     Minibatch_Loss  Train_MAE       lr0  nfe  test_MAE\n",
      "303           0.004   0.003906  0.000423  0.0  0.006619\n"
     ]
    },
    {
     "name": "stderr",
     "output_type": "stream",
     "text": [
      "/misc/vlgscratch4/WilsonGroup/ngruver/miniconda3/lib/python3.8/site-packages/torch/nn/modules/container.py:550: UserWarning: Setting attributes on ParameterDict is not supported.\n",
      "  warnings.warn(\"Setting attributes on ParameterDict is not supported.\")\n",
      "/misc/vlgscratch4/WilsonGroup/ngruver/miniconda3/lib/python3.8/site-packages/torch/optim/lr_scheduler.py:156: UserWarning: The epoch parameter in `scheduler.step()` was not necessary and is being deprecated where possible. Please use `scheduler.step()` to step the scheduler. During the deprecation, if epoch is different from None, the closed form is used instead of the new chainable form, where available. Please open an issue if you are unable to replicate your use case: https://github.com/pytorch/pytorch/issues/new/choose.\n",
      "  warnings.warn(EPOCH_DEPRECATION_WARNING, UserWarning)\n",
      "/misc/vlgscratch4/WilsonGroup/ngruver/miniconda3/lib/python3.8/site-packages/torch/optim/lr_scheduler.py:247: UserWarning: To get the last learning rate computed by the scheduler, please use `get_last_lr()`.\n",
      "  warnings.warn(\"To get the last learning rate computed by the scheduler, \"\n"
     ]
    },
    {
     "name": "stdout",
     "output_type": "stream",
     "text": [
      "     Minibatch_Loss  Train_MAE       lr0  nfe  test_MAE\n",
      "312        0.002347   0.002315  0.000352  0.0  0.005249\n"
     ]
    },
    {
     "name": "stderr",
     "output_type": "stream",
     "text": [
      "/misc/vlgscratch4/WilsonGroup/ngruver/miniconda3/lib/python3.8/site-packages/torch/nn/modules/container.py:550: UserWarning: Setting attributes on ParameterDict is not supported.\n",
      "  warnings.warn(\"Setting attributes on ParameterDict is not supported.\")\n",
      "/misc/vlgscratch4/WilsonGroup/ngruver/miniconda3/lib/python3.8/site-packages/torch/optim/lr_scheduler.py:156: UserWarning: The epoch parameter in `scheduler.step()` was not necessary and is being deprecated where possible. Please use `scheduler.step()` to step the scheduler. During the deprecation, if epoch is different from None, the closed form is used instead of the new chainable form, where available. Please open an issue if you are unable to replicate your use case: https://github.com/pytorch/pytorch/issues/new/choose.\n",
      "  warnings.warn(EPOCH_DEPRECATION_WARNING, UserWarning)\n",
      "/misc/vlgscratch4/WilsonGroup/ngruver/miniconda3/lib/python3.8/site-packages/torch/optim/lr_scheduler.py:247: UserWarning: To get the last learning rate computed by the scheduler, please use `get_last_lr()`.\n",
      "  warnings.warn(\"To get the last learning rate computed by the scheduler, \"\n"
     ]
    },
    {
     "name": "stdout",
     "output_type": "stream",
     "text": [
      "     Minibatch_Loss  Train_MAE       lr0  nfe  test_MAE\n",
      "321        0.003491   0.003713  0.000286  0.0  0.006584\n"
     ]
    },
    {
     "name": "stderr",
     "output_type": "stream",
     "text": [
      "/misc/vlgscratch4/WilsonGroup/ngruver/miniconda3/lib/python3.8/site-packages/torch/nn/modules/container.py:550: UserWarning: Setting attributes on ParameterDict is not supported.\n",
      "  warnings.warn(\"Setting attributes on ParameterDict is not supported.\")\n",
      "/misc/vlgscratch4/WilsonGroup/ngruver/miniconda3/lib/python3.8/site-packages/torch/optim/lr_scheduler.py:156: UserWarning: The epoch parameter in `scheduler.step()` was not necessary and is being deprecated where possible. Please use `scheduler.step()` to step the scheduler. During the deprecation, if epoch is different from None, the closed form is used instead of the new chainable form, where available. Please open an issue if you are unable to replicate your use case: https://github.com/pytorch/pytorch/issues/new/choose.\n",
      "  warnings.warn(EPOCH_DEPRECATION_WARNING, UserWarning)\n",
      "/misc/vlgscratch4/WilsonGroup/ngruver/miniconda3/lib/python3.8/site-packages/torch/optim/lr_scheduler.py:247: UserWarning: To get the last learning rate computed by the scheduler, please use `get_last_lr()`.\n",
      "  warnings.warn(\"To get the last learning rate computed by the scheduler, \"\n"
     ]
    },
    {
     "name": "stdout",
     "output_type": "stream",
     "text": [
      "     Minibatch_Loss  Train_MAE       lr0  nfe  test_MAE\n",
      "330        0.001957    0.00173  0.000227  0.0  0.004739\n"
     ]
    },
    {
     "name": "stderr",
     "output_type": "stream",
     "text": [
      "/misc/vlgscratch4/WilsonGroup/ngruver/miniconda3/lib/python3.8/site-packages/torch/nn/modules/container.py:550: UserWarning: Setting attributes on ParameterDict is not supported.\n",
      "  warnings.warn(\"Setting attributes on ParameterDict is not supported.\")\n",
      "/misc/vlgscratch4/WilsonGroup/ngruver/miniconda3/lib/python3.8/site-packages/torch/optim/lr_scheduler.py:156: UserWarning: The epoch parameter in `scheduler.step()` was not necessary and is being deprecated where possible. Please use `scheduler.step()` to step the scheduler. During the deprecation, if epoch is different from None, the closed form is used instead of the new chainable form, where available. Please open an issue if you are unable to replicate your use case: https://github.com/pytorch/pytorch/issues/new/choose.\n",
      "  warnings.warn(EPOCH_DEPRECATION_WARNING, UserWarning)\n",
      "/misc/vlgscratch4/WilsonGroup/ngruver/miniconda3/lib/python3.8/site-packages/torch/optim/lr_scheduler.py:247: UserWarning: To get the last learning rate computed by the scheduler, please use `get_last_lr()`.\n",
      "  warnings.warn(\"To get the last learning rate computed by the scheduler, \"\n"
     ]
    },
    {
     "name": "stdout",
     "output_type": "stream",
     "text": [
      "     Minibatch_Loss  Train_MAE       lr0  nfe  test_MAE\n",
      "340        0.002535   0.002624  0.000169  0.0  0.005619\n"
     ]
    },
    {
     "name": "stderr",
     "output_type": "stream",
     "text": [
      "/misc/vlgscratch4/WilsonGroup/ngruver/miniconda3/lib/python3.8/site-packages/torch/nn/modules/container.py:550: UserWarning: Setting attributes on ParameterDict is not supported.\n",
      "  warnings.warn(\"Setting attributes on ParameterDict is not supported.\")\n",
      "/misc/vlgscratch4/WilsonGroup/ngruver/miniconda3/lib/python3.8/site-packages/torch/optim/lr_scheduler.py:156: UserWarning: The epoch parameter in `scheduler.step()` was not necessary and is being deprecated where possible. Please use `scheduler.step()` to step the scheduler. During the deprecation, if epoch is different from None, the closed form is used instead of the new chainable form, where available. Please open an issue if you are unable to replicate your use case: https://github.com/pytorch/pytorch/issues/new/choose.\n",
      "  warnings.warn(EPOCH_DEPRECATION_WARNING, UserWarning)\n",
      "/misc/vlgscratch4/WilsonGroup/ngruver/miniconda3/lib/python3.8/site-packages/torch/optim/lr_scheduler.py:247: UserWarning: To get the last learning rate computed by the scheduler, please use `get_last_lr()`.\n",
      "  warnings.warn(\"To get the last learning rate computed by the scheduler, \"\n"
     ]
    },
    {
     "name": "stdout",
     "output_type": "stream",
     "text": [
      "     Minibatch_Loss  Train_MAE       lr0  nfe  test_MAE\n",
      "349        0.001136   0.001249  0.000123  0.0   0.00425\n"
     ]
    },
    {
     "name": "stderr",
     "output_type": "stream",
     "text": [
      "/misc/vlgscratch4/WilsonGroup/ngruver/miniconda3/lib/python3.8/site-packages/torch/nn/modules/container.py:550: UserWarning: Setting attributes on ParameterDict is not supported.\n",
      "  warnings.warn(\"Setting attributes on ParameterDict is not supported.\")\n",
      "/misc/vlgscratch4/WilsonGroup/ngruver/miniconda3/lib/python3.8/site-packages/torch/optim/lr_scheduler.py:156: UserWarning: The epoch parameter in `scheduler.step()` was not necessary and is being deprecated where possible. Please use `scheduler.step()` to step the scheduler. During the deprecation, if epoch is different from None, the closed form is used instead of the new chainable form, where available. Please open an issue if you are unable to replicate your use case: https://github.com/pytorch/pytorch/issues/new/choose.\n",
      "  warnings.warn(EPOCH_DEPRECATION_WARNING, UserWarning)\n",
      "/misc/vlgscratch4/WilsonGroup/ngruver/miniconda3/lib/python3.8/site-packages/torch/optim/lr_scheduler.py:247: UserWarning: To get the last learning rate computed by the scheduler, please use `get_last_lr()`.\n",
      "  warnings.warn(\"To get the last learning rate computed by the scheduler, \"\n"
     ]
    },
    {
     "name": "stdout",
     "output_type": "stream",
     "text": [
      "     Minibatch_Loss  Train_MAE       lr0  nfe  test_MAE\n",
      "358        0.001278   0.001303  0.000085  0.0  0.004371\n"
     ]
    },
    {
     "name": "stderr",
     "output_type": "stream",
     "text": [
      "/misc/vlgscratch4/WilsonGroup/ngruver/miniconda3/lib/python3.8/site-packages/torch/nn/modules/container.py:550: UserWarning: Setting attributes on ParameterDict is not supported.\n",
      "  warnings.warn(\"Setting attributes on ParameterDict is not supported.\")\n",
      "/misc/vlgscratch4/WilsonGroup/ngruver/miniconda3/lib/python3.8/site-packages/torch/optim/lr_scheduler.py:156: UserWarning: The epoch parameter in `scheduler.step()` was not necessary and is being deprecated where possible. Please use `scheduler.step()` to step the scheduler. During the deprecation, if epoch is different from None, the closed form is used instead of the new chainable form, where available. Please open an issue if you are unable to replicate your use case: https://github.com/pytorch/pytorch/issues/new/choose.\n",
      "  warnings.warn(EPOCH_DEPRECATION_WARNING, UserWarning)\n",
      "/misc/vlgscratch4/WilsonGroup/ngruver/miniconda3/lib/python3.8/site-packages/torch/optim/lr_scheduler.py:247: UserWarning: To get the last learning rate computed by the scheduler, please use `get_last_lr()`.\n",
      "  warnings.warn(\"To get the last learning rate computed by the scheduler, \"\n"
     ]
    },
    {
     "name": "stdout",
     "output_type": "stream",
     "text": [
      "     Minibatch_Loss  Train_MAE       lr0  nfe  test_MAE\n",
      "367        0.001078   0.001208  0.000053  0.0  0.004272\n"
     ]
    },
    {
     "name": "stderr",
     "output_type": "stream",
     "text": [
      "/misc/vlgscratch4/WilsonGroup/ngruver/miniconda3/lib/python3.8/site-packages/torch/nn/modules/container.py:550: UserWarning: Setting attributes on ParameterDict is not supported.\n",
      "  warnings.warn(\"Setting attributes on ParameterDict is not supported.\")\n",
      "/misc/vlgscratch4/WilsonGroup/ngruver/miniconda3/lib/python3.8/site-packages/torch/optim/lr_scheduler.py:156: UserWarning: The epoch parameter in `scheduler.step()` was not necessary and is being deprecated where possible. Please use `scheduler.step()` to step the scheduler. During the deprecation, if epoch is different from None, the closed form is used instead of the new chainable form, where available. Please open an issue if you are unable to replicate your use case: https://github.com/pytorch/pytorch/issues/new/choose.\n",
      "  warnings.warn(EPOCH_DEPRECATION_WARNING, UserWarning)\n",
      "/misc/vlgscratch4/WilsonGroup/ngruver/miniconda3/lib/python3.8/site-packages/torch/optim/lr_scheduler.py:247: UserWarning: To get the last learning rate computed by the scheduler, please use `get_last_lr()`.\n",
      "  warnings.warn(\"To get the last learning rate computed by the scheduler, \"\n"
     ]
    },
    {
     "name": "stdout",
     "output_type": "stream",
     "text": [
      "     Minibatch_Loss  Train_MAE       lr0  nfe  test_MAE\n",
      "376        0.000928   0.001035  0.000029  0.0  0.004112\n"
     ]
    },
    {
     "name": "stderr",
     "output_type": "stream",
     "text": [
      "/misc/vlgscratch4/WilsonGroup/ngruver/miniconda3/lib/python3.8/site-packages/torch/nn/modules/container.py:550: UserWarning: Setting attributes on ParameterDict is not supported.\n",
      "  warnings.warn(\"Setting attributes on ParameterDict is not supported.\")\n",
      "/misc/vlgscratch4/WilsonGroup/ngruver/miniconda3/lib/python3.8/site-packages/torch/optim/lr_scheduler.py:156: UserWarning: The epoch parameter in `scheduler.step()` was not necessary and is being deprecated where possible. Please use `scheduler.step()` to step the scheduler. During the deprecation, if epoch is different from None, the closed form is used instead of the new chainable form, where available. Please open an issue if you are unable to replicate your use case: https://github.com/pytorch/pytorch/issues/new/choose.\n",
      "  warnings.warn(EPOCH_DEPRECATION_WARNING, UserWarning)\n",
      "/misc/vlgscratch4/WilsonGroup/ngruver/miniconda3/lib/python3.8/site-packages/torch/optim/lr_scheduler.py:247: UserWarning: To get the last learning rate computed by the scheduler, please use `get_last_lr()`.\n",
      "  warnings.warn(\"To get the last learning rate computed by the scheduler, \"\n"
     ]
    },
    {
     "name": "stdout",
     "output_type": "stream",
     "text": [
      "     Minibatch_Loss  Train_MAE       lr0  nfe  test_MAE\n",
      "385        0.001231   0.001028  0.000012  0.0  0.004102\n"
     ]
    },
    {
     "name": "stderr",
     "output_type": "stream",
     "text": [
      "/misc/vlgscratch4/WilsonGroup/ngruver/miniconda3/lib/python3.8/site-packages/torch/nn/modules/container.py:550: UserWarning: Setting attributes on ParameterDict is not supported.\n",
      "  warnings.warn(\"Setting attributes on ParameterDict is not supported.\")\n",
      "/misc/vlgscratch4/WilsonGroup/ngruver/miniconda3/lib/python3.8/site-packages/torch/optim/lr_scheduler.py:156: UserWarning: The epoch parameter in `scheduler.step()` was not necessary and is being deprecated where possible. Please use `scheduler.step()` to step the scheduler. During the deprecation, if epoch is different from None, the closed form is used instead of the new chainable form, where available. Please open an issue if you are unable to replicate your use case: https://github.com/pytorch/pytorch/issues/new/choose.\n",
      "  warnings.warn(EPOCH_DEPRECATION_WARNING, UserWarning)\n",
      "/misc/vlgscratch4/WilsonGroup/ngruver/miniconda3/lib/python3.8/site-packages/torch/optim/lr_scheduler.py:247: UserWarning: To get the last learning rate computed by the scheduler, please use `get_last_lr()`.\n",
      "  warnings.warn(\"To get the last learning rate computed by the scheduler, \"\n"
     ]
    },
    {
     "name": "stdout",
     "output_type": "stream",
     "text": [
      "     Minibatch_Loss  Train_MAE       lr0  nfe  test_MAE\n",
      "394         0.00098   0.001019  0.000003  0.0    0.0041\n"
     ]
    },
    {
     "name": "stderr",
     "output_type": "stream",
     "text": [
      "/misc/vlgscratch4/WilsonGroup/ngruver/miniconda3/lib/python3.8/site-packages/torch/nn/modules/container.py:550: UserWarning: Setting attributes on ParameterDict is not supported.\n",
      "  warnings.warn(\"Setting attributes on ParameterDict is not supported.\")\n",
      "/misc/vlgscratch4/WilsonGroup/ngruver/miniconda3/lib/python3.8/site-packages/torch/optim/lr_scheduler.py:156: UserWarning: The epoch parameter in `scheduler.step()` was not necessary and is being deprecated where possible. Please use `scheduler.step()` to step the scheduler. During the deprecation, if epoch is different from None, the closed form is used instead of the new chainable form, where available. Please open an issue if you are unable to replicate your use case: https://github.com/pytorch/pytorch/issues/new/choose.\n",
      "  warnings.warn(EPOCH_DEPRECATION_WARNING, UserWarning)\n"
     ]
    },
    {
     "name": "stdout",
     "output_type": "stream",
     "text": [
      "\n",
      "     Minibatch_Loss  Train_MAE       lr0  nfe  test_MAE\n",
      "399             NaN   0.001015  0.000003  0.0  0.004098\n"
     ]
    },
    {
     "name": "stderr",
     "output_type": "stream",
     "text": [
      "/misc/vlgscratch4/WilsonGroup/ngruver/miniconda3/lib/python3.8/site-packages/torch/optim/lr_scheduler.py:247: UserWarning: To get the last learning rate computed by the scheduler, please use `get_last_lr()`.\n",
      "  warnings.warn(\"To get the last learning rate computed by the scheduler, \"\n"
     ]
    }
   ],
   "source": [
    "trainer = make_trainer(**cfg)\n",
    "trainer.train(cfg['num_epochs'])"
   ]
  },
  {
   "cell_type": "code",
   "execution_count": 4,
   "metadata": {},
   "outputs": [],
   "source": [
    "from src.systems.rigid_body import project_onto_constraints\n",
    "\n",
    "z0_orig = cfg[\"body\"].sample_initial_conditions(1)\n",
    "\n",
    "eps = 2. * torch.rand_like(z0_orig.expand(10, -1, -1, -1)) - 1.\n",
    "z0 = project_onto_constraints(cfg[\"body\"].body_graph,\n",
    "                              z0_orig.expand(10, -1, -1, -1) + 0.1 * eps, tol=1e-5)\n",
    "ts = torch.arange(0., 10.0, cfg[\"body\"].dt, device=z0_orig.device, dtype=z0_orig.dtype)"
   ]
  },
  {
   "cell_type": "code",
   "execution_count": 5,
   "metadata": {},
   "outputs": [
    {
     "data": {
      "text/plain": [
       "torch.Size([1, 334, 2, 2, 2])"
      ]
     },
     "execution_count": 5,
     "metadata": {},
     "output_type": "execute_result"
    }
   ],
   "source": [
    "true_zt = cfg[\"body\"].integrate(z0_orig, ts, method='rk4')\n",
    "true_zt.shape"
   ]
  },
  {
   "cell_type": "code",
   "execution_count": 6,
   "metadata": {},
   "outputs": [
    {
     "data": {
      "text/plain": [
       "torch.Size([10, 334, 2, 2, 2])"
      ]
     },
     "execution_count": 6,
     "metadata": {},
     "output_type": "execute_result"
    }
   ],
   "source": [
    "true_zt_chaos = cfg[\"body\"].integrate(z0, ts, method='rk4')\n",
    "true_zt_chaos.shape"
   ]
  },
  {
   "cell_type": "code",
   "execution_count": 7,
   "metadata": {},
   "outputs": [
    {
     "name": "stdout",
     "output_type": "stream",
     "text": [
      "CHNN(\n",
      "  (dynamics): ConstrainedHamiltonianDynamics()\n",
      "  (d_moments): ParameterDict(  (0): Parameter containing: [torch.cuda.FloatTensor of size 2x1 (GPU 0)])\n",
      "  (swag_d_moments): SWAG(\n",
      "    (base): ParameterDict(  (0): Parameter containing: [torch.cuda.FloatTensor of size 2x1 (GPU 0)])\n",
      "  )\n",
      "  (potential_net): Sequential(\n",
      "    (0): Sequential(\n",
      "      (0): Linear(in_features=4, out_features=256, bias=True)\n",
      "      (1): Tanh()\n",
      "    )\n",
      "    (1): Sequential(\n",
      "      (0): Linear(in_features=256, out_features=256, bias=True)\n",
      "      (1): Tanh()\n",
      "    )\n",
      "    (2): Sequential(\n",
      "      (0): Linear(in_features=256, out_features=256, bias=True)\n",
      "      (1): Tanh()\n",
      "    )\n",
      "    (3): Linear(in_features=256, out_features=1, bias=True)\n",
      "    (4): Reshape()\n",
      "  )\n",
      "  (swag_potential_net): SWAG(\n",
      "    (base): Sequential(\n",
      "      (0): Sequential(\n",
      "        (0): Linear(in_features=4, out_features=256, bias=True)\n",
      "        (1): Tanh()\n",
      "      )\n",
      "      (1): Sequential(\n",
      "        (0): Linear(in_features=256, out_features=256, bias=True)\n",
      "        (1): Tanh()\n",
      "      )\n",
      "      (2): Sequential(\n",
      "        (0): Linear(in_features=256, out_features=256, bias=True)\n",
      "        (1): Tanh()\n",
      "      )\n",
      "      (3): Linear(in_features=256, out_features=1, bias=True)\n",
      "      (4): Reshape()\n",
      "    )\n",
      "  )\n",
      ")\n"
     ]
    }
   ],
   "source": [
    "print(trainer.model)"
   ]
  },
  {
   "cell_type": "code",
   "execution_count": 8,
   "metadata": {},
   "outputs": [
    {
     "name": "stderr",
     "output_type": "stream",
     "text": [
      "/misc/vlgscratch4/WilsonGroup/ngruver/miniconda3/lib/python3.8/site-packages/torch/nn/modules/container.py:550: UserWarning: Setting attributes on ParameterDict is not supported.\n",
      "  warnings.warn(\"Setting attributes on ParameterDict is not supported.\")\n"
     ]
    },
    {
     "data": {
      "text/plain": [
       "torch.Size([10, 334, 2, 2, 2])"
      ]
     },
     "execution_count": 8,
     "metadata": {},
     "output_type": "execute_result"
    }
   ],
   "source": [
    "num_samples = 10\n",
    "pred_zt = []\n",
    "for _ in range(num_samples):\n",
    "    trainer.model.sample()\n",
    "    model = trainer.model\n",
    "    \n",
    "    if torch.cuda.is_available():\n",
    "        model = model.cuda()\n",
    "        z0_orig = z0_orig.cuda()\n",
    "        ts = ts.cuda()\n",
    "        \n",
    "    with torch.no_grad():\n",
    "    \tzt_pred = trainer.model.integrate_swag(z0_orig, ts, method='rk4')\n",
    "    pred_zt.append(zt_pred)\n",
    "    \n",
    "pred_zt = torch.cat(pred_zt, dim=0)\n",
    "pred_zt.shape"
   ]
  },
  {
   "cell_type": "code",
   "execution_count": 9,
   "metadata": {},
   "outputs": [
    {
     "data": {
      "text/html": [
       "\n",
       "<div id=\"altair-viz-a187d8b1f1c1419795d6b9acb2d71d89\"></div>\n",
       "<script type=\"text/javascript\">\n",
       "  (function(spec, embedOpt){\n",
       "    let outputDiv = document.currentScript.previousElementSibling;\n",
       "    if (outputDiv.id !== \"altair-viz-a187d8b1f1c1419795d6b9acb2d71d89\") {\n",
       "      outputDiv = document.getElementById(\"altair-viz-a187d8b1f1c1419795d6b9acb2d71d89\");\n",
       "    }\n",
       "    const paths = {\n",
       "      \"vega\": \"https://cdn.jsdelivr.net/npm//vega@5?noext\",\n",
       "      \"vega-lib\": \"https://cdn.jsdelivr.net/npm//vega-lib?noext\",\n",
       "      \"vega-lite\": \"https://cdn.jsdelivr.net/npm//vega-lite@4.8.1?noext\",\n",
       "      \"vega-embed\": \"https://cdn.jsdelivr.net/npm//vega-embed@6?noext\",\n",
       "    };\n",
       "\n",
       "    function loadScript(lib) {\n",
       "      return new Promise(function(resolve, reject) {\n",
       "        var s = document.createElement('script');\n",
       "        s.src = paths[lib];\n",
       "        s.async = true;\n",
       "        s.onload = () => resolve(paths[lib]);\n",
       "        s.onerror = () => reject(`Error loading script: ${paths[lib]}`);\n",
       "        document.getElementsByTagName(\"head\")[0].appendChild(s);\n",
       "      });\n",
       "    }\n",
       "\n",
       "    function showError(err) {\n",
       "      outputDiv.innerHTML = `<div class=\"error\" style=\"color:red;\">${err}</div>`;\n",
       "      throw err;\n",
       "    }\n",
       "\n",
       "    function displayChart(vegaEmbed) {\n",
       "      vegaEmbed(outputDiv, spec, embedOpt)\n",
       "        .catch(err => showError(`Javascript Error: ${err.message}<br>This usually means there's a typo in your chart specification. See the javascript console for the full traceback.`));\n",
       "    }\n",
       "\n",
       "    if(typeof define === \"function\" && define.amd) {\n",
       "      requirejs.config({paths});\n",
       "      require([\"vega-embed\"], displayChart, err => showError(`Error loading script: ${err.message}`));\n",
       "    } else if (typeof vegaEmbed === \"function\") {\n",
       "      displayChart(vegaEmbed);\n",
       "    } else {\n",
       "      loadScript(\"vega\")\n",
       "        .then(() => loadScript(\"vega-lite\"))\n",
       "        .then(() => loadScript(\"vega-embed\"))\n",
       "        .catch(showError)\n",
       "        .then(() => displayChart(vegaEmbed));\n",
       "    }\n",
       "  })({\"config\": {\"view\": {\"continuousWidth\": 400, \"continuousHeight\": 300}}, \"hconcat\": [{\"layer\": [{\"mark\": {\"type\": \"area\", \"color\": \"blue\", \"opacity\": 0.1}, \"encoding\": {\"x\": {\"type\": \"quantitative\", \"field\": \"t\"}, \"y\": {\"type\": \"quantitative\", \"field\": \"y_lo\"}, \"y2\": {\"field\": \"y_hi\"}}}, {\"mark\": {\"type\": \"line\", \"color\": \"blue\", \"opacity\": 0.5}, \"encoding\": {\"x\": {\"type\": \"quantitative\", \"field\": \"t\"}, \"y\": {\"type\": \"quantitative\", \"field\": \"y\"}}}, {\"data\": {\"name\": \"data-f1de396703164b1580fa85a372ff001e\"}, \"mark\": {\"type\": \"line\", \"color\": \"black\", \"strokeDash\": [5, 5]}, \"encoding\": {\"x\": {\"type\": \"quantitative\", \"field\": \"t\"}, \"y\": {\"type\": \"quantitative\", \"field\": \"y\"}}}], \"data\": {\"name\": \"data-e37bca16d990e690aa8311ef9d0648e0\"}}, {\"layer\": [{\"mark\": {\"type\": \"area\", \"color\": \"red\", \"opacity\": 0.1}, \"encoding\": {\"x\": {\"type\": \"quantitative\", \"field\": \"t\"}, \"y\": {\"type\": \"quantitative\", \"field\": \"y_lo\"}, \"y2\": {\"field\": \"y_hi\"}}}, {\"mark\": {\"type\": \"line\", \"color\": \"red\", \"opacity\": 0.5}, \"encoding\": {\"x\": {\"type\": \"quantitative\", \"field\": \"t\"}, \"y\": {\"type\": \"quantitative\", \"field\": \"y\"}}}, {\"data\": {\"name\": \"data-f1de396703164b1580fa85a372ff001e\"}, \"mark\": {\"type\": \"line\", \"color\": \"black\", \"strokeDash\": [5, 5]}, \"encoding\": {\"x\": {\"type\": \"quantitative\", \"field\": \"t\"}, \"y\": {\"type\": \"quantitative\", \"field\": \"y\"}}}], \"data\": {\"name\": \"data-4676e5d3f831a50e9f0e51db81705056\"}}], \"title\": \"Mass = 1, DoF = 1; Chaos v/s Predictions\", \"$schema\": \"https://vega.github.io/schema/vega-lite/v4.8.1.json\", \"datasets\": {\"data-e37bca16d990e690aa8311ef9d0648e0\": [{\"t\": 0.0, \"y\": -0.833418071269989, \"y_lo\": -0.8975709080696106, \"y_hi\": -0.7692652344703674}, {\"t\": 0.029999999329447746, \"y\": -0.7822356820106506, \"y_lo\": -0.8474295735359192, \"y_hi\": -0.7170417904853821}, {\"t\": 0.05999999865889549, \"y\": -0.7390566468238831, \"y_lo\": -0.8053615689277649, \"y_hi\": -0.6727517247200012}, {\"t\": 0.09000000357627869, \"y\": -0.7039130330085754, \"y_lo\": -0.7713909149169922, \"y_hi\": -0.6364351511001587}, {\"t\": 0.11999999731779099, \"y\": -0.6767812967300415, \"y_lo\": -0.7454841136932373, \"y_hi\": -0.6080784797668457}, {\"t\": 0.15000000596046448, \"y\": -0.6575623750686646, \"y_lo\": -0.7275311350822449, \"y_hi\": -0.5875936150550842}, {\"t\": 0.18000000715255737, \"y\": -0.6460549235343933, \"y_lo\": -0.7173187136650085, \"y_hi\": -0.5747911334037781}, {\"t\": 0.20999999344348907, \"y\": -0.6419191360473633, \"y_lo\": -0.7144955396652222, \"y_hi\": -0.5693427324295044}, {\"t\": 0.23999999463558197, \"y\": -0.6446329951286316, \"y_lo\": -0.7185298204421997, \"y_hi\": -0.5707361698150635}, {\"t\": 0.26999998092651367, \"y\": -0.6534560322761536, \"y_lo\": -0.728672981262207, \"y_hi\": -0.5782390832901001}, {\"t\": 0.29999998211860657, \"y\": -0.6674546003341675, \"y_lo\": -0.7439674139022827, \"y_hi\": -0.5909417867660522}, {\"t\": 0.32999998331069946, \"y\": -0.6857189536094666, \"y_lo\": -0.7634005546569824, \"y_hi\": -0.6080373525619507}, {\"t\": 0.35999998450279236, \"y\": -0.707855224609375, \"y_lo\": -0.78631591796875, \"y_hi\": -0.62939453125}, {\"t\": 0.38999998569488525, \"y\": -0.7344432473182678, \"y_lo\": -0.8129672408103943, \"y_hi\": -0.6559192538261414}, {\"t\": 0.41999998688697815, \"y\": -0.7668328285217285, \"y_lo\": -0.8445967435836792, \"y_hi\": -0.6890689134597778}, {\"t\": 0.44999998807907104, \"y\": -0.8064106106758118, \"y_lo\": -0.8827533721923828, \"y_hi\": -0.7300678491592407}, {\"t\": 0.47999998927116394, \"y\": -0.8541318774223328, \"y_lo\": -0.928631603717804, \"y_hi\": -0.7796321511268616}, {\"t\": 0.5099999904632568, \"y\": -0.9105116724967957, \"y_lo\": -0.9829374551773071, \"y_hi\": -0.8380858898162842}, {\"t\": 0.5399999618530273, \"y\": -0.9757782816886902, \"y_lo\": -1.0460283756256104, \"y_hi\": -0.90552818775177}, {\"t\": 0.5699999928474426, \"y\": -1.050001621246338, \"y_lo\": -1.11806058883667, \"y_hi\": -0.9819427132606506}, {\"t\": 0.5999999642372131, \"y\": -1.1331664323806763, \"y_lo\": -1.199078917503357, \"y_hi\": -1.0672539472579956}, {\"t\": 0.6299999952316284, \"y\": -1.225205421447754, \"y_lo\": -1.2890591621398926, \"y_hi\": -1.1613516807556152}, {\"t\": 0.6599999666213989, \"y\": -1.3259994983673096, \"y_lo\": -1.3879103660583496, \"y_hi\": -1.2640886306762695}, {\"t\": 0.6899999976158142, \"y\": -1.4353549480438232, \"y_lo\": -1.4954508543014526, \"y_hi\": -1.3752590417861938}, {\"t\": 0.7200000286102295, \"y\": -1.5529534816741943, \"y_lo\": -1.6113542318344116, \"y_hi\": -1.494552731513977}, {\"t\": 0.75, \"y\": -1.6782766580581665, \"y_lo\": -1.7350672483444214, \"y_hi\": -1.6214860677719116}, {\"t\": 0.7800000309944153, \"y\": -1.810506820678711, \"y_lo\": -1.8657021522521973, \"y_hi\": -1.7553114891052246}, {\"t\": 0.8100000023841858, \"y\": -1.9483941793441772, \"y_lo\": -2.001890182495117, \"y_hi\": -1.8948982954025269}, {\"t\": 0.8400000333786011, \"y\": -2.090064287185669, \"y_lo\": -2.14155650138855, \"y_hi\": -2.038572072982788}, {\"t\": 0.8700000047683716, \"y\": -2.232680320739746, \"y_lo\": -2.281508445739746, \"y_hi\": -2.183852195739746}, {\"t\": 0.9000000357627869, \"y\": -2.3717408180236816, \"y_lo\": -2.416548728942871, \"y_hi\": -2.326932907104492}, {\"t\": 0.9300000071525574, \"y\": -2.499490976333618, \"y_lo\": -2.5374670028686523, \"y_hi\": -2.461514949798584}, {\"t\": 0.9599999785423279, \"y\": -2.6015710830688477, \"y_lo\": -2.6271088123321533, \"y_hi\": -2.576033353805542}, {\"t\": 0.9899999499320984, \"y\": -2.6541569232940674, \"y_lo\": -2.659991502761841, \"y_hi\": -2.648322343826294}, {\"t\": 1.0199999809265137, \"y\": -2.638578176498413, \"y_lo\": -2.653587579727173, \"y_hi\": -2.6235687732696533}, {\"t\": 1.0499999523162842, \"y\": -2.5663325786590576, \"y_lo\": -2.592064619064331, \"y_hi\": -2.540600538253784}, {\"t\": 1.0799999237060547, \"y\": -2.461998462677002, \"y_lo\": -2.4910202026367188, \"y_hi\": -2.432976722717285}, {\"t\": 1.1100000143051147, \"y\": -2.3422024250030518, \"y_lo\": -2.370915412902832, \"y_hi\": -2.3134894371032715}, {\"t\": 1.1399999856948853, \"y\": -2.216038465499878, \"y_lo\": -2.243070602416992, \"y_hi\": -2.1890063285827637}, {\"t\": 1.1699999570846558, \"y\": -2.088742971420288, \"y_lo\": -2.1140124797821045, \"y_hi\": -2.0634734630584717}, {\"t\": 1.2000000476837158, \"y\": -1.9636125564575195, \"y_lo\": -1.987941861152649, \"y_hi\": -1.9392832517623901}, {\"t\": 1.2300000190734863, \"y\": -1.8428491353988647, \"y_lo\": -1.8676546812057495, \"y_hi\": -1.81804358959198}, {\"t\": 1.2599999904632568, \"y\": -1.7279475927352905, \"y_lo\": -1.7547988891601562, \"y_hi\": -1.7010962963104248}, {\"t\": 1.290000081062317, \"y\": -1.6199076175689697, \"y_lo\": -1.6501235961914062, \"y_hi\": -1.5896916389465332}, {\"t\": 1.3200000524520874, \"y\": -1.5193727016448975, \"y_lo\": -1.5538660287857056, \"y_hi\": -1.4848793745040894}, {\"t\": 1.350000023841858, \"y\": -1.4267299175262451, \"y_lo\": -1.4660468101501465, \"y_hi\": -1.3874130249023438}, {\"t\": 1.3799999952316284, \"y\": -1.3421850204467773, \"y_lo\": -1.3865933418273926, \"y_hi\": -1.297776699066162}, {\"t\": 1.4100000858306885, \"y\": -1.265802264213562, \"y_lo\": -1.3153525590896606, \"y_hi\": -1.2162519693374634}, {\"t\": 1.440000057220459, \"y\": -1.1975040435791016, \"y_lo\": -1.2520426511764526, \"y_hi\": -1.1429654359817505}, {\"t\": 1.4700000286102295, \"y\": -1.1370079517364502, \"y_lo\": -1.196131944656372, \"y_hi\": -1.0778839588165283}, {\"t\": 1.5, \"y\": -1.0836797952651978, \"y_lo\": -1.1466180086135864, \"y_hi\": -1.020741581916809}, {\"t\": 1.53000009059906, \"y\": -1.0362675189971924, \"y_lo\": -1.1016943454742432, \"y_hi\": -0.9708406329154968}, {\"t\": 1.5600000619888306, \"y\": -0.9926678538322449, \"y_lo\": -1.0586374998092651, \"y_hi\": -0.9266982078552246}, {\"t\": 1.590000033378601, \"y\": -0.9503480792045593, \"y_lo\": -1.014880657196045, \"y_hi\": -0.8858155012130737}, {\"t\": 1.6200000047683716, \"y\": -0.9078612327575684, \"y_lo\": -0.9701278805732727, \"y_hi\": -0.845594584941864}, {\"t\": 1.6500000953674316, \"y\": -0.8658536672592163, \"y_lo\": -0.9264088869094849, \"y_hi\": -0.8052984476089478}, {\"t\": 1.6799999475479126, \"y\": -0.8262453079223633, \"y_lo\": -0.8860969543457031, \"y_hi\": -0.7663936614990234}, {\"t\": 1.709999918937683, \"y\": -0.7909945249557495, \"y_lo\": -0.8509476780891418, \"y_hi\": -0.7310413718223572}, {\"t\": 1.7399998903274536, \"y\": -0.7615882754325867, \"y_lo\": -0.8221595883369446, \"y_hi\": -0.7010169625282288}, {\"t\": 1.7699999809265137, \"y\": -0.7390350699424744, \"y_lo\": -0.8005459308624268, \"y_hi\": -0.677524209022522}, {\"t\": 1.7999999523162842, \"y\": -0.7239888310432434, \"y_lo\": -0.786648154258728, \"y_hi\": -0.6613295078277588}, {\"t\": 1.8299999237060547, \"y\": -0.7168606519699097, \"y_lo\": -0.7808144092559814, \"y_hi\": -0.6529068946838379}, {\"t\": 1.8599998950958252, \"y\": -0.7178967595100403, \"y_lo\": -0.7832547426223755, \"y_hi\": -0.6525387763977051}, {\"t\": 1.8899999856948853, \"y\": -0.7272283434867859, \"y_lo\": -0.7940796613693237, \"y_hi\": -0.660377025604248}, {\"t\": 1.9199999570846558, \"y\": -0.7449052333831787, \"y_lo\": -0.8133268356323242, \"y_hi\": -0.6764836311340332}, {\"t\": 1.9499999284744263, \"y\": -0.7709180116653442, \"y_lo\": -0.8409810066223145, \"y_hi\": -0.700855016708374}, {\"t\": 1.9799998998641968, \"y\": -0.8052152395248413, \"y_lo\": -0.8769890666007996, \"y_hi\": -0.7334414124488831}, {\"t\": 2.009999990463257, \"y\": -0.8477171063423157, \"y_lo\": -0.9212726354598999, \"y_hi\": -0.7741615772247314}, {\"t\": 2.0399999618530273, \"y\": -0.8983266949653625, \"y_lo\": -0.9737382531166077, \"y_hi\": -0.8229151368141174}, {\"t\": 2.069999933242798, \"y\": -0.9569423794746399, \"y_lo\": -1.0342880487442017, \"y_hi\": -0.8795966506004333}, {\"t\": 2.0999999046325684, \"y\": -1.0234662294387817, \"y_lo\": -1.102825403213501, \"y_hi\": -0.9441070556640625}, {\"t\": 2.129999876022339, \"y\": -1.0978115797042847, \"y_lo\": -1.1792584657669067, \"y_hi\": -1.0163646936416626}, {\"t\": 2.1600000858306885, \"y\": -1.1799042224884033, \"y_lo\": -1.2634962797164917, \"y_hi\": -1.096312165260315}, {\"t\": 2.190000057220459, \"y\": -1.2696739435195923, \"y_lo\": -1.3554322719573975, \"y_hi\": -1.183915615081787}, {\"t\": 2.2200000286102295, \"y\": -1.3670376539230347, \"y_lo\": -1.4549180269241333, \"y_hi\": -1.279157280921936}, {\"t\": 2.25, \"y\": -1.4718602895736694, \"y_lo\": -1.5617105960845947, \"y_hi\": -1.3820099830627441}, {\"t\": 2.2799999713897705, \"y\": -1.5838888883590698, \"y_lo\": -1.6753849983215332, \"y_hi\": -1.4923927783966064}, {\"t\": 2.31000018119812, \"y\": -1.7026468515396118, \"y_lo\": -1.7951923608779907, \"y_hi\": -1.610101342201233}, {\"t\": 2.3400001525878906, \"y\": -1.8272459506988525, \"y_lo\": -1.9197998046875, \"y_hi\": -1.734692096710205}, {\"t\": 2.370000123977661, \"y\": -1.9560524225234985, \"y_lo\": -2.0468051433563232, \"y_hi\": -1.8652997016906738}, {\"t\": 2.4000000953674316, \"y\": -2.08600115776062, \"y_lo\": -2.1717164516448975, \"y_hi\": -2.0002858638763428}, {\"t\": 2.430000066757202, \"y\": -2.211129665374756, \"y_lo\": -2.2858152389526367, \"y_hi\": -2.136444091796875}, {\"t\": 2.4600000381469727, \"y\": -2.319758176803589, \"y_lo\": -2.3730201721191406, \"y_hi\": -2.266496181488037}, {\"t\": 2.490000009536743, \"y\": -2.393167734146118, \"y_lo\": -2.417872190475464, \"y_hi\": -2.3684632778167725}, {\"t\": 2.5199999809265137, \"y\": -2.4184935092926025, \"y_lo\": -2.4489805698394775, \"y_hi\": -2.3880064487457275}, {\"t\": 2.5500001907348633, \"y\": -2.405780792236328, \"y_lo\": -2.447361707687378, \"y_hi\": -2.3641998767852783}, {\"t\": 2.580000162124634, \"y\": -2.3746280670166016, \"y_lo\": -2.413869857788086, \"y_hi\": -2.335386276245117}, {\"t\": 2.6100001335144043, \"y\": -2.337688446044922, \"y_lo\": -2.367885112762451, \"y_hi\": -2.3074917793273926}, {\"t\": 2.640000104904175, \"y\": -2.300967216491699, \"y_lo\": -2.320283889770508, \"y_hi\": -2.2816505432128906}, {\"t\": 2.6700000762939453, \"y\": -2.2671780586242676, \"y_lo\": -2.2797129154205322, \"y_hi\": -2.254643201828003}, {\"t\": 2.700000047683716, \"y\": -2.2374181747436523, \"y_lo\": -2.255504846572876, \"y_hi\": -2.2193315029144287}, {\"t\": 2.7300000190734863, \"y\": -2.2118618488311768, \"y_lo\": -2.241100549697876, \"y_hi\": -2.1826231479644775}, {\"t\": 2.759999990463257, \"y\": -2.190070867538452, \"y_lo\": -2.2308027744293213, \"y_hi\": -2.149338960647583}, {\"t\": 2.7900002002716064, \"y\": -2.171156883239746, \"y_lo\": -2.222409725189209, \"y_hi\": -2.119904041290283}, {\"t\": 2.820000171661377, \"y\": -2.1538803577423096, \"y_lo\": -2.2140939235687256, \"y_hi\": -2.0936667919158936}, {\"t\": 2.8500001430511475, \"y\": -2.136681079864502, \"y_lo\": -2.2037901878356934, \"y_hi\": -2.0695719718933105}, {\"t\": 2.880000114440918, \"y\": -2.117598295211792, \"y_lo\": -2.1888341903686523, \"y_hi\": -2.0463624000549316}, {\"t\": 2.9100000858306885, \"y\": -2.0939724445343018, \"y_lo\": -2.165330410003662, \"y_hi\": -2.0226144790649414}, {\"t\": 2.940000057220459, \"y\": -2.0617403984069824, \"y_lo\": -2.126967430114746, \"y_hi\": -1.9965133666992188}, {\"t\": 2.9700000286102295, \"y\": -2.014108180999756, \"y_lo\": -2.06384015083313, \"y_hi\": -1.9643762111663818}, {\"t\": 3.0, \"y\": -1.9404960870742798, \"y_lo\": -1.9723745584487915, \"y_hi\": -1.908617615699768}, {\"t\": 3.0300002098083496, \"y\": -1.8311614990234375, \"y_lo\": -1.8844754695892334, \"y_hi\": -1.7778475284576416}, {\"t\": 3.06000018119812, \"y\": -1.688480019569397, \"y_lo\": -1.7733240127563477, \"y_hi\": -1.6036360263824463}, {\"t\": 3.0900001525878906, \"y\": -1.527076005935669, \"y_lo\": -1.6266698837280273, \"y_hi\": -1.4274821281433105}, {\"t\": 3.119999885559082, \"y\": -1.3615041971206665, \"y_lo\": -1.4631050825119019, \"y_hi\": -1.2599033117294312}, {\"t\": 3.1499998569488525, \"y\": -1.1999858617782593, \"y_lo\": -1.2979967594146729, \"y_hi\": -1.1019749641418457}, {\"t\": 3.179999828338623, \"y\": -1.0462634563446045, \"y_lo\": -1.1385246515274048, \"y_hi\": -0.954002320766449}, {\"t\": 3.2099997997283936, \"y\": -0.9020584225654602, \"y_lo\": -0.9878023862838745, \"y_hi\": -0.8163144588470459}, {\"t\": 3.239999771118164, \"y\": -0.7682072520256042, \"y_lo\": -0.8472762107849121, \"y_hi\": -0.6891382932662964}, {\"t\": 3.2699999809265137, \"y\": -0.6451116800308228, \"y_lo\": -0.7176581025123596, \"y_hi\": -0.5725652575492859}, {\"t\": 3.299999952316284, \"y\": -0.5329355597496033, \"y_lo\": -0.5993002653121948, \"y_hi\": -0.4665708541870117}, {\"t\": 3.3299999237060547, \"y\": -0.43168848752975464, \"y_lo\": -0.4923454523086548, \"y_hi\": -0.3710315227508545}, {\"t\": 3.359999895095825, \"y\": -0.3412783145904541, \"y_lo\": -0.3968038558959961, \"y_hi\": -0.2857527732849121}, {\"t\": 3.3899998664855957, \"y\": -0.2615371346473694, \"y_lo\": -0.3125855624675751, \"y_hi\": -0.2104887217283249}, {\"t\": 3.419999837875366, \"y\": -0.19223903119564056, \"y_lo\": -0.2395155429840088, \"y_hi\": -0.14496251940727234}, {\"t\": 3.4499998092651367, \"y\": -0.13311055302619934, \"y_lo\": -0.1773381531238556, \"y_hi\": -0.08888296037912369}, {\"t\": 3.4799997806549072, \"y\": -0.08383756130933762, \"y_lo\": -0.12571793794631958, \"y_hi\": -0.041957177221775055}, {\"t\": 3.509999990463257, \"y\": -0.04406740516424179, \"y_lo\": -0.08424030244350433, \"y_hi\": -0.0038945041596889496}, {\"t\": 3.5399999618530273, \"y\": -0.013409554958343506, \"y_lo\": -0.05241726338863373, \"y_hi\": 0.025598153471946716}, {\"t\": 3.569999933242798, \"y\": 0.008569983765482903, \"y_lo\": -0.029693638905882835, \"y_hi\": 0.04683360457420349}, {\"t\": 3.5999999046325684, \"y\": 0.022353600710630417, \"y_lo\": -0.015457820147275925, \"y_hi\": 0.06016502156853676}, {\"t\": 3.629999876022339, \"y\": 0.028480663895606995, \"y_lo\": -0.009050335735082626, \"y_hi\": 0.06601166725158691}, {\"t\": 3.6599998474121094, \"y\": 0.027556637302041054, \"y_lo\": -0.009774444624781609, \"y_hi\": 0.06488771736621857}, {\"t\": 3.68999981880188, \"y\": 0.020261410623788834, \"y_lo\": -0.016916412860155106, \"y_hi\": 0.05743923410773277}, {\"t\": 3.7199997901916504, \"y\": 0.007354459259659052, \"y_lo\": -0.029789669439196587, \"y_hi\": 0.044498588889837265}, {\"t\": 3.75, \"y\": -0.010326752439141273, \"y_lo\": -0.047819867730140686, \"y_hi\": 0.02716636471450329}, {\"t\": 3.7799999713897705, \"y\": -0.031878262758255005, \"y_lo\": -0.07066980004310608, \"y_hi\": 0.006913278251886368}, {\"t\": 3.809999942779541, \"y\": -0.05635765194892883, \"y_lo\": -0.09834135323762894, \"y_hi\": -0.01437395066022873}, {\"t\": 3.8399999141693115, \"y\": -0.08282913267612457, \"y_lo\": -0.13110630214214325, \"y_hi\": -0.034551963210105896}, {\"t\": 3.869999885559082, \"y\": -0.11042871326208115, \"y_lo\": -0.16924646496772766, \"y_hi\": -0.05161096900701523}, {\"t\": 3.8999998569488525, \"y\": -0.13844488561153412, \"y_lo\": -0.21289634704589844, \"y_hi\": -0.0639934167265892}, {\"t\": 3.929999828338623, \"y\": -0.1664060652256012, \"y_lo\": -0.26218730211257935, \"y_hi\": -0.07062482088804245}, {\"t\": 3.9599997997283936, \"y\": -0.19416077435016632, \"y_lo\": -0.31750041246414185, \"y_hi\": -0.07082115113735199}, {\"t\": 3.990000009536743, \"y\": -0.22193419933319092, \"y_lo\": -0.3796235918998718, \"y_hi\": -0.0642448216676712}, {\"t\": 4.019999980926514, \"y\": -0.25034385919570923, \"y_lo\": -0.4497745931148529, \"y_hi\": -0.05091312527656555}, {\"t\": 4.049999713897705, \"y\": -0.2803665101528168, \"y_lo\": -0.5295170545578003, \"y_hi\": -0.031215965747833252}, {\"t\": 4.079999923706055, \"y\": -0.31325072050094604, \"y_lo\": -0.6205804347991943, \"y_hi\": -0.005920976400375366}, {\"t\": 4.110000133514404, \"y\": -0.350381076335907, \"y_lo\": -0.7245993614196777, \"y_hi\": 0.02383720874786377}, {\"t\": 4.139999866485596, \"y\": -0.39311766624450684, \"y_lo\": -0.8428295254707336, \"y_hi\": 0.05659419298171997}, {\"t\": 4.170000076293945, \"y\": -0.4426383376121521, \"y_lo\": -0.9759040474891663, \"y_hi\": 0.09062737226486206}, {\"t\": 4.199999809265137, \"y\": -0.4998076856136322, \"y_lo\": -1.123677372932434, \"y_hi\": 0.12406203150749207}, {\"t\": 4.230000019073486, \"y\": -0.5651174783706665, \"y_lo\": -1.2852551937103271, \"y_hi\": 0.15502017736434937}, {\"t\": 4.259999752044678, \"y\": -0.6386853456497192, \"y_lo\": -1.4591400623321533, \"y_hi\": 0.18176931142807007}, {\"t\": 4.289999961853027, \"y\": -0.7203283309936523, \"y_lo\": -1.6435065269470215, \"y_hi\": 0.20284980535507202}, {\"t\": 4.320000171661377, \"y\": -0.8096550703048706, \"y_lo\": -1.8364393711090088, \"y_hi\": 0.21712923049926758}, {\"t\": 4.350000381469727, \"y\": -0.9061708450317383, \"y_lo\": -2.0361249446868896, \"y_hi\": 0.22378325462341309}, {\"t\": 4.380000114440918, \"y\": -1.0093470811843872, \"y_lo\": -2.240906238555908, \"y_hi\": 0.22221219539642334}, {\"t\": 4.410000324249268, \"y\": -1.1186538934707642, \"y_lo\": -2.4492268562316895, \"y_hi\": 0.21191895008087158}, {\"t\": 4.440000057220459, \"y\": -1.2335073947906494, \"y_lo\": -2.6593854427337646, \"y_hi\": 0.19237065315246582}, {\"t\": 4.470000267028809, \"y\": -1.3531482219696045, \"y_lo\": -2.869117498397827, \"y_hi\": 0.16282105445861816}, {\"t\": 4.5, \"y\": -1.4763123989105225, \"y_lo\": -3.0746264457702637, \"y_hi\": 0.12200164794921875}, {\"t\": 4.53000020980835, \"y\": -1.6004384756088257, \"y_lo\": -3.268235206604004, \"y_hi\": 0.06735825538635254}, {\"t\": 4.559999942779541, \"y\": -1.7192453145980835, \"y_lo\": -3.431387186050415, \"y_hi\": -0.007103443145751953}, {\"t\": 4.590000152587891, \"y\": -1.8176723718643188, \"y_lo\": -3.5224475860595703, \"y_hi\": -0.11289715766906738}, {\"t\": 4.619999885559082, \"y\": -1.880979299545288, \"y_lo\": -3.513852596282959, \"y_hi\": -0.24810588359832764}, {\"t\": 4.650000095367432, \"y\": -1.9074134826660156, \"y_lo\": -3.4209790229797363, \"y_hi\": -0.3938480615615845}, {\"t\": 4.679999828338623, \"y\": -1.9050142765045166, \"y_lo\": -3.2814865112304688, \"y_hi\": -0.5285420417785645}, {\"t\": 4.710000038146973, \"y\": -1.8832378387451172, \"y_lo\": -3.1332826614379883, \"y_hi\": -0.6331930160522461}, {\"t\": 4.739999771118164, \"y\": -1.846268653869629, \"y_lo\": -2.9948372840881348, \"y_hi\": -0.697700023651123}, {\"t\": 4.769999980926514, \"y\": -1.7900359630584717, \"y_lo\": -2.845357656478882, \"y_hi\": -0.7347142696380615}, {\"t\": 4.800000190734863, \"y\": -1.7189722061157227, \"y_lo\": -2.693800449371338, \"y_hi\": -0.7441440224647522}, {\"t\": 4.830000400543213, \"y\": -1.641007661819458, \"y_lo\": -2.5682525634765625, \"y_hi\": -0.7137628793716431}, {\"t\": 4.860000133514404, \"y\": -1.556143045425415, \"y_lo\": -2.454469919204712, \"y_hi\": -0.6578162312507629}, {\"t\": 4.890000343322754, \"y\": -1.4691426753997803, \"y_lo\": -2.3689656257629395, \"y_hi\": -0.5693196654319763}, {\"t\": 4.920000076293945, \"y\": -1.3865959644317627, \"y_lo\": -2.345233917236328, \"y_hi\": -0.4279579520225525}, {\"t\": 4.950000286102295, \"y\": -1.3110005855560303, \"y_lo\": -2.3847594261169434, \"y_hi\": -0.23724186420440674}, {\"t\": 4.980000019073486, \"y\": -1.242921233177185, \"y_lo\": -2.471984386444092, \"y_hi\": -0.013858199119567871}, {\"t\": 5.010000228881836, \"y\": -1.1817800998687744, \"y_lo\": -2.5874922275543213, \"y_hi\": 0.22393202781677246}, {\"t\": 5.039999961853027, \"y\": -1.1251074075698853, \"y_lo\": -2.707085609436035, \"y_hi\": 0.4568709135055542}, {\"t\": 5.070000171661377, \"y\": -1.0659019947052002, \"y_lo\": -2.788062572479248, \"y_hi\": 0.6562584638595581}, {\"t\": 5.099999904632568, \"y\": -0.997639536857605, \"y_lo\": -2.79652738571167, \"y_hi\": 0.80124831199646}, {\"t\": 5.130000114440918, \"y\": -0.9202882647514343, \"y_lo\": -2.7321548461914062, \"y_hi\": 0.8915783762931824}, {\"t\": 5.159999847412109, \"y\": -0.8346749544143677, \"y_lo\": -2.592180013656616, \"y_hi\": 0.9228301048278809}, {\"t\": 5.190000057220459, \"y\": -0.7489662766456604, \"y_lo\": -2.415980100631714, \"y_hi\": 0.9180476069450378}, {\"t\": 5.21999979019165, \"y\": -0.6681656241416931, \"y_lo\": -2.230290651321411, \"y_hi\": 0.8939594626426697}, {\"t\": 5.25, \"y\": -0.5939798355102539, \"y_lo\": -2.044987916946411, \"y_hi\": 0.8570282459259033}, {\"t\": 5.28000020980835, \"y\": -0.5270805358886719, \"y_lo\": -1.864338994026184, \"y_hi\": 0.8101779222488403}, {\"t\": 5.310000419616699, \"y\": -0.46780210733413696, \"y_lo\": -1.6906301975250244, \"y_hi\": 0.7550260424613953}, {\"t\": 5.340000152587891, \"y\": -0.4163590967655182, \"y_lo\": -1.5253796577453613, \"y_hi\": 0.6926615238189697}, {\"t\": 5.37000036239624, \"y\": -0.3729158937931061, \"y_lo\": -1.369863748550415, \"y_hi\": 0.6240319013595581}, {\"t\": 5.400000095367432, \"y\": -0.33761563897132874, \"y_lo\": -1.2254947423934937, \"y_hi\": 0.550263524055481}, {\"t\": 5.430000305175781, \"y\": -0.3105769157409668, \"y_lo\": -1.094175100326538, \"y_hi\": 0.47302132844924927}, {\"t\": 5.460000038146973, \"y\": -0.29189619421958923, \"y_lo\": -0.978819727897644, \"y_hi\": 0.3950273096561432}, {\"t\": 5.490000247955322, \"y\": -0.2816416025161743, \"y_lo\": -0.8840294480323792, \"y_hi\": 0.3207462430000305}, {\"t\": 5.519999980926514, \"y\": -0.279854953289032, \"y_lo\": -0.8167768120765686, \"y_hi\": 0.25706690549850464}, {\"t\": 5.550000190734863, \"y\": -0.28655415773391724, \"y_lo\": -0.7860339879989624, \"y_hi\": 0.21292564272880554}, {\"t\": 5.579999923706055, \"y\": -0.3017393946647644, \"y_lo\": -0.7995939254760742, \"y_hi\": 0.1961151659488678}, {\"t\": 5.610000133514404, \"y\": -0.32540038228034973, \"y_lo\": -0.8589860200881958, \"y_hi\": 0.20818528532981873}, {\"t\": 5.639999866485596, \"y\": -0.357519268989563, \"y_lo\": -0.95844566822052, \"y_hi\": 0.24340713024139404}, {\"t\": 5.670000076293945, \"y\": -0.39807432889938354, \"y_lo\": -1.089345932006836, \"y_hi\": 0.2931972146034241}, {\"t\": 5.699999809265137, \"y\": -0.4470313489437103, \"y_lo\": -1.2442047595977783, \"y_hi\": 0.35014209151268005}, {\"t\": 5.730000019073486, \"y\": -0.5043367743492126, \"y_lo\": -1.4177669286727905, \"y_hi\": 0.40909337997436523}, {\"t\": 5.760000228881836, \"y\": -0.5698923468589783, \"y_lo\": -1.60654616355896, \"y_hi\": 0.46676141023635864}, {\"t\": 5.7900004386901855, \"y\": -0.6435226202011108, \"y_lo\": -1.8081178665161133, \"y_hi\": 0.5210726261138916}, {\"t\": 5.820000171661377, \"y\": -0.724911630153656, \"y_lo\": -2.0204126834869385, \"y_hi\": 0.5705894827842712}, {\"t\": 5.850000381469727, \"y\": -0.8134775161743164, \"y_lo\": -2.2408461570739746, \"y_hi\": 0.6138912439346313}, {\"t\": 5.880000114440918, \"y\": -0.9080154299736023, \"y_lo\": -2.464479446411133, \"y_hi\": 0.6484485268592834}, {\"t\": 5.910000324249268, \"y\": -1.0055739879608154, \"y_lo\": -2.678705930709839, \"y_hi\": 0.667557954788208}, {\"t\": 5.940000057220459, \"y\": -1.098881483078003, \"y_lo\": -2.852682113647461, \"y_hi\": 0.6549191474914551}, {\"t\": 5.970000267028809, \"y\": -1.1804332733154297, \"y_lo\": -2.961472749710083, \"y_hi\": 0.6006062030792236}, {\"t\": 6.0, \"y\": -1.2496862411499023, \"y_lo\": -3.0156898498535156, \"y_hi\": 0.5163173675537109}, {\"t\": 6.03000020980835, \"y\": -1.3129255771636963, \"y_lo\": -3.0547919273376465, \"y_hi\": 0.42894065380096436}, {\"t\": 6.059999942779541, \"y\": -1.3761119842529297, \"y_lo\": -3.1144816875457764, \"y_hi\": 0.362257719039917}, {\"t\": 6.090000152587891, \"y\": -1.441325068473816, \"y_lo\": -3.209512233734131, \"y_hi\": 0.326862096786499}, {\"t\": 6.119999885559082, \"y\": -1.5085089206695557, \"y_lo\": -3.341529130935669, \"y_hi\": 0.3245112895965576}, {\"t\": 6.150000095367432, \"y\": -1.5756757259368896, \"y_lo\": -3.5015907287597656, \"y_hi\": 0.3502393960952759}, {\"t\": 6.179999828338623, \"y\": -1.6366420984268188, \"y_lo\": -3.665144443511963, \"y_hi\": 0.39186036586761475}, {\"t\": 6.210000038146973, \"y\": -1.6741294860839844, \"y_lo\": -3.7732126712799072, \"y_hi\": 0.4249536991119385}, {\"t\": 6.239999771118164, \"y\": -1.6643564701080322, \"y_lo\": -3.74786376953125, \"y_hi\": 0.41915082931518555}, {\"t\": 6.269999980926514, \"y\": -1.6099649667739868, \"y_lo\": -3.5866923332214355, \"y_hi\": 0.36676228046417236}, {\"t\": 6.299999713897705, \"y\": -1.535340666770935, \"y_lo\": -3.353470802307129, \"y_hi\": 0.28278934955596924}, {\"t\": 6.329999923706055, \"y\": -1.4570744037628174, \"y_lo\": -3.095710515975952, \"y_hi\": 0.18156170845031738}, {\"t\": 6.359999656677246, \"y\": -1.3817379474639893, \"y_lo\": -2.8334133625030518, \"y_hi\": 0.06993746757507324}, {\"t\": 6.389999866485596, \"y\": -1.312114953994751, \"y_lo\": -2.577047824859619, \"y_hi\": -0.04718208312988281}, {\"t\": 6.419999599456787, \"y\": -1.2495357990264893, \"y_lo\": -2.3354544639587402, \"y_hi\": -0.16361725330352783}, {\"t\": 6.449999809265137, \"y\": -1.1946526765823364, \"y_lo\": -2.119776487350464, \"y_hi\": -0.26952892541885376}, {\"t\": 6.480000019073486, \"y\": -1.1477715969085693, \"y_lo\": -1.946519136428833, \"y_hi\": -0.34902405738830566}, {\"t\": 6.510000228881836, \"y\": -1.1089894771575928, \"y_lo\": -1.837602138519287, \"y_hi\": -0.38037675619125366}, {\"t\": 6.539999961853027, \"y\": -1.0781949758529663, \"y_lo\": -1.8103034496307373, \"y_hi\": -0.34608644247055054}, {\"t\": 6.570000171661377, \"y\": -1.0548255443572998, \"y_lo\": -1.8597443103790283, \"y_hi\": -0.24990683794021606}, {\"t\": 6.599999904632568, \"y\": -1.036918044090271, \"y_lo\": -1.9549684524536133, \"y_hi\": -0.11886769533157349}, {\"t\": 6.630000114440918, \"y\": -1.0196754932403564, \"y_lo\": -2.0486435890197754, \"y_hi\": 0.00929248332977295}, {\"t\": 6.659999847412109, \"y\": -1.001098394393921, \"y_lo\": -2.1232829093933105, \"y_hi\": 0.1210862398147583}, {\"t\": 6.690000057220459, \"y\": -0.9841744303703308, \"y_lo\": -2.1980175971984863, \"y_hi\": 0.22966879606246948}, {\"t\": 6.71999979019165, \"y\": -0.9694531559944153, \"y_lo\": -2.27650785446167, \"y_hi\": 0.33760160207748413}, {\"t\": 6.75, \"y\": -0.9558936357498169, \"y_lo\": -2.3508479595184326, \"y_hi\": 0.43906068801879883}, {\"t\": 6.779999732971191, \"y\": -0.9442585110664368, \"y_lo\": -2.4204764366149902, \"y_hi\": 0.5319593548774719}, {\"t\": 6.809999942779541, \"y\": -0.9357525706291199, \"y_lo\": -2.487809419631958, \"y_hi\": 0.6163042187690735}, {\"t\": 6.839999675750732, \"y\": -0.9300643801689148, \"y_lo\": -2.5482099056243896, \"y_hi\": 0.6880810856819153}, {\"t\": 6.869999885559082, \"y\": -0.9237613677978516, \"y_lo\": -2.5800328254699707, \"y_hi\": 0.732509970664978}, {\"t\": 6.899999618530273, \"y\": -0.9106541872024536, \"y_lo\": -2.5465471744537354, \"y_hi\": 0.7252388000488281}, {\"t\": 6.929999828338623, \"y\": -0.8939037322998047, \"y_lo\": -2.4659149646759033, \"y_hi\": 0.678107500076294}, {\"t\": 6.960000038146973, \"y\": -0.8801640272140503, \"y_lo\": -2.377730369567871, \"y_hi\": 0.617402195930481}, {\"t\": 6.990000247955322, \"y\": -0.871993899345398, \"y_lo\": -2.299233913421631, \"y_hi\": 0.555246114730835}, {\"t\": 7.019999980926514, \"y\": -0.8700257539749146, \"y_lo\": -2.237964630126953, \"y_hi\": 0.4979132413864136}, {\"t\": 7.050000190734863, \"y\": -0.8739215135574341, \"y_lo\": -2.1973073482513428, \"y_hi\": 0.4494643211364746}, {\"t\": 7.079999923706055, \"y\": -0.8828758001327515, \"y_lo\": -2.177722454071045, \"y_hi\": 0.41197073459625244}, {\"t\": 7.110000133514404, \"y\": -0.8962374925613403, \"y_lo\": -2.1780080795288086, \"y_hi\": 0.3855329751968384}, {\"t\": 7.139999866485596, \"y\": -0.9137850999832153, \"y_lo\": -2.1964495182037354, \"y_hi\": 0.3688793182373047}, {\"t\": 7.170000076293945, \"y\": -0.9357687830924988, \"y_lo\": -2.2318100929260254, \"y_hi\": 0.36027246713638306}, {\"t\": 7.199999809265137, \"y\": -0.962540328502655, \"y_lo\": -2.2831196784973145, \"y_hi\": 0.3580389618873596}, {\"t\": 7.230000019073486, \"y\": -0.9941733479499817, \"y_lo\": -2.3486592769622803, \"y_hi\": 0.36031264066696167}, {\"t\": 7.259999752044678, \"y\": -1.0302313566207886, \"y_lo\": -2.424882411956787, \"y_hi\": 0.3644195795059204}, {\"t\": 7.289999961853027, \"y\": -1.069320797920227, \"y_lo\": -2.504441738128662, \"y_hi\": 0.36580026149749756}, {\"t\": 7.319999694824219, \"y\": -1.1082093715667725, \"y_lo\": -2.573166847229004, \"y_hi\": 0.35674798488616943}, {\"t\": 7.349999904632568, \"y\": -1.1428020000457764, \"y_lo\": -2.617189407348633, \"y_hi\": 0.3315854072570801}, {\"t\": 7.37999963760376, \"y\": -1.1732227802276611, \"y_lo\": -2.6444735527038574, \"y_hi\": 0.29802799224853516}, {\"t\": 7.409999847412109, \"y\": -1.203719973564148, \"y_lo\": -2.6776928901672363, \"y_hi\": 0.27025294303894043}, {\"t\": 7.440000057220459, \"y\": -1.23722243309021, \"y_lo\": -2.7315292358398438, \"y_hi\": 0.2570844888687134}, {\"t\": 7.470000267028809, \"y\": -1.2744346857070923, \"y_lo\": -2.8100709915161133, \"y_hi\": 0.2612016201019287}, {\"t\": 7.5, \"y\": -1.315194845199585, \"y_lo\": -2.9118127822875977, \"y_hi\": 0.2814229726791382}, {\"t\": 7.53000020980835, \"y\": -1.3591359853744507, \"y_lo\": -3.032654285430908, \"y_hi\": 0.3143821954727173}, {\"t\": 7.559999942779541, \"y\": -1.4057811498641968, \"y_lo\": -3.1671223640441895, \"y_hi\": 0.35556018352508545}, {\"t\": 7.590000152587891, \"y\": -1.4539905786514282, \"y_lo\": -3.307860851287842, \"y_hi\": 0.39987969398498535}, {\"t\": 7.619999885559082, \"y\": -1.5003575086593628, \"y_lo\": -3.442068099975586, \"y_hi\": 0.4413529634475708}, {\"t\": 7.650000095367432, \"y\": -1.5364502668380737, \"y_lo\": -3.5437941551208496, \"y_hi\": 0.4708937406539917}, {\"t\": 7.679999828338623, \"y\": -1.5508314371109009, \"y_lo\": -3.577359199523926, \"y_hi\": 0.4756962060928345}, {\"t\": 7.710000038146973, \"y\": -1.5457017421722412, \"y_lo\": -3.5492048263549805, \"y_hi\": 0.45780134201049805}, {\"t\": 7.739999771118164, \"y\": -1.532651424407959, \"y_lo\": -3.497171640396118, \"y_hi\": 0.4318687915802002}, {\"t\": 7.769999980926514, \"y\": -1.5184452533721924, \"y_lo\": -3.4439878463745117, \"y_hi\": 0.4070974588394165}, {\"t\": 7.799999713897705, \"y\": -1.505941390991211, \"y_lo\": -3.3996176719665527, \"y_hi\": 0.3877350091934204}, {\"t\": 7.829999923706055, \"y\": -1.4961923360824585, \"y_lo\": -3.3678252696990967, \"y_hi\": 0.3754405975341797}, {\"t\": 7.859999656677246, \"y\": -1.4892534017562866, \"y_lo\": -3.3485474586486816, \"y_hi\": 0.37004077434539795}, {\"t\": 7.889999866485596, \"y\": -1.4843584299087524, \"y_lo\": -3.3381588459014893, \"y_hi\": 0.3694419860839844}, {\"t\": 7.920000076293945, \"y\": -1.4797958135604858, \"y_lo\": -3.3286986351013184, \"y_hi\": 0.36910712718963623}, {\"t\": 7.950000286102295, \"y\": -1.4730340242385864, \"y_lo\": -3.3082499504089355, \"y_hi\": 0.3621819019317627}, {\"t\": 7.980000019073486, \"y\": -1.4620403051376343, \"y_lo\": -3.266474723815918, \"y_hi\": 0.34239399433135986}, {\"t\": 8.010000228881836, \"y\": -1.4466114044189453, \"y_lo\": -3.2005274295806885, \"y_hi\": 0.30730462074279785}, {\"t\": 8.039999961853027, \"y\": -1.4277927875518799, \"y_lo\": -3.1135406494140625, \"y_hi\": 0.2579551935195923}, {\"t\": 8.069999694824219, \"y\": -1.4056936502456665, \"y_lo\": -3.006592273712158, \"y_hi\": 0.19520509243011475}, {\"t\": 8.100000381469727, \"y\": -1.3792788982391357, \"y_lo\": -2.8774309158325195, \"y_hi\": 0.1188732385635376}, {\"t\": 8.130000114440918, \"y\": -1.3511393070220947, \"y_lo\": -2.736941337585449, \"y_hi\": 0.034662842750549316}, {\"t\": 8.15999984741211, \"y\": -1.3251235485076904, \"y_lo\": -2.601691722869873, \"y_hi\": -0.04855525493621826}, {\"t\": 8.1899995803833, \"y\": -1.3026537895202637, \"y_lo\": -2.4823789596557617, \"y_hi\": -0.12292873859405518}, {\"t\": 8.220000267028809, \"y\": -1.2838798761367798, \"y_lo\": -2.3878173828125, \"y_hi\": -0.17994236946105957}, {\"t\": 8.25, \"y\": -1.268880844116211, \"y_lo\": -2.3272759914398193, \"y_hi\": -0.21048569679260254}, {\"t\": 8.279999732971191, \"y\": -1.2579219341278076, \"y_lo\": -2.3086771965026855, \"y_hi\": -0.20716679096221924}, {\"t\": 8.309999465942383, \"y\": -1.2514004707336426, \"y_lo\": -2.3355557918548584, \"y_hi\": -0.16724514961242676}, {\"t\": 8.34000015258789, \"y\": -1.2495688199996948, \"y_lo\": -2.4052557945251465, \"y_hi\": -0.09388196468353271}, {\"t\": 8.369999885559082, \"y\": -1.2519010305404663, \"y_lo\": -2.5099785327911377, \"y_hi\": 0.006176471710205078}, {\"t\": 8.399999618530273, \"y\": -1.2567903995513916, \"y_lo\": -2.6390366554260254, \"y_hi\": 0.1254558563232422}, {\"t\": 8.429999351501465, \"y\": -1.2612868547439575, \"y_lo\": -2.7787625789642334, \"y_hi\": 0.25618886947631836}, {\"t\": 8.460000038146973, \"y\": -1.260292410850525, \"y_lo\": -2.9075589179992676, \"y_hi\": 0.3869739770889282}, {\"t\": 8.489999771118164, \"y\": -1.2469426393508911, \"y_lo\": -2.9948902130126953, \"y_hi\": 0.5010048151016235}, {\"t\": 8.519999504089355, \"y\": -1.2182461023330688, \"y_lo\": -3.021848201751709, \"y_hi\": 0.5853559970855713}, {\"t\": 8.549999237060547, \"y\": -1.1758418083190918, \"y_lo\": -2.9867844581604004, \"y_hi\": 0.6351008415222168}, {\"t\": 8.579999923706055, \"y\": -1.1274067163467407, \"y_lo\": -2.922361373901367, \"y_hi\": 0.6675478219985962}, {\"t\": 8.609999656677246, \"y\": -1.0754021406173706, \"y_lo\": -2.8400096893310547, \"y_hi\": 0.6892052888870239}, {\"t\": 8.640000343322754, \"y\": -1.0204728841781616, \"y_lo\": -2.7371702194213867, \"y_hi\": 0.6962243318557739}, {\"t\": 8.670000076293945, \"y\": -0.9669917821884155, \"y_lo\": -2.6268224716186523, \"y_hi\": 0.6928390264511108}, {\"t\": 8.700000762939453, \"y\": -0.9179819822311401, \"y_lo\": -2.5203754901885986, \"y_hi\": 0.6844115257263184}, {\"t\": 8.730000495910645, \"y\": -0.8747259974479675, \"y_lo\": -2.423654317855835, \"y_hi\": 0.6742023825645447}, {\"t\": 8.760000228881836, \"y\": -0.8377479314804077, \"y_lo\": -2.3396739959716797, \"y_hi\": 0.6641780138015747}, {\"t\": 8.789999961853027, \"y\": -0.8072630167007446, \"y_lo\": -2.2699642181396484, \"y_hi\": 0.6554381847381592}, {\"t\": 8.820000648498535, \"y\": -0.7833606600761414, \"y_lo\": -2.2150542736053467, \"y_hi\": 0.6483328938484192}, {\"t\": 8.850000381469727, \"y\": -0.7660912275314331, \"y_lo\": -2.1746907234191895, \"y_hi\": 0.6425082683563232}, {\"t\": 8.880000114440918, \"y\": -0.7554861307144165, \"y_lo\": -2.147934913635254, \"y_hi\": 0.6369626522064209}, {\"t\": 8.90999984741211, \"y\": -0.7515305280685425, \"y_lo\": -2.133165121078491, \"y_hi\": 0.6301040649414062}, {\"t\": 8.940000534057617, \"y\": -0.7540601491928101, \"y_lo\": -2.127802848815918, \"y_hi\": 0.6196826696395874}, {\"t\": 8.970000267028809, \"y\": -0.7625434398651123, \"y_lo\": -2.127455472946167, \"y_hi\": 0.6023685932159424}, {\"t\": 9.0, \"y\": -0.7756853699684143, \"y_lo\": -2.124147415161133, \"y_hi\": 0.5727766156196594}, {\"t\": 9.029999732971191, \"y\": -0.7912815809249878, \"y_lo\": -2.1067051887512207, \"y_hi\": 0.5241420269012451}, {\"t\": 9.0600004196167, \"y\": -0.80842125415802, \"y_lo\": -2.0757555961608887, \"y_hi\": 0.45891308784484863}, {\"t\": 9.09000015258789, \"y\": -0.8292085528373718, \"y_lo\": -2.052560567855835, \"y_hi\": 0.39414340257644653}, {\"t\": 9.119999885559082, \"y\": -0.8556482195854187, \"y_lo\": -2.056553363800049, \"y_hi\": 0.34525686502456665}, {\"t\": 9.149999618530273, \"y\": -0.8884465098381042, \"y_lo\": -2.096515655517578, \"y_hi\": 0.31962257623672485}, {\"t\": 9.180000305175781, \"y\": -0.9275490641593933, \"y_lo\": -2.173305034637451, \"y_hi\": 0.3182069659233093}, {\"t\": 9.210000038146973, \"y\": -0.9722796678543091, \"y_lo\": -2.2816429138183594, \"y_hi\": 0.33708369731903076}, {\"t\": 9.239999771118164, \"y\": -1.0211833715438843, \"y_lo\": -2.411156177520752, \"y_hi\": 0.36878955364227295}, {\"t\": 9.269999504089355, \"y\": -1.0727019309997559, \"y_lo\": -2.5501651763916016, \"y_hi\": 0.4047611951828003}, {\"t\": 9.300000190734863, \"y\": -1.1263065338134766, \"y_lo\": -2.6906402111053467, \"y_hi\": 0.43802714347839355}, {\"t\": 9.329999923706055, \"y\": -1.180969476699829, \"y_lo\": -2.822934627532959, \"y_hi\": 0.46099579334259033}, {\"t\": 9.359999656677246, \"y\": -1.2322508096694946, \"y_lo\": -2.9249205589294434, \"y_hi\": 0.46041905879974365}, {\"t\": 9.389999389648438, \"y\": -1.2745029926300049, \"y_lo\": -2.976020336151123, \"y_hi\": 0.42701423168182373}, {\"t\": 9.420000076293945, \"y\": -1.3071259260177612, \"y_lo\": -2.9825592041015625, \"y_hi\": 0.3683074712753296}, {\"t\": 9.449999809265137, \"y\": -1.3315759897232056, \"y_lo\": -2.960296392440796, \"y_hi\": 0.29714441299438477}, {\"t\": 9.479999542236328, \"y\": -1.353386640548706, \"y_lo\": -2.9469242095947266, \"y_hi\": 0.24015092849731445}, {\"t\": 9.50999927520752, \"y\": -1.373866319656372, \"y_lo\": -2.9608898162841797, \"y_hi\": 0.21315717697143555}, {\"t\": 9.539999961853027, \"y\": -1.392029047012329, \"y_lo\": -3.002159595489502, \"y_hi\": 0.2181013822555542}, {\"t\": 9.569999694824219, \"y\": -1.4066323041915894, \"y_lo\": -3.061753034591675, \"y_hi\": 0.2484884262084961}, {\"t\": 9.600000381469727, \"y\": -1.4195903539657593, \"y_lo\": -3.1391849517822266, \"y_hi\": 0.300004243850708}, {\"t\": 9.630000114440918, \"y\": -1.4340177774429321, \"y_lo\": -3.2391295433044434, \"y_hi\": 0.37109410762786865}, {\"t\": 9.65999984741211, \"y\": -1.4509401321411133, \"y_lo\": -3.359539031982422, \"y_hi\": 0.45765864849090576}, {\"t\": 9.6899995803833, \"y\": -1.4691540002822876, \"y_lo\": -3.4907917976379395, \"y_hi\": 0.5524839162826538}, {\"t\": 9.720000267028809, \"y\": -1.4838424921035767, \"y_lo\": -3.6114015579223633, \"y_hi\": 0.6437166929244995}, {\"t\": 9.75, \"y\": -1.483736515045166, \"y_lo\": -3.6796762943267822, \"y_hi\": 0.7122032642364502}, {\"t\": 9.779999732971191, \"y\": -1.4561351537704468, \"y_lo\": -3.650994300842285, \"y_hi\": 0.738723874092102}, {\"t\": 9.8100004196167, \"y\": -1.3988654613494873, \"y_lo\": -3.5126845836639404, \"y_hi\": 0.7149536609649658}, {\"t\": 9.84000015258789, \"y\": -1.3279386758804321, \"y_lo\": -3.3156886100769043, \"y_hi\": 0.65981125831604}, {\"t\": 9.869999885559082, \"y\": -1.2557435035705566, \"y_lo\": -3.1023387908935547, \"y_hi\": 0.590851902961731}, {\"t\": 9.899999618530273, \"y\": -1.1874481439590454, \"y_lo\": -2.891939878463745, \"y_hi\": 0.5170435905456543}, {\"t\": 9.930000305175781, \"y\": -1.1253348588943481, \"y_lo\": -2.6951241493225098, \"y_hi\": 0.4444544315338135}, {\"t\": 9.960000038146973, \"y\": -1.0705703496932983, \"y_lo\": -2.5198488235473633, \"y_hi\": 0.3787081241607666}, {\"t\": 9.989999771118164, \"y\": -1.0238170623779297, \"y_lo\": -2.373325824737549, \"y_hi\": 0.325691819190979}], \"data-f1de396703164b1580fa85a372ff001e\": [{\"t\": 0.0, \"y\": -0.8368945121765137}, {\"t\": 0.029999999329447746, \"y\": -0.7862285375595093}, {\"t\": 0.05999999865889549, \"y\": -0.7435587644577026}, {\"t\": 0.09000000357627869, \"y\": -0.7089160680770874}, {\"t\": 0.11999999731779099, \"y\": -0.6822755336761475}, {\"t\": 0.15000000596046448, \"y\": -0.6635355353355408}, {\"t\": 0.18000000715255737, \"y\": -0.6524901390075684}, {\"t\": 0.20999999344348907, \"y\": -0.6487913131713867}, {\"t\": 0.23999999463558197, \"y\": -0.651901364326477}, {\"t\": 0.26999998092651367, \"y\": -0.6610487103462219}, {\"t\": 0.29999998211860657, \"y\": -0.6752451658248901}, {\"t\": 0.32999998331069946, \"y\": -0.6935102343559265}, {\"t\": 0.35999998450279236, \"y\": -0.715429961681366}, {\"t\": 0.38999998569488525, \"y\": -0.7416813373565674}, {\"t\": 0.41999998688697815, \"y\": -0.7737451195716858}, {\"t\": 0.44999998807907104, \"y\": -0.8130598068237305}, {\"t\": 0.47999998927116394, \"y\": -0.8605709075927734}, {\"t\": 0.5099999904632568, \"y\": -0.9167723655700684}, {\"t\": 0.5399999618530273, \"y\": -0.9818772077560425}, {\"t\": 0.5699999928474426, \"y\": -1.055946707725525}, {\"t\": 0.5999999642372131, \"y\": -1.1389609575271606}, {\"t\": 0.6299999952316284, \"y\": -1.230850338935852}, {\"t\": 0.6599999666213989, \"y\": -1.3314945697784424}, {\"t\": 0.6899999976158142, \"y\": -1.4406987428665161}, {\"t\": 0.7200000286102295, \"y\": -1.5581419467926025}, {\"t\": 0.75, \"y\": -1.6833016872406006}, {\"t\": 0.7800000309944153, \"y\": -1.8153547048568726}, {\"t\": 0.8100000023841858, \"y\": -1.9530428647994995}, {\"t\": 0.8400000333786011, \"y\": -2.0944836139678955}, {\"t\": 0.8700000047683716, \"y\": -2.236830711364746}, {\"t\": 0.9000000357627869, \"y\": -2.375575065612793}, {\"t\": 0.9300000071525574, \"y\": -2.5029428005218506}, {\"t\": 0.9599999785423279, \"y\": -2.6044743061065674}, {\"t\": 0.9899999499320984, \"y\": -2.655886650085449}, {\"t\": 1.0199999809265137, \"y\": -2.6381640434265137}, {\"t\": 1.0499999523162842, \"y\": -2.5637242794036865}, {\"t\": 1.0799999237060547, \"y\": -2.4576237201690674}, {\"t\": 1.1100000143051147, \"y\": -2.3363871574401855}, {\"t\": 1.1399999856948853, \"y\": -2.2089953422546387}, {\"t\": 1.1699999570846558, \"y\": -2.0806233882904053}, {\"t\": 1.2000000476837158, \"y\": -1.9545339345932007}, {\"t\": 1.2300000190734863, \"y\": -1.8329085111618042}, {\"t\": 1.2599999904632568, \"y\": -1.7172284126281738}, {\"t\": 1.290000081062317, \"y\": -1.6084846258163452}, {\"t\": 1.3200000524520874, \"y\": -1.5073158740997314}, {\"t\": 1.350000023841858, \"y\": -1.414109230041504}, {\"t\": 1.3799999952316284, \"y\": -1.3290766477584839}, {\"t\": 1.4100000858306885, \"y\": -1.2522977590560913}, {\"t\": 1.440000057220459, \"y\": -1.1837260723114014}, {\"t\": 1.4700000286102295, \"y\": -1.1231389045715332}, {\"t\": 1.5, \"y\": -1.0700104236602783}, {\"t\": 1.53000009059906, \"y\": -1.0232666730880737}, {\"t\": 1.5600000619888306, \"y\": -0.9809905290603638}, {\"t\": 1.590000033378601, \"y\": -0.9405876994132996}, {\"t\": 1.6200000047683716, \"y\": -0.9001827239990234}, {\"t\": 1.6500000953674316, \"y\": -0.8600646257400513}, {\"t\": 1.6799999475479126, \"y\": -0.8220956325531006}, {\"t\": 1.709999918937683, \"y\": -0.788293719291687}, {\"t\": 1.7399998903274536, \"y\": -0.7602035999298096}, {\"t\": 1.7699999809265137, \"y\": -0.7388720512390137}, {\"t\": 1.7999999523162842, \"y\": -0.724977433681488}, {\"t\": 1.8299999237060547, \"y\": -0.7189463376998901}, {\"t\": 1.8599998950958252, \"y\": -0.721034586429596}, {\"t\": 1.8899999856948853, \"y\": -0.731379508972168}, {\"t\": 1.9199999570846558, \"y\": -0.7500340938568115}, {\"t\": 1.9499999284744263, \"y\": -0.7769908308982849}, {\"t\": 1.9799998998641968, \"y\": -0.8121989965438843}, {\"t\": 2.009999990463257, \"y\": -0.8555790185928345}, {\"t\": 2.0399999618530273, \"y\": -0.9070343375205994}, {\"t\": 2.069999933242798, \"y\": -0.9664636254310608}, {\"t\": 2.0999999046325684, \"y\": -1.0337700843811035}, {\"t\": 2.129999876022339, \"y\": -1.10886812210083}, {\"t\": 2.1600000858306885, \"y\": -1.191685676574707}, {\"t\": 2.190000057220459, \"y\": -1.2821540832519531}, {\"t\": 2.2200000286102295, \"y\": -1.3801913261413574}, {\"t\": 2.25, \"y\": -1.4856607913970947}, {\"t\": 2.2799999713897705, \"y\": -1.5983045101165771}, {\"t\": 2.31000018119812, \"y\": -1.717634677886963}, {\"t\": 2.3400001525878906, \"y\": -1.84274160861969}, {\"t\": 2.370000123977661, \"y\": -1.9719539880752563}, {\"t\": 2.4000000953674316, \"y\": -2.102135419845581}, {\"t\": 2.430000066757202, \"y\": -2.2271602153778076}, {\"t\": 2.4600000381469727, \"y\": -2.3348100185394287}, {\"t\": 2.490000009536743, \"y\": -2.4047365188598633}, {\"t\": 2.5199999809265137, \"y\": -2.4240880012512207}, {\"t\": 2.5500001907348633, \"y\": -2.407024621963501}, {\"t\": 2.580000162124634, \"y\": -2.373889207839966}, {\"t\": 2.6100001335144043, \"y\": -2.336149215698242}, {\"t\": 2.640000104904175, \"y\": -2.2991347312927246}, {\"t\": 2.6700000762939453, \"y\": -2.265268564224243}, {\"t\": 2.700000047683716, \"y\": -2.2355093955993652}, {\"t\": 2.7300000190734863, \"y\": -2.209954261779785}, {\"t\": 2.759999990463257, \"y\": -2.188114881515503}, {\"t\": 2.7900002002716064, \"y\": -2.1690726280212402}, {\"t\": 2.820000171661377, \"y\": -2.1515748500823975}, {\"t\": 2.8500001430511475, \"y\": -2.1340670585632324}, {\"t\": 2.880000114440918, \"y\": -2.114614248275757}, {\"t\": 2.9100000858306885, \"y\": -2.0906081199645996}, {\"t\": 2.940000057220459, \"y\": -2.0580739974975586}, {\"t\": 2.9700000286102295, \"y\": -2.010266065597534}, {\"t\": 3.0, \"y\": -1.935840368270874}, {\"t\": 3.0300002098083496, \"y\": -1.8224952220916748}, {\"t\": 3.06000018119812, \"y\": -1.6738828420639038}, {\"t\": 3.0900001525878906, \"y\": -1.5091478824615479}, {\"t\": 3.119999885559082, \"y\": -1.3428305387496948}, {\"t\": 3.1499998569488525, \"y\": -1.1817413568496704}, {\"t\": 3.179999828338623, \"y\": -1.0289231538772583}, {\"t\": 3.2099997997283936, \"y\": -0.8858270645141602}, {\"t\": 3.239999771118164, \"y\": -0.7531789541244507}, {\"t\": 3.2699999809265137, \"y\": -0.6313301920890808}, {\"t\": 3.299999952316284, \"y\": -0.5204178094863892}, {\"t\": 3.3299999237060547, \"y\": -0.42043542861938477}, {\"t\": 3.359999895095825, \"y\": -0.331279456615448}, {\"t\": 3.3899998664855957, \"y\": -0.2527729272842407}, {\"t\": 3.419999837875366, \"y\": -0.18468163907527924}, {\"t\": 3.4499998092651367, \"y\": -0.12672443687915802}, {\"t\": 3.4799997806549072, \"y\": -0.07857926934957504}, {\"t\": 3.509999990463257, \"y\": -0.03988538309931755}, {\"t\": 3.5399999618530273, \"y\": -0.010243626311421394}, {\"t\": 3.569999933242798, \"y\": 0.01078920066356659}, {\"t\": 3.5999999046325684, \"y\": 0.023705437779426575}, {\"t\": 3.629999876022339, \"y\": 0.029055144637823105}, {\"t\": 3.6599998474121094, \"y\": 0.02745513804256916}, {\"t\": 3.68999981880188, \"y\": 0.019597064703702927}, {\"t\": 3.7199997901916504, \"y\": 0.006252066232264042}, {\"t\": 3.75, \"y\": -0.011731519363820553}, {\"t\": 3.7799999713897705, \"y\": -0.03344067558646202}, {\"t\": 3.809999942779541, \"y\": -0.05792709067463875}, {\"t\": 3.8399999141693115, \"y\": -0.08425404876470566}, {\"t\": 3.869999885559082, \"y\": -0.11156395077705383}, {\"t\": 3.8999998569488525, \"y\": -0.13916243612766266}, {\"t\": 3.929999828338623, \"y\": -0.1666104942560196}, {\"t\": 3.9599997997283936, \"y\": -0.19381096959114075}, {\"t\": 3.990000009536743, \"y\": -0.2210731953382492}, {\"t\": 4.019999980926514, \"y\": -0.24913844466209412}, {\"t\": 4.049999713897705, \"y\": -0.27915698289871216}, {\"t\": 4.079999923706055, \"y\": -0.3126084804534912}, {\"t\": 4.110000133514404, \"y\": -0.3511655330657959}, {\"t\": 4.139999866485596, \"y\": -0.3965160548686981}, {\"t\": 4.170000076293945, \"y\": -0.4501644968986511}, {\"t\": 4.199999809265137, \"y\": -0.5132346153259277}, {\"t\": 4.230000019073486, \"y\": -0.5863356590270996}, {\"t\": 4.259999752044678, \"y\": -0.66950523853302}, {\"t\": 4.289999961853027, \"y\": -0.762282133102417}, {\"t\": 4.320000171661377, \"y\": -0.8638590574264526}, {\"t\": 4.350000381469727, \"y\": -0.973295271396637}, {\"t\": 4.380000114440918, \"y\": -1.0896997451782227}, {\"t\": 4.410000324249268, \"y\": -1.2123522758483887}, {\"t\": 4.440000057220459, \"y\": -1.3407124280929565}, {\"t\": 4.470000267028809, \"y\": -1.4743802547454834}, {\"t\": 4.5, \"y\": -1.6129670143127441}, {\"t\": 4.53000020980835, \"y\": -1.755952000617981}, {\"t\": 4.559999942779541, \"y\": -1.9024301767349243}, {\"t\": 4.590000152587891, \"y\": -2.050722360610962}, {\"t\": 4.619999885559082, \"y\": -2.1974806785583496}, {\"t\": 4.650000095367432, \"y\": -2.335400104522705}, {\"t\": 4.679999828338623, \"y\": -2.445986270904541}, {\"t\": 4.710000038146973, \"y\": -2.4814717769622803}, {\"t\": 4.739999771118164, \"y\": -2.399456024169922}, {\"t\": 4.769999980926514, \"y\": -2.2509078979492188}, {\"t\": 4.800000190734863, \"y\": -2.083864212036133}, {\"t\": 4.830000400543213, \"y\": -1.9148865938186646}, {\"t\": 4.860000133514404, \"y\": -1.7499337196350098}, {\"t\": 4.890000343322754, \"y\": -1.5915683507919312}, {\"t\": 4.920000076293945, \"y\": -1.4410409927368164}, {\"t\": 4.950000286102295, \"y\": -1.2989721298217773}, {\"t\": 4.980000019073486, \"y\": -1.1656516790390015}, {\"t\": 5.010000228881836, \"y\": -1.0411460399627686}, {\"t\": 5.039999961853027, \"y\": -0.9253796339035034}, {\"t\": 5.070000171661377, \"y\": -0.8181583881378174}, {\"t\": 5.099999904632568, \"y\": -0.7192179560661316}, {\"t\": 5.130000114440918, \"y\": -0.6282452344894409}, {\"t\": 5.159999847412109, \"y\": -0.5449299216270447}, {\"t\": 5.190000057220459, \"y\": -0.46899163722991943}, {\"t\": 5.21999979019165, \"y\": -0.4002224802970886}, {\"t\": 5.25, \"y\": -0.3384954631328583}, {\"t\": 5.28000020980835, \"y\": -0.2837740480899811}, {\"t\": 5.310000419616699, \"y\": -0.2360949069261551}, {\"t\": 5.340000152587891, \"y\": -0.19554796814918518}, {\"t\": 5.37000036239624, \"y\": -0.162249356508255}, {\"t\": 5.400000095367432, \"y\": -0.13632288575172424}, {\"t\": 5.430000305175781, \"y\": -0.11787767708301544}, {\"t\": 5.460000038146973, \"y\": -0.10699818283319473}, {\"t\": 5.490000247955322, \"y\": -0.10373332351446152}, {\"t\": 5.519999980926514, \"y\": -0.10809318721294403}, {\"t\": 5.550000190734863, \"y\": -0.1200471818447113}, {\"t\": 5.579999923706055, \"y\": -0.1395251601934433}, {\"t\": 5.610000133514404, \"y\": -0.16642406582832336}, {\"t\": 5.639999866485596, \"y\": -0.20061472058296204}, {\"t\": 5.670000076293945, \"y\": -0.2419595867395401}, {\"t\": 5.699999809265137, \"y\": -0.2903282344341278}, {\"t\": 5.730000019073486, \"y\": -0.3456268608570099}, {\"t\": 5.760000228881836, \"y\": -0.4078190326690674}, {\"t\": 5.7900004386901855, \"y\": -0.4769509434700012}, {\"t\": 5.820000171661377, \"y\": -0.5531611442565918}, {\"t\": 5.850000381469727, \"y\": -0.6366816759109497}, {\"t\": 5.880000114440918, \"y\": -0.7278081178665161}, {\"t\": 5.910000324249268, \"y\": -0.8268752694129944}, {\"t\": 5.940000057220459, \"y\": -0.9342047572135925}, {\"t\": 5.970000267028809, \"y\": -1.0500777959823608}, {\"t\": 6.0, \"y\": -1.1746855974197388}, {\"t\": 6.03000020980835, \"y\": -1.3081111907958984}, {\"t\": 6.059999942779541, \"y\": -1.4502722024917603}, {\"t\": 6.090000152587891, \"y\": -1.600870132446289}, {\"t\": 6.119999885559082, \"y\": -1.7592369318008423}, {\"t\": 6.150000095367432, \"y\": -1.9240468740463257}, {\"t\": 6.179999828338623, \"y\": -2.092512607574463}, {\"t\": 6.210000038146973, \"y\": -2.258049488067627}, {\"t\": 6.239999771118164, \"y\": -2.401907444000244}, {\"t\": 6.269999980926514, \"y\": -2.4716804027557373}, {\"t\": 6.299999713897705, \"y\": -2.425811767578125}, {\"t\": 6.329999923706055, \"y\": -2.3133389949798584}, {\"t\": 6.359999656677246, \"y\": -2.1769161224365234}, {\"t\": 6.389999866485596, \"y\": -2.0328257083892822}, {\"t\": 6.419999599456787, \"y\": -1.887662649154663}, {\"t\": 6.449999809265137, \"y\": -1.7444868087768555}, {\"t\": 6.480000019073486, \"y\": -1.604859471321106}, {\"t\": 6.510000228881836, \"y\": -1.4696232080459595}, {\"t\": 6.539999961853027, \"y\": -1.3392835855484009}, {\"t\": 6.570000171661377, \"y\": -1.2142232656478882}, {\"t\": 6.599999904632568, \"y\": -1.0948684215545654}, {\"t\": 6.630000114440918, \"y\": -0.9817756414413452}, {\"t\": 6.659999847412109, \"y\": -0.8756888508796692}, {\"t\": 6.690000057220459, \"y\": -0.7774869203567505}, {\"t\": 6.71999979019165, \"y\": -0.6880714893341064}, {\"t\": 6.75, \"y\": -0.6081658601760864}, {\"t\": 6.779999732971191, \"y\": -0.5381290316581726}, {\"t\": 6.809999942779541, \"y\": -0.47780531644821167}, {\"t\": 6.839999675750732, \"y\": -0.4264954626560211}, {\"t\": 6.869999885559082, \"y\": -0.38302236795425415}, {\"t\": 6.899999618530273, \"y\": -0.34589654207229614}, {\"t\": 6.929999828338623, \"y\": -0.313512921333313}, {\"t\": 6.960000038146973, \"y\": -0.2843584716320038}, {\"t\": 6.990000247955322, \"y\": -0.2571808695793152}, {\"t\": 7.019999980926514, \"y\": -0.2311069220304489}, {\"t\": 7.050000190734863, \"y\": -0.20569582283496857}, {\"t\": 7.079999923706055, \"y\": -0.18093609809875488}, {\"t\": 7.110000133514404, \"y\": -0.15718737244606018}, {\"t\": 7.139999866485596, \"y\": -0.13509708642959595}, {\"t\": 7.170000076293945, \"y\": -0.11549988389015198}, {\"t\": 7.199999809265137, \"y\": -0.09932832419872284}, {\"t\": 7.230000019073486, \"y\": -0.08753544837236404}, {\"t\": 7.259999752044678, \"y\": -0.0810433104634285}, {\"t\": 7.289999961853027, \"y\": -0.0807088315486908}, {\"t\": 7.319999694824219, \"y\": -0.08730866760015488}, {\"t\": 7.349999904632568, \"y\": -0.10153522342443466}, {\"t\": 7.37999963760376, \"y\": -0.12399892508983612}, {\"t\": 7.409999847412109, \"y\": -0.15523682534694672}, {\"t\": 7.440000057220459, \"y\": -0.1957179754972458}, {\"t\": 7.470000267028809, \"y\": -0.24585142731666565}, {\"t\": 7.5, \"y\": -0.3059896230697632}, {\"t\": 7.53000020980835, \"y\": -0.37643420696258545}, {\"t\": 7.559999942779541, \"y\": -0.4574272036552429}, {\"t\": 7.590000152587891, \"y\": -0.5491529703140259}, {\"t\": 7.619999885559082, \"y\": -0.6517131924629211}, {\"t\": 7.650000095367432, \"y\": -0.7651101350784302}, {\"t\": 7.679999828338623, \"y\": -0.889177143573761}, {\"t\": 7.710000038146973, \"y\": -1.0234758853912354}, {\"t\": 7.739999771118164, \"y\": -1.1670163869857788}, {\"t\": 7.769999980926514, \"y\": -1.3176308870315552}, {\"t\": 7.799999713897705, \"y\": -1.4703556299209595}, {\"t\": 7.829999923706055, \"y\": -1.6143802404403687}, {\"t\": 7.859999656677246, \"y\": -1.7337932586669922}, {\"t\": 7.889999866485596, \"y\": -1.822153925895691}, {\"t\": 7.920000076293945, \"y\": -1.8872648477554321}, {\"t\": 7.950000286102295, \"y\": -1.9385734796524048}, {\"t\": 7.980000019073486, \"y\": -1.9821792840957642}, {\"t\": 8.010000228881836, \"y\": -2.0217177867889404}, {\"t\": 8.039999961853027, \"y\": -2.0595219135284424}, {\"t\": 8.069999694824219, \"y\": -2.0972814559936523}, {\"t\": 8.100000381469727, \"y\": -2.136348247528076}, {\"t\": 8.130000114440918, \"y\": -2.1778359413146973}, {\"t\": 8.15999984741211, \"y\": -2.222609519958496}, {\"t\": 8.1899995803833, \"y\": -2.271183967590332}, {\"t\": 8.220000267028809, \"y\": -2.3235647678375244}, {\"t\": 8.25, \"y\": -2.378969669342041}, {\"t\": 8.279999732971191, \"y\": -2.435302495956421}, {\"t\": 8.309999465942383, \"y\": -2.487931489944458}, {\"t\": 8.34000015258789, \"y\": -2.5268940925598145}, {\"t\": 8.369999885559082, \"y\": -2.53291916847229}, {\"t\": 8.399999618530273, \"y\": -2.486133098602295}, {\"t\": 8.429999351501465, \"y\": -2.3929331302642822}, {\"t\": 8.460000038146973, \"y\": -2.2756333351135254}, {\"t\": 8.489999771118164, \"y\": -2.149585008621216}, {\"t\": 8.519999504089355, \"y\": -2.022515296936035}, {\"t\": 8.549999237060547, \"y\": -1.8982796669006348}, {\"t\": 8.579999923706055, \"y\": -1.7788609266281128}, {\"t\": 8.609999656677246, \"y\": -1.6652950048446655}, {\"t\": 8.640000343322754, \"y\": -1.5580850839614868}, {\"t\": 8.670000076293945, \"y\": -1.4574674367904663}, {\"t\": 8.700000762939453, \"y\": -1.363523006439209}, {\"t\": 8.730000495910645, \"y\": -1.2762871980667114}, {\"t\": 8.760000228881836, \"y\": -1.1957769393920898}, {\"t\": 8.789999961853027, \"y\": -1.1220253705978394}, {\"t\": 8.820000648498535, \"y\": -1.0550806522369385}, {\"t\": 8.850000381469727, \"y\": -0.9950039386749268}, {\"t\": 8.880000114440918, \"y\": -0.9418370723724365}, {\"t\": 8.90999984741211, \"y\": -0.8955844044685364}, {\"t\": 8.940000534057617, \"y\": -0.8561753630638123}, {\"t\": 8.970000267028809, \"y\": -0.8234254121780396}, {\"t\": 9.0, \"y\": -0.7969695925712585}, {\"t\": 9.029999732971191, \"y\": -0.7761881947517395}, {\"t\": 9.0600004196167, \"y\": -0.7601110339164734}, {\"t\": 9.09000015258789, \"y\": -0.747382640838623}, {\"t\": 9.119999885559082, \"y\": -0.7365418076515198}, {\"t\": 9.149999618530273, \"y\": -0.7270223498344421}, {\"t\": 9.180000305175781, \"y\": -0.7202486991882324}, {\"t\": 9.210000038146973, \"y\": -0.7189411520957947}, {\"t\": 9.239999771118164, \"y\": -0.7253611087799072}, {\"t\": 9.269999504089355, \"y\": -0.7407262325286865}, {\"t\": 9.300000190734863, \"y\": -0.7655313611030579}, {\"t\": 9.329999923706055, \"y\": -0.7999032139778137}, {\"t\": 9.359999656677246, \"y\": -0.8438075184822083}, {\"t\": 9.389999389648438, \"y\": -0.8971465826034546}, {\"t\": 9.420000076293945, \"y\": -0.9598128795623779}, {\"t\": 9.449999809265137, \"y\": -1.0317072868347168}, {\"t\": 9.479999542236328, \"y\": -1.1127610206604004}, {\"t\": 9.50999927520752, \"y\": -1.2029210329055786}, {\"t\": 9.539999961853027, \"y\": -1.3021256923675537}, {\"t\": 9.569999694824219, \"y\": -1.4102389812469482}, {\"t\": 9.600000381469727, \"y\": -1.526995301246643}, {\"t\": 9.630000114440918, \"y\": -1.6518806219100952}, {\"t\": 9.65999984741211, \"y\": -1.7840615510940552}, {\"t\": 9.6899995803833, \"y\": -1.9222737550735474}, {\"t\": 9.720000267028809, \"y\": -2.0647058486938477}, {\"t\": 9.75, \"y\": -2.2087435722351074}, {\"t\": 9.779999732971191, \"y\": -2.350431442260742}, {\"t\": 9.8100004196167, \"y\": -2.482999563217163}, {\"t\": 9.84000015258789, \"y\": -2.593006134033203}, {\"t\": 9.869999885559082, \"y\": -2.6524429321289062}, {\"t\": 9.899999618530273, \"y\": -2.6262829303741455}, {\"t\": 9.930000305175781, \"y\": -2.523564338684082}, {\"t\": 9.960000038146973, \"y\": -2.3820714950561523}, {\"t\": 9.989999771118164, \"y\": -2.2248904705047607}], \"data-4676e5d3f831a50e9f0e51db81705056\": [{\"t\": 0.0, \"y\": -0.8368945121765137, \"y_lo\": -0.8368945121765137, \"y_hi\": -0.8368945121765137}, {\"t\": 0.029999999329447746, \"y\": -0.7860707640647888, \"y_lo\": -0.7861588597297668, \"y_hi\": -0.7859826683998108}, {\"t\": 0.05999999865889549, \"y\": -0.7429814338684082, \"y_lo\": -0.743335485458374, \"y_hi\": -0.7426273822784424}, {\"t\": 0.09000000357627869, \"y\": -0.7077328562736511, \"y_lo\": -0.7085325717926025, \"y_hi\": -0.7069331407546997}, {\"t\": 0.11999999731779099, \"y\": -0.6803690195083618, \"y_lo\": -0.6817951798439026, \"y_hi\": -0.678942859172821}, {\"t\": 0.15000000596046448, \"y\": -0.6608566641807556, \"y_lo\": -0.6630894541740417, \"y_hi\": -0.6586238741874695}, {\"t\": 0.18000000715255737, \"y\": -0.6490694880485535, \"y_lo\": -0.6522865295410156, \"y_hi\": -0.6458524465560913}, {\"t\": 0.20999999344348907, \"y\": -0.6447728276252747, \"y_lo\": -0.6491463780403137, \"y_hi\": -0.6403992772102356}, {\"t\": 0.23999999463558197, \"y\": -0.6476120352745056, \"y_lo\": -0.6533058285713196, \"y_hi\": -0.6419182419776917}, {\"t\": 0.26999998092651367, \"y\": -0.6571114659309387, \"y_lo\": -0.664276123046875, \"y_hi\": -0.6499468088150024}, {\"t\": 0.29999998211860657, \"y\": -0.6726993322372437, \"y_lo\": -0.6814684867858887, \"y_hi\": -0.6639301776885986}, {\"t\": 0.32999998331069946, \"y\": -0.6937820911407471, \"y_lo\": -0.704269528388977, \"y_hi\": -0.6832946538925171}, {\"t\": 0.35999998450279236, \"y\": -0.7198868989944458, \"y_lo\": -0.7321872115135193, \"y_hi\": -0.7075865864753723}, {\"t\": 0.38999998569488525, \"y\": -0.7508510947227478, \"y_lo\": -0.7650434970855713, \"y_hi\": -0.7366586923599243}, {\"t\": 0.41999998688697815, \"y\": -0.7869600057601929, \"y_lo\": -0.8031133413314819, \"y_hi\": -0.7708066701889038}, {\"t\": 0.44999998807907104, \"y\": -0.8289063572883606, \"y_lo\": -0.8470807671546936, \"y_hi\": -0.8107319474220276}, {\"t\": 0.47999998927116394, \"y\": -0.8775705695152283, \"y_lo\": -0.8978158831596375, \"y_hi\": -0.8573252558708191}, {\"t\": 0.5099999904632568, \"y\": -0.9337694048881531, \"y_lo\": -0.956122875213623, \"y_hi\": -0.9114159345626831}, {\"t\": 0.5399999618530273, \"y\": -0.9981105923652649, \"y_lo\": -1.022596001625061, \"y_hi\": -0.9736251831054688}, {\"t\": 0.5699999928474426, \"y\": -1.0709697008132935, \"y_lo\": -1.0975981950759888, \"y_hi\": -1.0443412065505981}, {\"t\": 0.5999999642372131, \"y\": -1.1525254249572754, \"y_lo\": -1.1812955141067505, \"y_hi\": -1.1237553358078003}, {\"t\": 0.6299999952316284, \"y\": -1.2428038120269775, \"y_lo\": -1.2736982107162476, \"y_hi\": -1.2119094133377075}, {\"t\": 0.6599999666213989, \"y\": -1.3416963815689087, \"y_lo\": -1.3746724128723145, \"y_hi\": -1.308720350265503}, {\"t\": 0.6899999976158142, \"y\": -1.4489496946334839, \"y_lo\": -1.4839226007461548, \"y_hi\": -1.413976788520813}, {\"t\": 0.7200000286102295, \"y\": -1.564113736152649, \"y_lo\": -1.600929617881775, \"y_hi\": -1.527297854423523}, {\"t\": 0.75, \"y\": -1.6864511966705322, \"y_lo\": -1.724848985671997, \"y_hi\": -1.6480534076690674}, {\"t\": 0.7800000309944153, \"y\": -1.814798355102539, \"y_lo\": -1.8543604612350464, \"y_hi\": -1.7752362489700317}, {\"t\": 0.8100000023841858, \"y\": -1.9473822116851807, \"y_lo\": -1.9874756336212158, \"y_hi\": -1.9072887897491455}, {\"t\": 0.8400000333786011, \"y\": -2.0816071033477783, \"y_lo\": -2.121321439743042, \"y_hi\": -2.0418927669525146}, {\"t\": 0.8700000047683716, \"y\": -2.2138195037841797, \"y_lo\": -2.2519030570983887, \"y_hi\": -2.1757359504699707}, {\"t\": 0.9000000357627869, \"y\": -2.339054584503174, \"y_lo\": -2.3738455772399902, \"y_hi\": -2.3042635917663574}, {\"t\": 0.9300000071525574, \"y\": -2.4507293701171875, \"y_lo\": -2.480074405670166, \"y_hi\": -2.421384334564209}, {\"t\": 0.9599999785423279, \"y\": -2.5402491092681885, \"y_lo\": -2.561422824859619, \"y_hi\": -2.519075393676758}, {\"t\": 0.9899999499320984, \"y\": -2.5966827869415283, \"y_lo\": -2.606571674346924, \"y_hi\": -2.586793899536133}, {\"t\": 1.0199999809265137, \"y\": -2.6074421405792236, \"y_lo\": -2.6137962341308594, \"y_hi\": -2.601088047027588}, {\"t\": 1.0499999523162842, \"y\": -2.5621402263641357, \"y_lo\": -2.584221601486206, \"y_hi\": -2.5400588512420654}, {\"t\": 1.0799999237060547, \"y\": -2.459601402282715, \"y_lo\": -2.4961113929748535, \"y_hi\": -2.423091411590576}, {\"t\": 1.1100000143051147, \"y\": -2.310330629348755, \"y_lo\": -2.3571836948394775, \"y_hi\": -2.2634775638580322}, {\"t\": 1.1399999856948853, \"y\": -2.1300742626190186, \"y_lo\": -2.1831154823303223, \"y_hi\": -2.077033042907715}, {\"t\": 1.1699999570846558, \"y\": -1.932861328125, \"y_lo\": -1.9889534711837769, \"y_hi\": -1.8767691850662231}, {\"t\": 1.2000000476837158, \"y\": -1.7288964986801147, \"y_lo\": -1.785887598991394, \"y_hi\": -1.6719053983688354}, {\"t\": 1.2300000190734863, \"y\": -1.5251500606536865, \"y_lo\": -1.5815802812576294, \"y_hi\": -1.4687198400497437}, {\"t\": 1.2599999904632568, \"y\": -1.3263218402862549, \"y_lo\": -1.3811922073364258, \"y_hi\": -1.271451473236084}, {\"t\": 1.290000081062317, \"y\": -1.1355400085449219, \"y_lo\": -1.1881705522537231, \"y_hi\": -1.0829094648361206}, {\"t\": 1.3200000524520874, \"y\": -0.9547992944717407, \"y_lo\": -1.004740595817566, \"y_hi\": -0.9048579335212708}, {\"t\": 1.350000023841858, \"y\": -0.7852545976638794, \"y_lo\": -0.8322263360023499, \"y_hi\": -0.7382828593254089}, {\"t\": 1.3799999952316284, \"y\": -0.6274556517601013, \"y_lo\": -0.6712976694107056, \"y_hi\": -0.5836136341094971}, {\"t\": 1.4100000858306885, \"y\": -0.4815358817577362, \"y_lo\": -0.5221691727638245, \"y_hi\": -0.44090256094932556}, {\"t\": 1.440000057220459, \"y\": -0.34736916422843933, \"y_lo\": -0.38476666808128357, \"y_hi\": -0.3099716603755951}, {\"t\": 1.4700000286102295, \"y\": -0.224684938788414, \"y_lo\": -0.25885269045829773, \"y_hi\": -0.19051718711853027}, {\"t\": 1.5, \"y\": -0.11315479129552841, \"y_lo\": -0.1441231667995453, \"y_hi\": -0.08218640834093094}, {\"t\": 1.53000009059906, \"y\": -0.01244635134935379, \"y_lo\": -0.04027078300714493, \"y_hi\": 0.015378080308437347}, {\"t\": 1.5600000619888306, \"y\": 0.0777442678809166, \"y_lo\": 0.05297330021858215, \"y_hi\": 0.10251523554325104}, {\"t\": 1.590000033378601, \"y\": 0.1576811820268631, \"y_lo\": 0.13581809401512146, \"y_hi\": 0.17954427003860474}, {\"t\": 1.6200000047683716, \"y\": 0.22758479416370392, \"y_lo\": 0.20839594304561615, \"y_hi\": 0.2467736452817917}, {\"t\": 1.6500000953674316, \"y\": 0.28763601183891296, \"y_lo\": 0.2707504332065582, \"y_hi\": 0.3045215904712677}, {\"t\": 1.6799999475479126, \"y\": 0.3379809558391571, \"y_lo\": 0.3228287398815155, \"y_hi\": 0.3531331717967987}, {\"t\": 1.709999918937683, \"y\": 0.37873849272727966, \"y_lo\": 0.3645094037055969, \"y_hi\": 0.3929675817489624}, {\"t\": 1.7399998903274536, \"y\": 0.41000238060951233, \"y_lo\": 0.3956966698169708, \"y_hi\": 0.42430809140205383}, {\"t\": 1.7699999809265137, \"y\": 0.4318448603153229, \"y_lo\": 0.41644394397735596, \"y_hi\": 0.4472457766532898}, {\"t\": 1.7999999523162842, \"y\": 0.44431743025779724, \"y_lo\": 0.42695721983909607, \"y_hi\": 0.4616776406764984}, {\"t\": 1.8299999237060547, \"y\": 0.44745221734046936, \"y_lo\": 0.4274788498878479, \"y_hi\": 0.4674255847930908}, {\"t\": 1.8599998950958252, \"y\": 0.44126176834106445, \"y_lo\": 0.4181935489177704, \"y_hi\": 0.4643299877643585}, {\"t\": 1.8899999856948853, \"y\": 0.4257395267486572, \"y_lo\": 0.3992067873477936, \"y_hi\": 0.4522722661495209}, {\"t\": 1.9199999570846558, \"y\": 0.4008605182170868, \"y_lo\": 0.37055665254592896, \"y_hi\": 0.43116438388824463}, {\"t\": 1.9499999284744263, \"y\": 0.3665809631347656, \"y_lo\": 0.3322288691997528, \"y_hi\": 0.40093305706977844}, {\"t\": 1.9799998998641968, \"y\": 0.32283809781074524, \"y_lo\": 0.28416815400123596, \"y_hi\": 0.3615080416202545}, {\"t\": 2.009999990463257, \"y\": 0.2695479393005371, \"y_lo\": 0.22628290951251984, \"y_hi\": 0.3128129839897156}, {\"t\": 2.0399999618530273, \"y\": 0.20660248398780823, \"y_lo\": 0.15844689309597015, \"y_hi\": 0.2547580897808075}, {\"t\": 2.069999933242798, \"y\": 0.1338629275560379, \"y_lo\": 0.08049532026052475, \"y_hi\": 0.18723052740097046}, {\"t\": 2.0999999046325684, \"y\": 0.05115264281630516, \"y_lo\": -0.007779303938150406, \"y_hi\": 0.11008459329605103}, {\"t\": 2.129999876022339, \"y\": -0.041750550270080566, \"y_lo\": -0.10663102567195892, \"y_hi\": 0.02312992513179779}, {\"t\": 2.1600000858306885, \"y\": -0.1451202630996704, \"y_lo\": -0.21636049449443817, \"y_hi\": -0.07388003170490265}, {\"t\": 2.190000057220459, \"y\": -0.2592756748199463, \"y_lo\": -0.33730006217956543, \"y_hi\": -0.18125130236148834}, {\"t\": 2.2200000286102295, \"y\": -0.3845706284046173, \"y_lo\": -0.46979108452796936, \"y_hi\": -0.29935017228126526}, {\"t\": 2.25, \"y\": -0.5213541388511658, \"y_lo\": -0.6141288876533508, \"y_hi\": -0.4285793602466583}, {\"t\": 2.2799999713897705, \"y\": -0.6699077486991882, \"y_lo\": -0.7704817652702332, \"y_hi\": -0.5693337321281433}, {\"t\": 2.31000018119812, \"y\": -0.8303508758544922, \"y_lo\": -0.9387760162353516, \"y_hi\": -0.7219257354736328}, {\"t\": 2.3400001525878906, \"y\": -1.0025023221969604, \"y_lo\": -1.1185364723205566, \"y_hi\": -0.8864681720733643}, {\"t\": 2.370000123977661, \"y\": -1.1857205629348755, \"y_lo\": -1.3087077140808105, \"y_hi\": -1.0627334117889404}, {\"t\": 2.4000000953674316, \"y\": -1.3786989450454712, \"y_lo\": -1.5074256658554077, \"y_hi\": -1.2499722242355347}, {\"t\": 2.430000066757202, \"y\": -1.5792261362075806, \"y_lo\": -1.7117456197738647, \"y_hi\": -1.4467066526412964}, {\"t\": 2.4600000381469727, \"y\": -1.7838757038116455, \"y_lo\": -1.9172581434249878, \"y_hi\": -1.6504932641983032}, {\"t\": 2.490000009536743, \"y\": -1.987526297569275, \"y_lo\": -2.1174590587615967, \"y_hi\": -1.8575935363769531}, {\"t\": 2.5199999809265137, \"y\": -2.1825878620147705, \"y_lo\": -2.3027734756469727, \"y_hi\": -2.0624022483825684}, {\"t\": 2.5500001907348633, \"y\": -2.3579537868499756, \"y_lo\": -2.4595625400543213, \"y_hi\": -2.25634503364563}, {\"t\": 2.580000162124634, \"y\": -2.498561143875122, \"y_lo\": -2.5710372924804688, \"y_hi\": -2.4260849952697754}, {\"t\": 2.6100001335144043, \"y\": -2.588219165802002, \"y_lo\": -2.6239185333251953, \"y_hi\": -2.5525197982788086}, {\"t\": 2.640000104904175, \"y\": -2.6173648834228516, \"y_lo\": -2.6298024654388428, \"y_hi\": -2.6049273014068604}, {\"t\": 2.6700000762939453, \"y\": -2.5891003608703613, \"y_lo\": -2.62571382522583, \"y_hi\": -2.5524868965148926}, {\"t\": 2.700000047683716, \"y\": -2.5155258178710938, \"y_lo\": -2.5725011825561523, \"y_hi\": -2.458550453186035}, {\"t\": 2.7300000190734863, \"y\": -2.4101898670196533, \"y_lo\": -2.480808973312378, \"y_hi\": -2.3395707607269287}, {\"t\": 2.759999990463257, \"y\": -2.2843873500823975, \"y_lo\": -2.3642196655273438, \"y_hi\": -2.204555034637451}, {\"t\": 2.7900002002716064, \"y\": -2.1467552185058594, \"y_lo\": -2.2333102226257324, \"y_hi\": -2.0602002143859863}, {\"t\": 2.820000171661377, \"y\": -2.003767728805542, \"y_lo\": -2.095944404602051, \"y_hi\": -1.9115911722183228}, {\"t\": 2.8500001430511475, \"y\": -1.8602142333984375, \"y_lo\": -1.9578443765640259, \"y_hi\": -1.7625840902328491}, {\"t\": 2.880000114440918, \"y\": -1.7195615768432617, \"y_lo\": -1.8230202198028564, \"y_hi\": -1.616102933883667}, {\"t\": 2.9100000858306885, \"y\": -1.5842360258102417, \"y_lo\": -1.694118857383728, \"y_hi\": -1.4743531942367554}, {\"t\": 2.940000057220459, \"y\": -1.4558643102645874, \"y_lo\": -1.572766900062561, \"y_hi\": -1.3389617204666138}, {\"t\": 2.9700000286102295, \"y\": -1.3354862928390503, \"y_lo\": -1.459895133972168, \"y_hi\": -1.2110774517059326}, {\"t\": 3.0, \"y\": -1.2237350940704346, \"y_lo\": -1.3560012578964233, \"y_hi\": -1.0914689302444458}, {\"t\": 3.0300002098083496, \"y\": -1.1209783554077148, \"y_lo\": -1.2613213062286377, \"y_hi\": -0.9806354641914368}, {\"t\": 3.06000018119812, \"y\": -1.027425765991211, \"y_lo\": -1.1759308576583862, \"y_hi\": -0.8789206743240356}, {\"t\": 3.0900001525878906, \"y\": -0.9431862831115723, \"y_lo\": -1.0997729301452637, \"y_hi\": -0.7865995764732361}, {\"t\": 3.119999885559082, \"y\": -0.8682975769042969, \"y_lo\": -1.0326489210128784, \"y_hi\": -0.7039462924003601}, {\"t\": 3.1499998569488525, \"y\": -0.8027149438858032, \"y_lo\": -0.9741686582565308, \"y_hi\": -0.6312612295150757}, {\"t\": 3.179999828338623, \"y\": -0.7462814450263977, \"y_lo\": -0.9236912727355957, \"y_hi\": -0.5688716173171997}, {\"t\": 3.2099997997283936, \"y\": -0.6986870169639587, \"y_lo\": -0.8802887201309204, \"y_hi\": -0.5170853137969971}, {\"t\": 3.239999771118164, \"y\": -0.6594557166099548, \"y_lo\": -0.8428131341934204, \"y_hi\": -0.47609829902648926}, {\"t\": 3.2699999809265137, \"y\": -0.6279901266098022, \"y_lo\": -0.8101151585578918, \"y_hi\": -0.44586509466171265}, {\"t\": 3.299999952316284, \"y\": -0.6036797761917114, \"y_lo\": -0.7813695669174194, \"y_hi\": -0.4259899854660034}, {\"t\": 3.3299999237060547, \"y\": -0.5860271453857422, \"y_lo\": -0.7563306093215942, \"y_hi\": -0.41572368144989014}, {\"t\": 3.359999895095825, \"y\": -0.5747396945953369, \"y_lo\": -0.7353758811950684, \"y_hi\": -0.4141034781932831}, {\"t\": 3.3899998664855957, \"y\": -0.5697506070137024, \"y_lo\": -0.7193225622177124, \"y_hi\": -0.42017868161201477}, {\"t\": 3.419999837875366, \"y\": -0.5711793303489685, \"y_lo\": -0.7091547846794128, \"y_hi\": -0.43320387601852417}, {\"t\": 3.4499998092651367, \"y\": -0.5792596340179443, \"y_lo\": -0.7057977914810181, \"y_hi\": -0.452721506357193}, {\"t\": 3.4799997806549072, \"y\": -0.5942637324333191, \"y_lo\": -0.7100038528442383, \"y_hi\": -0.4785236120223999}, {\"t\": 3.509999990463257, \"y\": -0.6164429783821106, \"y_lo\": -0.7223330140113831, \"y_hi\": -0.5105529427528381}, {\"t\": 3.5399999618530273, \"y\": -0.6459890007972717, \"y_lo\": -0.7431789636611938, \"y_hi\": -0.5487990379333496}, {\"t\": 3.569999933242798, \"y\": -0.6830175518989563, \"y_lo\": -0.7728061079978943, \"y_hi\": -0.5932289958000183}, {\"t\": 3.5999999046325684, \"y\": -0.72756427526474, \"y_lo\": -0.8113754391670227, \"y_hi\": -0.6437531113624573}, {\"t\": 3.629999876022339, \"y\": -0.7795901298522949, \"y_lo\": -0.8589557409286499, \"y_hi\": -0.7002245187759399}, {\"t\": 3.6599998474121094, \"y\": -0.8389902114868164, \"y_lo\": -0.9155164361000061, \"y_hi\": -0.7624639868736267}, {\"t\": 3.68999981880188, \"y\": -0.9056063890457153, \"y_lo\": -0.9809137582778931, \"y_hi\": -0.8302990198135376}, {\"t\": 3.7199997901916504, \"y\": -0.9792394042015076, \"y_lo\": -1.0548806190490723, \"y_hi\": -0.9035981893539429}, {\"t\": 3.75, \"y\": -1.0596600770950317, \"y_lo\": -1.1370339393615723, \"y_hi\": -0.9822861552238464}, {\"t\": 3.7799999713897705, \"y\": -1.1466147899627686, \"y_lo\": -1.2268941402435303, \"y_hi\": -1.0663354396820068}, {\"t\": 3.809999942779541, \"y\": -1.239829421043396, \"y_lo\": -1.3239126205444336, \"y_hi\": -1.1557462215423584}, {\"t\": 3.8399999141693115, \"y\": -1.3389965295791626, \"y_lo\": -1.427477478981018, \"y_hi\": -1.2505155801773071}, {\"t\": 3.869999885559082, \"y\": -1.4437475204467773, \"y_lo\": -1.5368903875350952, \"y_hi\": -1.3506046533584595}, {\"t\": 3.8999998569488525, \"y\": -1.5536009073257446, \"y_lo\": -1.6513020992279053, \"y_hi\": -1.455899715423584}, {\"t\": 3.929999828338623, \"y\": -1.6678727865219116, \"y_lo\": -1.7695924043655396, \"y_hi\": -1.5661531686782837}, {\"t\": 3.9599997997283936, \"y\": -1.785535454750061, \"y_lo\": -1.8901748657226562, \"y_hi\": -1.6808960437774658}, {\"t\": 3.990000009536743, \"y\": -1.9050010442733765, \"y_lo\": -2.010707378387451, \"y_hi\": -1.7992947101593018}, {\"t\": 4.019999980926514, \"y\": -2.0238149166107178, \"y_lo\": -2.127725601196289, \"y_hi\": -1.9199042320251465}, {\"t\": 4.049999713897705, \"y\": -2.1382999420166016, \"y_lo\": -2.2363028526306152, \"y_hi\": -2.040297031402588}, {\"t\": 4.079999923706055, \"y\": -2.2432870864868164, \"y_lo\": -2.3300275802612305, \"y_hi\": -2.1565465927124023}, {\"t\": 4.110000133514404, \"y\": -2.3323543071746826, \"y_lo\": -2.4020090103149414, \"y_hi\": -2.262699604034424}, {\"t\": 4.139999866485596, \"y\": -2.3993401527404785, \"y_lo\": -2.447608709335327, \"y_hi\": -2.35107159614563}, {\"t\": 4.170000076293945, \"y\": -2.4411439895629883, \"y_lo\": -2.467625856399536, \"y_hi\": -2.4146621227264404}, {\"t\": 4.199999809265137, \"y\": -2.4595205783843994, \"y_lo\": -2.4720585346221924, \"y_hi\": -2.4469826221466064}, {\"t\": 4.230000019073486, \"y\": -2.4596924781799316, \"y_lo\": -2.4809634685516357, \"y_hi\": -2.4384214878082275}, {\"t\": 4.259999752044678, \"y\": -2.4474551677703857, \"y_lo\": -2.4833385944366455, \"y_hi\": -2.411571741104126}, {\"t\": 4.289999961853027, \"y\": -2.4274425506591797, \"y_lo\": -2.476705312728882, \"y_hi\": -2.3781797885894775}, {\"t\": 4.320000171661377, \"y\": -2.4027600288391113, \"y_lo\": -2.463330030441284, \"y_hi\": -2.3421900272369385}, {\"t\": 4.350000381469727, \"y\": -2.375141143798828, \"y_lo\": -2.444629192352295, \"y_hi\": -2.3056530952453613}, {\"t\": 4.380000114440918, \"y\": -2.3451638221740723, \"y_lo\": -2.420989751815796, \"y_hi\": -2.2693378925323486}, {\"t\": 4.410000324249268, \"y\": -2.3124377727508545, \"y_lo\": -2.3919832706451416, \"y_hi\": -2.2328922748565674}, {\"t\": 4.440000057220459, \"y\": -2.2758004665374756, \"y_lo\": -2.3566672801971436, \"y_hi\": -2.1949336528778076}, {\"t\": 4.470000267028809, \"y\": -2.2335121631622314, \"y_lo\": -2.313971996307373, \"y_hi\": -2.15305233001709}, {\"t\": 4.5, \"y\": -2.1834349632263184, \"y_lo\": -2.263186454772949, \"y_hi\": -2.1036834716796875}, {\"t\": 4.53000020980835, \"y\": -2.1231532096862793, \"y_lo\": -2.2044432163238525, \"y_hi\": -2.041863203048706}, {\"t\": 4.559999942779541, \"y\": -2.0500540733337402, \"y_lo\": -2.138587713241577, \"y_hi\": -1.9615204334259033}, {\"t\": 4.590000152587891, \"y\": -1.9613920450210571, \"y_lo\": -2.0655598640441895, \"y_hi\": -1.8572241067886353}, {\"t\": 4.619999885559082, \"y\": -1.8545080423355103, \"y_lo\": -1.9823791980743408, \"y_hi\": -1.7266368865966797}, {\"t\": 4.650000095367432, \"y\": -1.7273762226104736, \"y_lo\": -1.8831827640533447, \"y_hi\": -1.5715696811676025}, {\"t\": 4.679999828338623, \"y\": -1.5797172784805298, \"y_lo\": -1.7616777420043945, \"y_hi\": -1.397756814956665}, {\"t\": 4.710000038146973, \"y\": -1.4143335819244385, \"y_lo\": -1.614997386932373, \"y_hi\": -1.213669776916504}, {\"t\": 4.739999771118164, \"y\": -1.237455129623413, \"y_lo\": -1.446668267250061, \"y_hi\": -1.0282419919967651}, {\"t\": 4.769999980926514, \"y\": -1.0569723844528198, \"y_lo\": -1.2654790878295898, \"y_hi\": -0.8484656810760498}, {\"t\": 4.800000190734863, \"y\": -0.8799476027488708, \"y_lo\": -1.0812203884124756, \"y_hi\": -0.6786748766899109}, {\"t\": 4.830000400543213, \"y\": -0.7113701105117798, \"y_lo\": -0.9015246629714966, \"y_hi\": -0.521215558052063}, {\"t\": 4.860000133514404, \"y\": -0.5542966723442078, \"y_lo\": -0.7313181757926941, \"y_hi\": -0.37727516889572144}, {\"t\": 4.890000343322754, \"y\": -0.4104289710521698, \"y_lo\": -0.5734867453575134, \"y_hi\": -0.24737119674682617}, {\"t\": 4.920000076293945, \"y\": -0.280638188123703, \"y_lo\": -0.4296517074108124, \"y_hi\": -0.13162466883659363}, {\"t\": 4.950000286102295, \"y\": -0.1652791053056717, \"y_lo\": -0.3006783127784729, \"y_hi\": -0.029879897832870483}, {\"t\": 4.980000019073486, \"y\": -0.06440490484237671, \"y_lo\": -0.18701612949371338, \"y_hi\": 0.05820631980895996}, {\"t\": 5.010000228881836, \"y\": 0.022132577374577522, \"y_lo\": -0.08887162804603577, \"y_hi\": 0.1331367790699005}, {\"t\": 5.039999961853027, \"y\": 0.09460485726594925, \"y_lo\": -0.006326615810394287, \"y_hi\": 0.19553633034229279}, {\"t\": 5.070000171661377, \"y\": 0.15338265895843506, \"y_lo\": 0.060635216534137726, \"y_hi\": 0.246130108833313}, {\"t\": 5.099999904632568, \"y\": 0.1989104002714157, \"y_lo\": 0.11214146763086319, \"y_hi\": 0.28567934036254883}, {\"t\": 5.130000114440918, \"y\": 0.23171000182628632, \"y_lo\": 0.14852213859558105, \"y_hi\": 0.3148978650569916}, {\"t\": 5.159999847412109, \"y\": 0.2523808181285858, \"y_lo\": 0.17040982842445374, \"y_hi\": 0.3343518078327179}, {\"t\": 5.190000057220459, \"y\": 0.2616160809993744, \"y_lo\": 0.17880754172801971, \"y_hi\": 0.34442460536956787}, {\"t\": 5.21999979019165, \"y\": 0.26021817326545715, \"y_lo\": 0.17506062984466553, \"y_hi\": 0.3453757166862488}, {\"t\": 5.25, \"y\": 0.24911992251873016, \"y_lo\": 0.16077178716659546, \"y_hi\": 0.33746805787086487}, {\"t\": 5.28000020980835, \"y\": 0.22940485179424286, \"y_lo\": 0.13771623373031616, \"y_hi\": 0.32109346985816956}, {\"t\": 5.310000419616699, \"y\": 0.20232120156288147, \"y_lo\": 0.10778431594371796, \"y_hi\": 0.2968580722808838}, {\"t\": 5.340000152587891, \"y\": 0.16928470134735107, \"y_lo\": 0.0729370191693306, \"y_hi\": 0.26563239097595215}, {\"t\": 5.37000036239624, \"y\": 0.1318570375442505, \"y_lo\": 0.03513769060373306, \"y_hi\": 0.2285763919353485}, {\"t\": 5.400000095367432, \"y\": 0.09170086681842804, \"y_lo\": -0.0037537291646003723, \"y_hi\": 0.18715545535087585}, {\"t\": 5.430000305175781, \"y\": 0.05049107223749161, \"y_lo\": -0.042147375643253326, \"y_hi\": 0.14312952756881714}, {\"t\": 5.460000038146973, \"y\": 0.009801901876926422, \"y_lo\": -0.07892317324876785, \"y_hi\": 0.0985269770026207}, {\"t\": 5.490000247955322, \"y\": -0.029039371758699417, \"y_lo\": -0.11365771293640137, \"y_hi\": 0.055578965693712234}, {\"t\": 5.519999980926514, \"y\": -0.06509096920490265, \"y_lo\": -0.14681264758110046, \"y_hi\": 0.01663070172071457}, {\"t\": 5.550000190734863, \"y\": -0.0979204997420311, \"y_lo\": -0.17981788516044617, \"y_hi\": -0.016023114323616028}, {\"t\": 5.579999923706055, \"y\": -0.1276683658361435, \"y_lo\": -0.21490271389484406, \"y_hi\": -0.04043401777744293}, {\"t\": 5.610000133514404, \"y\": -0.1550511121749878, \"y_lo\": -0.25468116998672485, \"y_hi\": -0.05542105436325073}, {\"t\": 5.639999866485596, \"y\": -0.18128669261932373, \"y_lo\": -0.30176323652267456, \"y_hi\": -0.0608101561665535}, {\"t\": 5.670000076293945, \"y\": -0.2079719752073288, \"y_lo\": -0.35863322019577026, \"y_hi\": -0.05731073021888733}, {\"t\": 5.699999809265137, \"y\": -0.23692622780799866, \"y_lo\": -0.4275960624217987, \"y_hi\": -0.04625639319419861}, {\"t\": 5.730000019073486, \"y\": -0.27004289627075195, \"y_lo\": -0.5106603503227234, \"y_hi\": -0.029425427317619324}, {\"t\": 5.760000228881836, \"y\": -0.30915865302085876, \"y_lo\": -0.6094025373458862, \"y_hi\": -0.008914768695831299}, {\"t\": 5.7900004386901855, \"y\": -0.3559606969356537, \"y_lo\": -0.7249166965484619, \"y_hi\": 0.012995272874832153}, {\"t\": 5.820000171661377, \"y\": -0.41192251443862915, \"y_lo\": -0.8578251600265503, \"y_hi\": 0.033980101346969604}, {\"t\": 5.850000381469727, \"y\": -0.47826632857322693, \"y_lo\": -1.0083214044570923, \"y_hi\": 0.051788777112960815}, {\"t\": 5.880000114440918, \"y\": -0.5559177398681641, \"y_lo\": -1.176147699356079, \"y_hi\": 0.06431227922439575}, {\"t\": 5.910000324249268, \"y\": -0.6454475522041321, \"y_lo\": -1.3604936599731445, \"y_hi\": 0.06959855556488037}, {\"t\": 5.940000057220459, \"y\": -0.7469114661216736, \"y_lo\": -1.5596119165420532, \"y_hi\": 0.06578898429870605}, {\"t\": 5.970000267028809, \"y\": -0.8595117926597595, \"y_lo\": -1.7699730396270752, \"y_hi\": 0.05094939470291138}, {\"t\": 6.0, \"y\": -0.9808252453804016, \"y_lo\": -1.9844162464141846, \"y_hi\": 0.022765815258026123}, {\"t\": 6.03000020980835, \"y\": -1.105573296546936, \"y_lo\": -2.1895298957824707, \"y_hi\": -0.021616578102111816}, {\"t\": 6.059999942779541, \"y\": -1.2250745296478271, \"y_lo\": -2.365786552429199, \"y_hi\": -0.08436238765716553}, {\"t\": 6.090000152587891, \"y\": -1.329885482788086, \"y_lo\": -2.4955315589904785, \"y_hi\": -0.1642395257949829}, {\"t\": 6.119999885559082, \"y\": -1.4143329858779907, \"y_lo\": -2.572284698486328, \"y_hi\": -0.25638115406036377}, {\"t\": 6.150000095367432, \"y\": -1.4780027866363525, \"y_lo\": -2.6005430221557617, \"y_hi\": -0.3554624319076538}, {\"t\": 6.179999828338623, \"y\": -1.5237407684326172, \"y_lo\": -2.5893309116363525, \"y_hi\": -0.45815062522888184}, {\"t\": 6.210000038146973, \"y\": -1.555179238319397, \"y_lo\": -2.5480237007141113, \"y_hi\": -0.5623348355293274}, {\"t\": 6.239999771118164, \"y\": -1.575146198272705, \"y_lo\": -2.483819007873535, \"y_hi\": -0.6664734482765198}, {\"t\": 6.269999980926514, \"y\": -1.5857661962509155, \"y_lo\": -2.401017427444458, \"y_hi\": -0.7705150246620178}, {\"t\": 6.299999713897705, \"y\": -1.5890156030654907, \"y_lo\": -2.3026044368743896, \"y_hi\": -0.8754268288612366}, {\"t\": 6.329999923706055, \"y\": -1.5867611169815063, \"y_lo\": -2.1920738220214844, \"y_hi\": -0.9814484715461731}, {\"t\": 6.359999656677246, \"y\": -1.5806750059127808, \"y_lo\": -2.074591875076294, \"y_hi\": -1.086758017539978}, {\"t\": 6.389999866485596, \"y\": -1.5722509622573853, \"y_lo\": -1.9581445455551147, \"y_hi\": -1.1863573789596558}, {\"t\": 6.419999599456787, \"y\": -1.562857985496521, \"y_lo\": -1.85540771484375, \"y_hi\": -1.270308256149292}, {\"t\": 6.449999809265137, \"y\": -1.553822636604309, \"y_lo\": -1.7855794429779053, \"y_hi\": -1.322065830230713}, {\"t\": 6.480000019073486, \"y\": -1.5465296506881714, \"y_lo\": -1.7666229009628296, \"y_hi\": -1.3264364004135132}, {\"t\": 6.510000228881836, \"y\": -1.5424107313156128, \"y_lo\": -1.7922090291976929, \"y_hi\": -1.2926124334335327}, {\"t\": 6.539999961853027, \"y\": -1.5427969694137573, \"y_lo\": -1.8397061824798584, \"y_hi\": -1.2458877563476562}, {\"t\": 6.570000171661377, \"y\": -1.5487709045410156, \"y_lo\": -1.8945869207382202, \"y_hi\": -1.202954888343811}, {\"t\": 6.599999904632568, \"y\": -1.5611168146133423, \"y_lo\": -1.9512265920639038, \"y_hi\": -1.1710070371627808}, {\"t\": 6.630000114440918, \"y\": -1.580357313156128, \"y_lo\": -2.0079712867736816, \"y_hi\": -1.1527432203292847}, {\"t\": 6.659999847412109, \"y\": -1.6068121194839478, \"y_lo\": -2.0646517276763916, \"y_hi\": -1.148972511291504}, {\"t\": 6.690000057220459, \"y\": -1.6406315565109253, \"y_lo\": -2.1216073036193848, \"y_hi\": -1.1596558094024658}, {\"t\": 6.71999979019165, \"y\": -1.6817541122436523, \"y_lo\": -2.1792280673980713, \"y_hi\": -1.1842801570892334}, {\"t\": 6.75, \"y\": -1.7297667264938354, \"y_lo\": -2.2376346588134766, \"y_hi\": -1.2218986749649048}, {\"t\": 6.779999732971191, \"y\": -1.7835845947265625, \"y_lo\": -2.296278953552246, \"y_hi\": -1.2708901166915894}, {\"t\": 6.809999942779541, \"y\": -1.8408653736114502, \"y_lo\": -2.35347580909729, \"y_hi\": -1.3282549381256104}, {\"t\": 6.839999675750732, \"y\": -1.8970842361450195, \"y_lo\": -2.4063048362731934, \"y_hi\": -1.3878636360168457}, {\"t\": 6.869999885559082, \"y\": -1.9447990655899048, \"y_lo\": -2.452040195465088, \"y_hi\": -1.4375579357147217}, {\"t\": 6.899999618530273, \"y\": -1.9741617441177368, \"y_lo\": -2.488832712173462, \"y_hi\": -1.4594907760620117}, {\"t\": 6.929999828338623, \"y\": -1.9757388830184937, \"y_lo\": -2.5104072093963623, \"y_hi\": -1.441070556640625}, {\"t\": 6.960000038146973, \"y\": -1.9458175897598267, \"y_lo\": -2.5044569969177246, \"y_hi\": -1.3871783018112183}, {\"t\": 6.990000247955322, \"y\": -1.889032006263733, \"y_lo\": -2.4637017250061035, \"y_hi\": -1.3143621683120728}, {\"t\": 7.019999980926514, \"y\": -1.8143192529678345, \"y_lo\": -2.3915932178497314, \"y_hi\": -1.2370452880859375}, {\"t\": 7.050000190734863, \"y\": -1.7299177646636963, \"y_lo\": -2.296815872192383, \"y_hi\": -1.1630196571350098}, {\"t\": 7.079999923706055, \"y\": -1.6417696475982666, \"y_lo\": -2.1882197856903076, \"y_hi\": -1.0953195095062256}, {\"t\": 7.110000133514404, \"y\": -1.5537631511688232, \"y_lo\": -2.0727944374084473, \"y_hi\": -1.0347318649291992}, {\"t\": 7.139999866485596, \"y\": -1.468324065208435, \"y_lo\": -1.9554144144058228, \"y_hi\": -0.9812337160110474}, {\"t\": 7.170000076293945, \"y\": -1.3868893384933472, \"y_lo\": -1.8392421007156372, \"y_hi\": -0.9345365762710571}, {\"t\": 7.199999809265137, \"y\": -1.3102513551712036, \"y_lo\": -1.7262296676635742, \"y_hi\": -0.894273042678833}, {\"t\": 7.230000019073486, \"y\": -1.2387698888778687, \"y_lo\": -1.6174890995025635, \"y_hi\": -0.860050618648529}, {\"t\": 7.259999752044678, \"y\": -1.1725343465805054, \"y_lo\": -1.513584852218628, \"y_hi\": -0.8314838409423828}, {\"t\": 7.289999961853027, \"y\": -1.1114705801010132, \"y_lo\": -1.4147298336029053, \"y_hi\": -0.8082113862037659}, {\"t\": 7.319999694824219, \"y\": -1.0554426908493042, \"y_lo\": -1.3209586143493652, \"y_hi\": -0.7899267673492432}, {\"t\": 7.349999904632568, \"y\": -1.0043224096298218, \"y_lo\": -1.2322394847869873, \"y_hi\": -0.7764053344726562}, {\"t\": 7.37999963760376, \"y\": -0.9580634236335754, \"y_lo\": -1.1485975980758667, \"y_hi\": -0.767529308795929}, {\"t\": 7.409999847412109, \"y\": -0.9167434573173523, \"y_lo\": -1.0702258348464966, \"y_hi\": -0.7632610201835632}, {\"t\": 7.440000057220459, \"y\": -0.8805985450744629, \"y_lo\": -0.9977264404296875, \"y_hi\": -0.7634706497192383}, {\"t\": 7.470000267028809, \"y\": -0.8500227928161621, \"y_lo\": -0.9328293204307556, \"y_hi\": -0.7672162652015686}, {\"t\": 7.5, \"y\": -0.8255470395088196, \"y_lo\": -0.8814821839332581, \"y_hi\": -0.7696118950843811}, {\"t\": 7.53000020980835, \"y\": -0.807790219783783, \"y_lo\": -0.8608858585357666, \"y_hi\": -0.7546945810317993}, {\"t\": 7.559999942779541, \"y\": -0.7974013686180115, \"y_lo\": -0.8772202730178833, \"y_hi\": -0.7175824642181396}, {\"t\": 7.590000152587891, \"y\": -0.7949938178062439, \"y_lo\": -0.9149897694587708, \"y_hi\": -0.674997866153717}, {\"t\": 7.619999885559082, \"y\": -0.8010961413383484, \"y_lo\": -0.9674274921417236, \"y_hi\": -0.6347647905349731}, {\"t\": 7.650000095367432, \"y\": -0.816125214099884, \"y_lo\": -1.0329307317733765, \"y_hi\": -0.5993196964263916}, {\"t\": 7.679999828338623, \"y\": -0.8403875231742859, \"y_lo\": -1.1108765602111816, \"y_hi\": -0.5698985457420349}, {\"t\": 7.710000038146973, \"y\": -0.8741033673286438, \"y_lo\": -1.200637936592102, \"y_hi\": -0.5475687980651855}, {\"t\": 7.739999771118164, \"y\": -0.9174281358718872, \"y_lo\": -1.3014287948608398, \"y_hi\": -0.5334274768829346}, {\"t\": 7.769999980926514, \"y\": -0.9704750180244446, \"y_lo\": -1.4124455451965332, \"y_hi\": -0.528504490852356}, {\"t\": 7.799999713897705, \"y\": -1.0333198308944702, \"y_lo\": -1.533030390739441, \"y_hi\": -0.5336092710494995}, {\"t\": 7.829999923706055, \"y\": -1.1060138940811157, \"y_lo\": -1.662764549255371, \"y_hi\": -0.5492632389068604}, {\"t\": 7.859999656677246, \"y\": -1.1885666847229004, \"y_lo\": -1.8014079332351685, \"y_hi\": -0.5757254362106323}, {\"t\": 7.889999866485596, \"y\": -1.280920386314392, \"y_lo\": -1.9487662315368652, \"y_hi\": -0.6130746006965637}, {\"t\": 7.920000076293945, \"y\": -1.3828613758087158, \"y_lo\": -2.104437828063965, \"y_hi\": -0.6612849235534668}, {\"t\": 7.950000286102295, \"y\": -1.4938796758651733, \"y_lo\": -2.267458200454712, \"y_hi\": -0.7203012108802795}, {\"t\": 7.980000019073486, \"y\": -1.6128886938095093, \"y_lo\": -2.4356586933135986, \"y_hi\": -0.7901186943054199}, {\"t\": 8.010000228881836, \"y\": -1.7376800775527954, \"y_lo\": -2.604478359222412, \"y_hi\": -0.8708817362785339}, {\"t\": 8.039999961853027, \"y\": -1.8637924194335938, \"y_lo\": -2.7647464275360107, \"y_hi\": -0.9628384113311768}, {\"t\": 8.069999694824219, \"y\": -1.9827598333358765, \"y_lo\": -2.900435209274292, \"y_hi\": -1.065084457397461}, {\"t\": 8.100000381469727, \"y\": -2.0819053649902344, \"y_lo\": -2.993622303009033, \"y_hi\": -1.1701884269714355}, {\"t\": 8.130000114440918, \"y\": -2.148003339767456, \"y_lo\": -3.035658597946167, \"y_hi\": -1.2603480815887451}, {\"t\": 8.15999984741211, \"y\": -2.171186685562134, \"y_lo\": -3.0223653316497803, \"y_hi\": -1.3200080394744873}, {\"t\": 8.1899995803833, \"y\": -2.1497738361358643, \"y_lo\": -2.9498353004455566, \"y_hi\": -1.3497123718261719}, {\"t\": 8.220000267028809, \"y\": -2.090535879135132, \"y_lo\": -2.817250967025757, \"y_hi\": -1.3638207912445068}, {\"t\": 8.25, \"y\": -2.006225347518921, \"y_lo\": -2.6422932147979736, \"y_hi\": -1.3701574802398682}, {\"t\": 8.279999732971191, \"y\": -1.90926992893219, \"y_lo\": -2.459275007247925, \"y_hi\": -1.359264850616455}, {\"t\": 8.309999465942383, \"y\": -1.80767023563385, \"y_lo\": -2.305643081665039, \"y_hi\": -1.3096973896026611}, {\"t\": 8.34000015258789, \"y\": -1.7057850360870361, \"y_lo\": -2.211068630218506, \"y_hi\": -1.200501561164856}, {\"t\": 8.369999885559082, \"y\": -1.6058214902877808, \"y_lo\": -2.1797432899475098, \"y_hi\": -1.0318996906280518}, {\"t\": 8.399999618530273, \"y\": -1.508712649345398, \"y_lo\": -2.1923418045043945, \"y_hi\": -0.8250833749771118}, {\"t\": 8.429999351501465, \"y\": -1.4145902395248413, \"y_lo\": -2.2263476848602295, \"y_hi\": -0.6028327941894531}, {\"t\": 8.460000038146973, \"y\": -1.3229793310165405, \"y_lo\": -2.2640085220336914, \"y_hi\": -0.3819500207901001}, {\"t\": 8.489999771118164, \"y\": -1.2328321933746338, \"y_lo\": -2.290005922317505, \"y_hi\": -0.1756584644317627}, {\"t\": 8.519999504089355, \"y\": -1.1424810886383057, \"y_lo\": -2.2882657051086426, \"y_hi\": 0.00330352783203125}, {\"t\": 8.549999237060547, \"y\": -1.0500820875167847, \"y_lo\": -2.243215322494507, \"y_hi\": 0.1430511474609375}, {\"t\": 8.579999923706055, \"y\": -0.9552397131919861, \"y_lo\": -2.150062084197998, \"y_hi\": 0.23958271741867065}, {\"t\": 8.609999656677246, \"y\": -0.8600678443908691, \"y_lo\": -2.0212652683258057, \"y_hi\": 0.3011295795440674}, {\"t\": 8.640000343322754, \"y\": -0.7675648927688599, \"y_lo\": -1.8750158548355103, \"y_hi\": 0.3398860692977905}, {\"t\": 8.670000076293945, \"y\": -0.6801182627677917, \"y_lo\": -1.7249352931976318, \"y_hi\": 0.36469870805740356}, {\"t\": 8.700000762939453, \"y\": -0.5993265509605408, \"y_lo\": -1.5794121026992798, \"y_hi\": 0.38075900077819824}, {\"t\": 8.730000495910645, \"y\": -0.5262418985366821, \"y_lo\": -1.4436180591583252, \"y_hi\": 0.3911343216896057}, {\"t\": 8.760000228881836, \"y\": -0.4614923596382141, \"y_lo\": -1.3208329677581787, \"y_hi\": 0.3978482484817505}, {\"t\": 8.789999961853027, \"y\": -0.40534740686416626, \"y_lo\": -1.2130725383758545, \"y_hi\": 0.4023776650428772}, {\"t\": 8.820000648498535, \"y\": -0.357732355594635, \"y_lo\": -1.1212799549102783, \"y_hi\": 0.4058153033256531}, {\"t\": 8.850000381469727, \"y\": -0.3182465732097626, \"y_lo\": -1.045357584953308, \"y_hi\": 0.40886440873146057}, {\"t\": 8.880000114440918, \"y\": -0.2861731946468353, \"y_lo\": -0.9841227531433105, \"y_hi\": 0.4117763936519623}, {\"t\": 8.90999984741211, \"y\": -0.2605118453502655, \"y_lo\": -0.9353383779525757, \"y_hi\": 0.4143146574497223}, {\"t\": 8.940000534057617, \"y\": -0.2400144785642624, \"y_lo\": -0.8958383202552795, \"y_hi\": 0.4158093333244324}, {\"t\": 8.970000267028809, \"y\": -0.2232530117034912, \"y_lo\": -0.8619104623794556, \"y_hi\": 0.41540443897247314}, {\"t\": 9.0, \"y\": -0.2087528258562088, \"y_lo\": -0.8301961421966553, \"y_hi\": 0.41269052028656006}, {\"t\": 9.029999732971191, \"y\": -0.19525091350078583, \"y_lo\": -0.7993230223655701, \"y_hi\": 0.408821165561676}, {\"t\": 9.0600004196167, \"y\": -0.18194043636322021, \"y_lo\": -0.77108234167099, \"y_hi\": 0.40720146894454956}, {\"t\": 9.09000015258789, \"y\": -0.16840757429599762, \"y_lo\": -0.7490354776382446, \"y_hi\": 0.4122203588485718}, {\"t\": 9.119999885559082, \"y\": -0.15434901416301727, \"y_lo\": -0.7357966899871826, \"y_hi\": 0.4270986318588257}, {\"t\": 9.149999618530273, \"y\": -0.1394621580839157, \"y_lo\": -0.7321006655693054, \"y_hi\": 0.4531763195991516}, {\"t\": 9.180000305175781, \"y\": -0.1235172301530838, \"y_lo\": -0.737502932548523, \"y_hi\": 0.49046850204467773}, {\"t\": 9.210000038146973, \"y\": -0.10645363479852676, \"y_lo\": -0.7512650489807129, \"y_hi\": 0.5383577346801758}, {\"t\": 9.239999771118164, \"y\": -0.0884280577301979, \"y_lo\": -0.772874653339386, \"y_hi\": 0.5960184931755066}, {\"t\": 9.269999504089355, \"y\": -0.06982504576444626, \"y_lo\": -0.8022290468215942, \"y_hi\": 0.6625789403915405}, {\"t\": 9.300000190734863, \"y\": -0.05123404785990715, \"y_lo\": -0.8396180272102356, \"y_hi\": 0.7371498942375183}, {\"t\": 9.329999923706055, \"y\": -0.033410344272851944, \"y_lo\": -0.8856033682823181, \"y_hi\": 0.81878262758255}, {\"t\": 9.359999656677246, \"y\": -0.017219839617609978, \"y_lo\": -0.9408782720565796, \"y_hi\": 0.9064385890960693}, {\"t\": 9.389999389648438, \"y\": -0.0035885402467101812, \"y_lo\": -1.0061237812042236, \"y_hi\": 0.9989466667175293}, {\"t\": 9.420000076293945, \"y\": 0.006546631455421448, \"y_lo\": -1.0819023847579956, \"y_hi\": 1.0949956178665161}, {\"t\": 9.449999809265137, \"y\": 0.012278149835765362, \"y_lo\": -1.1685620546340942, \"y_hi\": 1.1931184530258179}, {\"t\": 9.479999542236328, \"y\": 0.012769579887390137, \"y_lo\": -1.2661473751068115, \"y_hi\": 1.2916865348815918}, {\"t\": 9.50999927520752, \"y\": 0.00730358948931098, \"y_lo\": -1.3741943836212158, \"y_hi\": 1.3888015747070312}, {\"t\": 9.539999961853027, \"y\": -0.004635864403098822, \"y_lo\": -1.4913169145584106, \"y_hi\": 1.482045292854309}, {\"t\": 9.569999694824219, \"y\": -0.02320052497088909, \"y_lo\": -1.6142659187316895, \"y_hi\": 1.5678648948669434}, {\"t\": 9.600000381469727, \"y\": -0.04784993454813957, \"y_lo\": -1.7359912395477295, \"y_hi\": 1.640291452407837}, {\"t\": 9.630000114440918, \"y\": -0.07687245309352875, \"y_lo\": -1.8428767919540405, \"y_hi\": 1.6891318559646606}, {\"t\": 9.65999984741211, \"y\": -0.10788848251104355, \"y_lo\": -1.9184482097625732, \"y_hi\": 1.7026712894439697}, {\"t\": 9.6899995803833, \"y\": -0.1404760479927063, \"y_lo\": -1.9601705074310303, \"y_hi\": 1.6792185306549072}, {\"t\": 9.720000267028809, \"y\": -0.17660066485404968, \"y_lo\": -1.9811816215515137, \"y_hi\": 1.6279802322387695}, {\"t\": 9.75, \"y\": -0.21829979121685028, \"y_lo\": -1.9948384761810303, \"y_hi\": 1.5582389831542969}, {\"t\": 9.779999732971191, \"y\": -0.2668420374393463, \"y_lo\": -2.00934100151062, \"y_hi\": 1.4756569862365723}, {\"t\": 9.8100004196167, \"y\": -0.3229094445705414, \"y_lo\": -2.0291600227355957, \"y_hi\": 1.3833411931991577}, {\"t\": 9.84000015258789, \"y\": -0.3867940604686737, \"y_lo\": -2.0566489696502686, \"y_hi\": 1.2830607891082764}, {\"t\": 9.869999885559082, \"y\": -0.45847636461257935, \"y_lo\": -2.0928235054016113, \"y_hi\": 1.175870656967163}, {\"t\": 9.899999618530273, \"y\": -0.537594735622406, \"y_lo\": -2.1375083923339844, \"y_hi\": 1.0623188018798828}, {\"t\": 9.930000305175781, \"y\": -0.6233872771263123, \"y_lo\": -2.1891112327575684, \"y_hi\": 0.9423367381095886}, {\"t\": 9.960000038146973, \"y\": -0.7146009802818298, \"y_lo\": -2.2442703247070312, \"y_hi\": 0.8150684237480164}, {\"t\": 9.989999771118164, \"y\": -0.8093849420547485, \"y_lo\": -2.2977752685546875, \"y_hi\": 0.67900550365448}]}}, {\"mode\": \"vega-lite\"});\n",
       "</script>"
      ],
      "text/plain": [
       "alt.HConcatChart(...)"
      ]
     },
     "execution_count": 9,
     "metadata": {},
     "output_type": "execute_result"
    }
   ],
   "source": [
    "import altair as alt\n",
    "import pandas as pd\n",
    "\n",
    "alt.data_transformers.disable_max_rows()\n",
    "\n",
    "body_idx, dof_idx = 1, 1\n",
    "\n",
    "true_chart = alt.Chart(pd.DataFrame({\n",
    "    't': ts.cpu().numpy(),\n",
    "    'y': true_zt[..., 0, body_idx, dof_idx].mean(dim=0).cpu().numpy(),\n",
    "})).mark_line(color='black',strokeDash=[5,5]).encode(x='t:Q', y=alt.Y('y:Q'))\n",
    "\n",
    "# pred_raw_chart = alt.Chart(pd.DataFrame({\n",
    "#     't': ts.unsqueeze(0).expand(pred_zt.size(0), -1).cpu().numpy().flatten(),\n",
    "#     'y': pred_zt[..., 0, body_idx, dof_idx].cpu().numpy().flatten(),\n",
    "#     'init': (torch.arange(pred_zt.size(0)) + 1).unsqueeze(-1).expand(-1, pred_zt.size(1)).cpu().numpy().flatten()\n",
    "# })).mark_line(opacity=0.5).encode(x='t:Q', y=alt.Y('y:Q'), color=alt.Color('init:N',legend=None))\n",
    "\n",
    "pred_zt_mu = pred_zt[..., 0, body_idx, dof_idx].mean(dim=0)\n",
    "pred_zt_std = pred_zt[..., 0, body_idx, dof_idx].std(dim=0)\n",
    "pred_chart = alt.Chart(pd.DataFrame({\n",
    "    't': ts.cpu().numpy(),\n",
    "    'y': pred_zt_mu.cpu().numpy(),\n",
    "    'y_lo': (pred_zt_mu - 2. * pred_zt_std).cpu().numpy(),\n",
    "    'y_hi': (pred_zt_mu + 2. * pred_zt_std).cpu().numpy(),\n",
    "})).mark_line(color='red',opacity=0.5).encode(x='t:Q', y='y:Q')\n",
    "pred_err_chart = pred_chart.mark_area(opacity=0.1,color='red').encode(y='y_lo', y2='y_hi')\n",
    "\n",
    "# chaos_raw_chart = alt.Chart(pd.DataFrame({\n",
    "#     't': ts.unsqueeze(0).expand(true_zt_chaos.size(0), -1).cpu().numpy().flatten(),\n",
    "#     'y': true_zt_chaos[..., 0, body_idx, dof_idx].cpu().numpy().flatten(),\n",
    "#     'init': (torch.arange(true_zt_chaos.size(0)) + 1).unsqueeze(-1).expand(-1, true_zt_chaos.size(1)).cpu().numpy().flatten()\n",
    "# })).mark_line(opacity=0.5).encode(x='t:Q', y=alt.Y('y:Q'), color=alt.Color('init:N',legend=None))\n",
    "\n",
    "true_zt_chaos_mu = true_zt_chaos[..., 0, body_idx, dof_idx].mean(dim=0)\n",
    "true_zt_chaos_std = true_zt_chaos[..., 0, body_idx, dof_idx].std(dim=0)\n",
    "chaos_chart = alt.Chart(pd.DataFrame({\n",
    "    't': ts.cpu().numpy(),\n",
    "    'y': true_zt_chaos_mu.cpu().numpy(),\n",
    "    'y_lo': (true_zt_chaos_mu - 2. * true_zt_chaos_std).cpu().numpy(),\n",
    "    'y_hi': (true_zt_chaos_mu + 2. * true_zt_chaos_std).cpu().numpy(),\n",
    "})).mark_line(color='blue',opacity=0.5).encode(x='t:Q', y='y:Q')\n",
    "chaos_err_chart = chaos_chart.mark_area(opacity=0.1,color='blue').encode(y='y_lo', y2='y_hi')\n",
    "\n",
    "(chaos_err_chart + chaos_chart + true_chart | pred_err_chart + pred_chart + true_chart).properties(title=f'Mass = {body_idx}, DoF = {dof_idx}; Chaos v/s Predictions')"
   ]
  },
  {
   "cell_type": "code",
   "execution_count": null,
   "metadata": {},
   "outputs": [],
   "source": []
  }
 ],
 "metadata": {
  "kernelspec": {
   "display_name": "Python 3",
   "language": "python",
   "name": "python3"
  },
  "language_info": {
   "codemirror_mode": {
    "name": "ipython",
    "version": 3
   },
   "file_extension": ".py",
   "mimetype": "text/x-python",
   "name": "python",
   "nbconvert_exporter": "python",
   "pygments_lexer": "ipython3",
   "version": "3.8.3"
  }
 },
 "nbformat": 4,
 "nbformat_minor": 4
}
