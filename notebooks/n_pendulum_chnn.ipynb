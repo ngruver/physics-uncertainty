{
 "metadata": {
  "language_info": {
   "codemirror_mode": {
    "name": "ipython",
    "version": 3
   },
   "file_extension": ".py",
   "mimetype": "text/x-python",
   "name": "python",
   "nbconvert_exporter": "python",
   "pygments_lexer": "ipython3",
   "version": "3.8.6-final"
  },
  "orig_nbformat": 2,
  "kernelspec": {
   "name": "Python 3.8.6 64-bit ('physics-uncertainty': conda)",
   "display_name": "Python 3.8.6 64-bit ('physics-uncertainty': conda)",
   "metadata": {
    "interpreter": {
     "hash": "c98489ae41496265973556a0a8d3666e6fe7c94f78d002ec8bab87b5d0584f0d"
    }
   }
  }
 },
 "nbformat": 4,
 "nbformat_minor": 2,
 "cells": [
  {
   "cell_type": "code",
   "execution_count": null,
   "metadata": {},
   "outputs": [],
   "source": [
    "import os\n",
    "import sys\n",
    "import copy\n",
    "import torch\n",
    "import numpy as np\n",
    "from pprint import pprint\n",
    "\n",
    "if os.path.abspath('..') not in sys.path:\n",
    "    sys.path.insert(0, os.path.abspath('..'))\n",
    "\n",
    "from oil.tuning.args import argupdated_config\n",
    "\n",
    "from src.train.det_trainer import make_trainer\n",
    "from src.models import CHNN\n",
    "from src.systems.chain_pendulum import ChainPendulum\n",
    "\n",
    "os.environ[\"CUDA_VISIBLE_DEVICES\"] = \"5\""
   ]
  },
  {
   "cell_type": "code",
   "execution_count": null,
   "metadata": {},
   "outputs": [],
   "source": [
    "defaults = copy.deepcopy(make_trainer.__kwdefaults__)\n",
    "defaults[\"save\"] = False\n",
    "\n",
    "cfg = defaults #argupdated_config(defaults)\n",
    "# cfg.pop('local_rank')\n",
    "save = cfg.pop('save')\n",
    "\n",
    "cfg[\"network\"] = CHNN\n",
    "cfg[\"device\"] = None # 'cuda:0' if torch.cuda.is_available() else None\n",
    "cfg[\"body\"] = ChainPendulum(3)\n",
    "cfg[\"C\"] = 10\n",
    "cfg[\"num_epochs\"] = 50\n",
    "\n",
    "pprint(cfg)"
   ]
  },
  {
   "cell_type": "code",
   "execution_count": null,
   "metadata": {},
   "outputs": [],
   "source": [
    "trainer = make_trainer(**cfg)\n",
    "trainer.train(cfg['num_epochs'])"
   ]
  },
  {
   "cell_type": "code",
   "execution_count": null,
   "metadata": {},
   "outputs": [],
   "source": [
    "from src.systems.rigid_body import project_onto_constraints\n",
    "\n",
    "z0_orig = cfg[\"body\"].sample_initial_conditions(1)\n",
    "\n",
    "eps = 2. * torch.rand_like(z0_orig.expand(10, -1, -1, -1)) - 1.\n",
    "z0 = project_onto_constraints(cfg[\"body\"].body_graph,\n",
    "                              z0_orig.expand(10, -1, -1, -1) + 0.1 * eps, tol=1e-5)\n",
    "ts = torch.arange(0., 10.0, cfg[\"body\"].dt, device=z0_orig.device, dtype=z0_orig.dtype)"
   ]
  },
  {
   "cell_type": "code",
   "execution_count": null,
   "metadata": {},
   "outputs": [],
   "source": [
    "true_zt = cfg[\"body\"].integrate(z0_orig, ts, method='rk4')\n",
    "true_zt.shape"
   ]
  },
  {
   "cell_type": "code",
   "execution_count": null,
   "metadata": {},
   "outputs": [],
   "source": [
    "true_zt_chaos = cfg[\"body\"].integrate(z0, ts, method='rk4')\n",
    "true_zt_chaos.shape"
   ]
  },
  {
   "cell_type": "code",
   "execution_count": null,
   "metadata": {},
   "outputs": [],
   "source": [
    "num_samples = 10\n",
    "pred_zt = []\n",
    "for _ in range(num_samples):\n",
    "    trainer.model.sample()\n",
    "    with torch.no_grad():\n",
    "    \tzt_pred = trainer.model.integrate_swag(z0_orig, ts, method='rk4')\n",
    "    pred_zt.append(zt_pred)\n",
    "pred_zt = torch.cat(pred_zt, dim=0)\n",
    "pred_zt.shape"
   ]
  },
  {
   "cell_type": "code",
   "execution_count": null,
   "metadata": {},
   "outputs": [],
   "source": [
    "import altair as alt\n",
    "import pandas as pd\n",
    "\n",
    "alt.data_transformers.disable_max_rows()\n",
    "\n",
    "body_idx, dof_idx = 2, 1\n",
    "\n",
    "true_chart = alt.Chart(pd.DataFrame({\n",
    "    't': ts.cpu().numpy(),\n",
    "    'y': true_zt[..., 0, body_idx, dof_idx].mean(dim=0).cpu().numpy(),\n",
    "})).mark_line(color='black',strokeDash=[5,5]).encode(x='t:Q', y=alt.Y('y:Q'))\n",
    "\n",
    "# pred_raw_chart = alt.Chart(pd.DataFrame({\n",
    "#     't': ts.unsqueeze(0).expand(pred_zt.size(0), -1).cpu().numpy().flatten(),\n",
    "#     'y': pred_zt[..., 0, body_idx, dof_idx].cpu().numpy().flatten(),\n",
    "#     'init': (torch.arange(pred_zt.size(0)) + 1).unsqueeze(-1).expand(-1, pred_zt.size(1)).cpu().numpy().flatten()\n",
    "# })).mark_line(opacity=0.5).encode(x='t:Q', y=alt.Y('y:Q'), color=alt.Color('init:N',legend=None))\n",
    "\n",
    "pred_zt_mu = pred_zt[..., 0, body_idx, dof_idx].mean(dim=0)\n",
    "pred_zt_std = pred_zt[..., 0, body_idx, dof_idx].std(dim=0)\n",
    "pred_chart = alt.Chart(pd.DataFrame({\n",
    "    't': ts.cpu().numpy(),\n",
    "    'y': pred_zt_mu.cpu().numpy(),\n",
    "    'y_lo': (pred_zt_mu - 2. * pred_zt_std).cpu().numpy(),\n",
    "    'y_hi': (pred_zt_mu + 2. * pred_zt_std).cpu().numpy(),\n",
    "})).mark_line(color='red',opacity=0.5).encode(x='t:Q', y='y:Q')\n",
    "pred_err_chart = pred_chart.mark_area(opacity=0.1,color='red').encode(y='y_lo', y2='y_hi')\n",
    "\n",
    "# chaos_raw_chart = alt.Chart(pd.DataFrame({\n",
    "#     't': ts.unsqueeze(0).expand(true_zt_chaos.size(0), -1).cpu().numpy().flatten(),\n",
    "#     'y': true_zt_chaos[..., 0, body_idx, dof_idx].cpu().numpy().flatten(),\n",
    "#     'init': (torch.arange(true_zt_chaos.size(0)) + 1).unsqueeze(-1).expand(-1, true_zt_chaos.size(1)).cpu().numpy().flatten()\n",
    "# })).mark_line(opacity=0.5).encode(x='t:Q', y=alt.Y('y:Q'), color=alt.Color('init:N',legend=None))\n",
    "\n",
    "true_zt_chaos_mu = true_zt_chaos[..., 0, body_idx, dof_idx].mean(dim=0)\n",
    "true_zt_chaos_std = true_zt_chaos[..., 0, body_idx, dof_idx].std(dim=0)\n",
    "chaos_chart = alt.Chart(pd.DataFrame({\n",
    "    't': ts.cpu().numpy(),\n",
    "    'y': true_zt_chaos_mu.cpu().numpy(),\n",
    "    'y_lo': (true_zt_chaos_mu - 2. * true_zt_chaos_std).cpu().numpy(),\n",
    "    'y_hi': (true_zt_chaos_mu + 2. * true_zt_chaos_std).cpu().numpy(),\n",
    "})).mark_line(color='blue',opacity=0.5).encode(x='t:Q', y='y:Q')\n",
    "chaos_err_chart = chaos_chart.mark_area(opacity=0.1,color='blue').encode(y='y_lo', y2='y_hi')\n",
    "\n",
    "(chaos_err_chart + chaos_chart + true_chart | pred_err_chart + pred_chart + true_chart).properties(title=f'Mass = {body_idx}, DoF = {dof_idx}; Chaos v/s Predictions')"
   ]
  },
  {
   "cell_type": "code",
   "execution_count": null,
   "metadata": {},
   "outputs": [],
   "source": []
  }
 ]
}