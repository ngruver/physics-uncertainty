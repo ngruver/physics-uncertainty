{
 "metadata": {
  "language_info": {
   "codemirror_mode": {
    "name": "ipython",
    "version": 3
   },
   "file_extension": ".py",
   "mimetype": "text/x-python",
   "name": "python",
   "nbconvert_exporter": "python",
   "pygments_lexer": "ipython3",
   "version": "3.8.6-final"
  },
  "orig_nbformat": 2,
  "kernelspec": {
   "name": "python3",
   "display_name": "Python 3"
  }
 },
 "nbformat": 4,
 "nbformat_minor": 2,
 "cells": [
  {
   "source": [
    "Use this notebook as the central place to collect all data dumps and process them into figures for _Relative error plots_."
   ],
   "cell_type": "markdown",
   "metadata": {}
  },
  {
   "cell_type": "code",
   "execution_count": 1,
   "metadata": {},
   "outputs": [],
   "source": [
    "import os\n",
    "import sys\n",
    "import torch\n",
    "import altair as alt\n",
    "import pandas as pd\n",
    "import numpy as np\n",
    "\n",
    "alt.data_transformers.disable_max_rows();\n"
   ]
  },
  {
   "cell_type": "code",
   "execution_count": 2,
   "metadata": {},
   "outputs": [
    {
     "output_type": "execute_result",
     "data": {
      "text/plain": [
       "torch.Size([10, 5, 334, 2, 3, 2])"
      ]
     },
     "metadata": {},
     "execution_count": 2
    }
   ],
   "source": [
    "swag_dump_path = '../.log/de-3body/files/data.pt'\n",
    "de_dump_path = '../.log/swag-3body/files/data.pt'\n",
    "\n",
    "assert os.path.isfile(swag_dump_path)\n",
    "assert os.path.isfile(de_dump_path)\n",
    "\n",
    "swag_dump = torch.load(swag_dump_path)\n",
    "de_dump = torch.load(de_dump_path)\n",
    "\n",
    "ts = swag_dump.get('ts')\n",
    "z0_orig = swag_dump.get('z0_orig')\n",
    "true_zt = swag_dump.get('true_zt')\n",
    "true_zt_chaos = swag_dump.get('true_zt_chaos').permute(1, 0, 2, 3, 4, 5)\n",
    "swag_pred_zt = swag_dump.get('pred_zt')\n",
    "de_pred_zt = de_dump.get('pred_zt')\n",
    "\n",
    "assert true_zt_chaos.shape[1:] == true_zt.shape\n",
    "assert true_zt_chaos.shape == swag_pred_zt.shape\n",
    "assert de_pred_zt.shape == swag_pred_zt.shape\n",
    "\n",
    "true_zt_chaos.shape"
   ]
  },
  {
   "cell_type": "code",
   "execution_count": 3,
   "metadata": {},
   "outputs": [],
   "source": [
    "def compute_rel_error(ref, pred):\n",
    "    '''\n",
    "    N is the number of initial conditions.\n",
    "    M is the number of samples in prediction\n",
    "    The first dimension \"2\" corresponds to position + velocity.\n",
    "    B is the number of bodies.\n",
    "    The last dimension \"2\" corresponds to xy.\n",
    "\n",
    "    Arguments:\n",
    "    ref: N x T x 2 x B x 2\n",
    "    pred: M x N x T x 2 x B x 2\n",
    "    '''\n",
    "    delta_z = ref.unsqueeze(0) - pred  # M x N x T x 2 x B x 2\n",
    "    all_err = delta_z.pow(2).sum(dim=-1).sum(dim=-1).sum(dim=-1).sqrt()  # M x N x T\n",
    "\n",
    "    sum_z = ref.unsqueeze(0) + pred  # M x N x T x 2 x B x 2\n",
    "    pred_rel_err = all_err / sum_z.pow(2).sum(dim=-1).sum(dim=-1).sum(dim=-1).sqrt()  # M x N x T\n",
    "\n",
    "    return pred_rel_err"
   ]
  },
  {
   "cell_type": "code",
   "execution_count": 4,
   "metadata": {},
   "outputs": [],
   "source": [
    "true_rel_err = compute_rel_error(true_zt, true_zt_chaos)\n",
    "swag_rel_err = compute_rel_error(true_zt, swag_pred_zt)\n",
    "de_rel_err = compute_rel_error(true_zt, de_pred_zt)"
   ]
  },
  {
   "cell_type": "code",
   "execution_count": 24,
   "metadata": {},
   "outputs": [],
   "source": [
    "def plot_rel_err(ref, swag, de):\n",
    "    '''\n",
    "    ref: M x T\n",
    "    swag: M x T\n",
    "    de: M x T\n",
    "    '''\n",
    "    ref_mean = ref.mean(0).cpu().numpy()\n",
    "    ref_std = ref.std(0).cpu().numpy()\n",
    "\n",
    "    ref_mean_chart = alt.Chart(pd.DataFrame({\n",
    "        't': ts.cpu().numpy(),\n",
    "        'y': ref_mean,\n",
    "        'y_hi': ref_mean + 2. * ref_std,\n",
    "        'y_lo': np.clip(ref_mean - 2. * ref_std, 0.0, np.inf),\n",
    "    })).mark_line(color='gray').encode(x='t', y=alt.Y('y', title='Relative Error'))\n",
    "    ref_err_chart = ref_mean_chart.mark_area(color='gray', opacity=0.25).encode(\n",
    "        x='t', y=alt.Y('y_lo', title='Relative Error'), y2='y_hi')\n",
    "    ref_chart = ref_err_chart + ref_mean_chart\n",
    "\n",
    "    de_mean = de.mean(0).cpu().numpy()\n",
    "    de_std = de.std(0).cpu().numpy()\n",
    "\n",
    "    de_mean_chart = alt.Chart(pd.DataFrame({\n",
    "        't': ts.cpu().numpy(),\n",
    "        'y': de_mean,\n",
    "        'y_hi': de_mean + 2. * de_std,\n",
    "        'y_lo': np.clip(de_mean - 2. * de_std, 0.0, np.inf),\n",
    "    })).mark_line(color='blue',opacity=0.8).encode(x='t', y='y')\n",
    "    de_hi_chart = de_mean_chart.mark_line(color='blue',opacity=0.8,strokeDash=[2,2]).encode(x='t', y='y_hi')\n",
    "    de_lo_chart = de_mean_chart.mark_line(color='blue',opacity=0.8,strokeDash=[2,2]).encode(x='t', y='y_lo')\n",
    "    de_chart = de_mean_chart + de_hi_chart + de_lo_chart\n",
    "\n",
    "    swag_mean = swag.mean(0).cpu().numpy()\n",
    "    swag_std = swag.std(0).cpu().numpy()\n",
    "\n",
    "    swag_mean_chart = alt.Chart(pd.DataFrame({\n",
    "        't': ts.cpu().numpy(),\n",
    "        'y': swag_mean,\n",
    "        'y_hi': swag_mean + 2. * swag_std,\n",
    "        'y_lo': np.clip(swag_mean - 2. * swag_std, 0.0, np.inf),\n",
    "    })).mark_line(color='red',opacity=.8).encode(x='t', y='y')\n",
    "    swag_hi_chart = swag_mean_chart.mark_line(color='red',opacity=0.8,strokeDash=[2,2]).encode(x='t', y='y_hi')\n",
    "    swag_lo_chart = swag_mean_chart.mark_line(color='red',opacity=0.8,strokeDash=[2,2]).encode(x='t', y='y_lo')\n",
    "    swag_chart = swag_mean_chart + swag_hi_chart + swag_lo_chart\n",
    "\n",
    "    return de_chart + swag_chart + ref_chart"
   ]
  },
  {
   "cell_type": "code",
   "execution_count": 26,
   "metadata": {},
   "outputs": [],
   "source": [
    "for eval_idx in range(5):\n",
    "    pl = plot_rel_err(true_rel_err[:, eval_idx, ...], swag_rel_err[:, eval_idx, ...], de_rel_err[:, eval_idx, ...])\n",
    "    # pl.save(f'eval{eval_idx + 1}_rel_err.json')"
   ]
  },
  {
   "cell_type": "code",
   "execution_count": null,
   "metadata": {},
   "outputs": [],
   "source": []
  }
 ]
}