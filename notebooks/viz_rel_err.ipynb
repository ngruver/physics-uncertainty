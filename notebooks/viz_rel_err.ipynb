{
 "metadata": {
  "language_info": {
   "codemirror_mode": {
    "name": "ipython",
    "version": 3
   },
   "file_extension": ".py",
   "mimetype": "text/x-python",
   "name": "python",
   "nbconvert_exporter": "python",
   "pygments_lexer": "ipython3",
   "version": "3.8.6-final"
  },
  "orig_nbformat": 2,
  "kernelspec": {
   "name": "python3",
   "display_name": "Python 3"
  }
 },
 "nbformat": 4,
 "nbformat_minor": 2,
 "cells": [
  {
   "source": [
    "Use this notebook as the central place to collect all data dumps and process them into figures for _Relative error plots_."
   ],
   "cell_type": "markdown",
   "metadata": {}
  },
  {
   "cell_type": "code",
   "execution_count": null,
   "metadata": {},
   "outputs": [],
   "source": [
    "import os\n",
    "import sys\n",
    "import torch\n",
    "import altair as alt\n",
    "import pandas as pd\n",
    "import numpy as np\n",
    "\n",
    "alt.data_transformers.disable_max_rows();\n"
   ]
  },
  {
   "cell_type": "code",
   "execution_count": null,
   "metadata": {},
   "outputs": [],
   "source": [
    "## TODO: change this to the dump path.\n",
    "data_dump_path = '../.log/swag-3body/files/data.pt'\n",
    "\n",
    "assert os.path.isfile(data_dump_path)\n",
    "\n",
    "data_dump = torch.load(data_dump_path)\n",
    "\n",
    "ts = data_dump.get('ts')\n",
    "z0_orig = data_dump.get('z0_orig')\n",
    "true_zt = data_dump.get('true_zt')\n",
    "true_zt_chaos = data_dump.get('true_zt_chaos').permute(1, 0, 2, 3, 4, 5)\n",
    "pred_zt = data_dump.get('pred_zt')"
   ]
  },
  {
   "cell_type": "code",
   "execution_count": null,
   "metadata": {},
   "outputs": [],
   "source": [
    "def compute_rel_error(ref, pred):\n",
    "    '''\n",
    "    N is the number of initial conditions.\n",
    "    M is the number of samples in prediction\n",
    "    The first dimension \"2\" corresponds to position + velocity.\n",
    "    B is the number of bodies.\n",
    "    The last dimension \"2\" corresponds to xy.\n",
    "\n",
    "    Arguments:\n",
    "    ref: N x T x 2 x B x 2\n",
    "    pred: M x N x T x 2 x B x 2\n",
    "    '''\n",
    "    delta_z = ref.unsqueeze(0) - pred  # M x N x T x 2 x B x 2\n",
    "    all_err = delta_z.pow(2).sum(dim=-1).sum(dim=-1).sum(dim=-1).sqrt()  # M x N x T\n",
    "\n",
    "    sum_z = ref.unsqueeze(0) + pred  # M x N x T x 2 x B x 2\n",
    "    pred_rel_err = all_err / sum_z.pow(2).sum(dim=-1).sum(dim=-1).sum(dim=-1).sqrt()  # M x N x T\n",
    "\n",
    "    return pred_rel_err"
   ]
  },
  {
   "cell_type": "code",
   "execution_count": null,
   "metadata": {},
   "outputs": [],
   "source": [
    "true_rel_err = compute_rel_error(true_zt, true_zt_chaos)\n",
    "pred_rel_err = compute_rel_error(true_zt, pred_zt)"
   ]
  },
  {
   "cell_type": "code",
   "execution_count": null,
   "metadata": {},
   "outputs": [],
   "source": [
    "def plot_rel_err(rel_err, color):\n",
    "    y_mean = rel_err.mean(0).cpu().numpy()\n",
    "    y_std = rel_err.std(0).cpu().numpy()\n",
    "\n",
    "    err_mean_chart = alt.Chart(pd.DataFrame({\n",
    "        't': ts.cpu().numpy(),\n",
    "        'y': y_mean,\n",
    "        'y_hi': y_mean + 2. * y_std,\n",
    "        'y_lo': np.clip(y_mean - 2. * y_std, 0.0, np.inf),\n",
    "    })).mark_line(color=color, opacity=0.7).encode(x='t', y='y')\n",
    "    err_std_chart = err_mean_chart.mark_area(color=color, opacity=0.2).encode(\n",
    "        x='t', y=alt.Y('y_lo', title='Relative Error'), y2='y_hi')\n",
    "\n",
    "    return err_mean_chart + err_std_chart\n"
   ]
  },
  {
   "cell_type": "code",
   "execution_count": null,
   "metadata": {},
   "outputs": [],
   "source": [
    "idx = 0\n",
    "rel_err_chart = plot_rel_err(true_rel_err[:, idx, ...], 'blue') + plot_rel_err(pred_rel_err[:, idx, ...], 'red')\n",
    "# rel_err_chart.save('chart.json')"
   ]
  }
 ]
}